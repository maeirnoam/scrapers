{
 "cells": [
  {
   "cell_type": "code",
   "execution_count": 1,
   "id": "c168b800",
   "metadata": {},
   "outputs": [],
   "source": [
    "from bs4 import BeautifulSoup\n",
    "import re\n",
    "import requests \n",
    "import pandas as pd"
   ]
  },
  {
   "cell_type": "code",
   "execution_count": 3,
   "id": "d02c13ba",
   "metadata": {},
   "outputs": [],
   "source": [
    "# Perform login\n",
    "def get_payload():\n",
    "    log_in_data = BeautifulSoup(requests.get(login_url).text, 'html.parser')\n",
    "    viewstate = log_in_data.find('input', {'name':'__VIEWSTATE'})['value']\n",
    "    viewstategenerator = log_in_data.find('input', {'name':'__VIEWSTATEGENERATOR'})['value']\n",
    "    return {\n",
    "    \"ctl00$ContentPlaceHolder1$LoginForm1$Login1$UserName\": \"noam.maeir@mail.huji.ac.il\",#\"ENTER YOUR USER NAME\",\n",
    "    \"ctl00$ContentPlaceHolder1$LoginForm1$Login1$Password\": \"Kids1120\",#\"ENTER YOUR PASSWORD\",\n",
    "    '__VIEWSTATE':viewstate,\n",
    "    \"__VIEWSTATEGENERATOR\":viewstategenerator,\n",
    "    \"__EVENTTARGET\":\"\",\n",
    "    \"__EVENTARGUMENT\":\"\",\n",
    "    \"ctl00$ContentPlaceHolder1$LoginForm1$Login1$LoginButton\":\"התחבר\"}"
   ]
  },
  {
   "cell_type": "code",
   "execution_count": 5,
   "id": "55abd3dd",
   "metadata": {},
   "outputs": [
    {
     "name": "stdout",
     "output_type": "stream",
     "text": [
      "\r\n",
      "                1.\r\n",
      "                ????\r\n",
      "                \r\n",
      "                ????\r\n",
      "                ????\r\n",
      "                נ' \r\n",
      "                ????\r\n",
      "                ????\r\n",
      "            \n"
     ]
    },
    {
     "ename": "TypeError",
     "evalue": "can only concatenate str (not \"NoneType\") to str",
     "output_type": "error",
     "traceback": [
      "\u001b[1;31m---------------------------------------------------------------------------\u001b[0m",
      "\u001b[1;31mTypeError\u001b[0m                                 Traceback (most recent call last)",
      "\u001b[1;32m<ipython-input-5-468bea700dd2>\u001b[0m in \u001b[0;36m<module>\u001b[1;34m\u001b[0m\n\u001b[0;32m     52\u001b[0m             \u001b[1;32mwith\u001b[0m \u001b[0mopen\u001b[0m\u001b[1;33m(\u001b[0m\u001b[0mfolder_path\u001b[0m\u001b[1;33m+\u001b[0m\u001b[0mcase_number\u001b[0m\u001b[1;33m+\u001b[0m\u001b[1;34m'.doc'\u001b[0m\u001b[1;33m,\u001b[0m \u001b[1;34m'wb'\u001b[0m\u001b[1;33m)\u001b[0m \u001b[1;32mas\u001b[0m \u001b[0mfile\u001b[0m\u001b[1;33m:\u001b[0m\u001b[1;33m\u001b[0m\u001b[1;33m\u001b[0m\u001b[0m\n\u001b[0;32m     53\u001b[0m                 \u001b[1;31m#print(domain+word_link.get('href'))\u001b[0m\u001b[1;33m\u001b[0m\u001b[1;33m\u001b[0m\u001b[1;33m\u001b[0m\u001b[0m\n\u001b[1;32m---> 54\u001b[1;33m                 \u001b[0mresponsetemp\u001b[0m \u001b[1;33m=\u001b[0m \u001b[0msession\u001b[0m\u001b[1;33m.\u001b[0m\u001b[0mget\u001b[0m\u001b[1;33m(\u001b[0m\u001b[0mdomain\u001b[0m\u001b[1;33m+\u001b[0m\u001b[0mword_link\u001b[0m\u001b[1;33m.\u001b[0m\u001b[0mget\u001b[0m\u001b[1;33m(\u001b[0m\u001b[1;34m'href'\u001b[0m\u001b[1;33m)\u001b[0m\u001b[1;33m)\u001b[0m\u001b[1;33m\u001b[0m\u001b[1;33m\u001b[0m\u001b[0m\n\u001b[0m\u001b[0;32m     55\u001b[0m                 \u001b[0mfile\u001b[0m\u001b[1;33m.\u001b[0m\u001b[0mwrite\u001b[0m\u001b[1;33m(\u001b[0m\u001b[0mresponsetemp\u001b[0m\u001b[1;33m.\u001b[0m\u001b[0mcontent\u001b[0m\u001b[1;33m)\u001b[0m\u001b[1;33m\u001b[0m\u001b[1;33m\u001b[0m\u001b[0m\n\u001b[0;32m     56\u001b[0m             \u001b[0mcount\u001b[0m\u001b[1;33m+=\u001b[0m\u001b[1;36m1\u001b[0m\u001b[1;33m\u001b[0m\u001b[1;33m\u001b[0m\u001b[0m\n",
      "\u001b[1;31mTypeError\u001b[0m: can only concatenate str (not \"NoneType\") to str"
     ]
    }
   ],
   "source": [
    "login_url = \"https://www.nevo.co.il/Authentication/UserLogin.aspx\"\n",
    "url = \"https://www.nevo.co.il/SearchResults.aspx?query=caa9cb13-d496-4cad-94e4-a46f0fab0a92\"\n",
    "domain = \"https://www.nevo.co.il\"\n",
    "folder_path = 'C:\\\\Users\\\\User\\\\PycharmProjects\\\\scrapers'\n",
    "\n",
    "session = requests.session()\n",
    "\n",
    "result = session.post(login_url, data = get_payload())\n",
    "\n",
    "# Scrape url\n",
    "count = 0 \n",
    "sentences = {}\n",
    "while True:\n",
    "    response = session.get(url)\n",
    "    data = response.text\n",
    "    soup = BeautifulSoup(data, \"html.parser\")\n",
    "    docs = soup.find_all('div',{'role':\"article\"})\n",
    "    for doc in docs:\n",
    "        word_link = doc.find('div', {'class':'documentsLinks'}).find('a',{'title':'הורדת Word'})\n",
    "        pdf_link = doc.find('div',{'class':'documentsLinks'}).find('a',{'title':'הורדת PDF'})\n",
    "        title = doc.find('h5').text\n",
    "        case_number = re.search('[0-9]+-([0-9][0-9]-)?[0-9][0-9]', title)\n",
    "        court = re.search('\\(.*\\)', title)\n",
    "        defendant_name = re.search('נ\\'.*',title, re.S)\n",
    "        date = doc.find('div', {'class':'resultProperties'}).find('span', string=re.compile('[0-9][0-9]/[0-9][0-9]/[0-9][0-9]')).text\n",
    "        #print(date)\n",
    "        defendant_fname = \"\"\n",
    "        defendant_lname = \"\"\n",
    "        if hasattr(case_number, 'group'):\n",
    "            case_number = case_number.group(0)\n",
    "        else:\n",
    "            case_number = str(count)\n",
    "        if hasattr(court, 'group'):\n",
    "            court = court.group(0).strip(\"()\")\n",
    "        else:\n",
    "            court =\"\"\n",
    "        if hasattr(defendant_name, 'group'):\n",
    "            defendant_name = defendant_name.group(0).splitlines()[1].strip()\n",
    "        else:\n",
    "            defendant_name =\" \"\n",
    "        if len(defendant_name.split(\" \",1))==2:\n",
    "            defendant_fname=defendant_name.split(\" \",1)[0]\n",
    "            defendant_lname = defendant_name.split(\" \", 1)[1]\n",
    "        else:\n",
    "            defendant_fname=defendant_name.split(\" \",1)[0]\n",
    "        #print(word_link)\n",
    "        print(title)\n",
    "        #print(case_number)\n",
    "        #print(court)\n",
    "        #print(defendant_name)\n",
    "        if word_link:\n",
    "            with open(folder_path+case_number+'.doc', 'wb') as file:\n",
    "                #print(domain+word_link.get('href'))\n",
    "                responsetemp = session.get(domain+word_link.get('href'))\n",
    "                file.write(responsetemp.content)\n",
    "            count+=1\n",
    "        else: \n",
    "            if pdf_link:\n",
    "                with open(folder_path+case_number+'.pdf', 'wb') as file:\n",
    "                    print(domain+pdf_link.get('href'))\n",
    "                    responsetemp = session.get(domain+pdf_link.get('href'))\n",
    "                    file.write(responsetemp.content)\n",
    "                count+=1\n",
    "        sentences[count] = [case_number, court, date, defendant_fname, defendant_lname]\n",
    "    url_tag = soup.find('a',{'id':'ContentPlaceHolder1_SearchResultsTemplate1_Paging2_btnNext'})\n",
    "    if url_tag.get('href'):\n",
    "        url = domain + url_tag.get('href')\n",
    "        #print(url)\n",
    "    else:\n",
    "        break\n",
    "print(count)\n",
    "sentences_df = pd.DataFrame.from_dict(sentences, orient=\"index\", columns=['caseNumber', 'court','sentenceDate', 'defendantFName', 'defendantLName'])\n",
    "sentences_df.to_csv(folder_path+\"TrialScrape.csv\",  encoding=\"utf_8-sig\")"
   ]
  },
  {
   "cell_type": "code",
   "execution_count": null,
   "id": "e1bcffe5",
   "metadata": {},
   "outputs": [],
   "source": []
  }
 ],
 "metadata": {
  "kernelspec": {
   "display_name": "Python 3",
   "language": "python",
   "name": "python3"
  },
  "language_info": {
   "codemirror_mode": {
    "name": "ipython",
    "version": 3
   },
   "file_extension": ".py",
   "mimetype": "text/x-python",
   "name": "python",
   "nbconvert_exporter": "python",
   "pygments_lexer": "ipython3",
   "version": "3.8.8"
  }
 },
 "nbformat": 4,
 "nbformat_minor": 5
}
