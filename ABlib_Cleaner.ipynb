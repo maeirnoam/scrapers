{
 "cells": [
  {
   "cell_type": "code",
   "execution_count": 69,
   "metadata": {},
   "outputs": [],
   "source": [
    "import re"
   ]
  },
  {
   "cell_type": "code",
   "execution_count": null,
   "metadata": {},
   "outputs": [],
   "source": [
    "#paramaters to define\n",
    "name = \"Halaj\" #name of textfile received from AB scraper (author_name = 'منصور حلاج'+author_eng = 'Halaj)\n",
    "path = \"\" #path to the file \n",
    "cleaned_name = 'al-Hallaj' # strip arabic from name"
   ]
  },
  {
   "cell_type": "code",
   "execution_count": 74,
   "metadata": {},
   "outputs": [],
   "source": [
    "main(name, path, cleaned_name)"
   ]
  },
  {
   "cell_type": "code",
   "execution_count": 75,
   "metadata": {},
   "outputs": [],
   "source": [
    "def main(name, path, cleaned_name):\n",
    "    text = get_text(name, path)\n",
    "    pages_list = process_text(text)\n",
    "    write_to_file(pages_list, cleaned_name)\n",
    "    \n",
    "def get_text(name, path):    \n",
    "    text_file = open(f'{path}{name}.txt', \"r\", encoding='utf-8')\n",
    "    ab_text = text_file.read()    \n",
    "    text_file.close()\n",
    "    return ab_text\n",
    "\n",
    "def process_text(text):\n",
    "    page_details = re.compile(\n",
    "    r'({\"content\":\")(?P<content>.+?)(\\\")(?P<description>.+?)\"footnote\":\"(?P<footnote>.*?)(\\\")(.+?\":\"\\s+)(?P<page>\\d+)'\n",
    "    , re.DOTALL|re.MULTILINE|re.U)\n",
    "    all_pages = []\n",
    "    for match in re.finditer(page_details, ab_text):\n",
    "        page = cleaning(match.group('content'))\n",
    "        footnote = cleaning(match.group('footnote'))\n",
    "        page_num = match.group('page')\n",
    "        page_dict = {'page':page_num,'content':page, 'footnote':footnote}\n",
    "        all_pages.append(page_dict)\n",
    "    return all_pages\n",
    "\n",
    "def write_to_file(all_pages, filename):    \n",
    "    text_file = open(f\"{filename}.txt\", \"w\", encoding='utf-8')\n",
    "    for page in all_pages:\n",
    "        text_file.write(f\"Page: {page['page']}\")\n",
    "        text_file.write(page['content'])\n",
    "        if page['footnote'] != \"\":\n",
    "            text_file.write(f\"Footnote: {page['footnote']}\")\n",
    "    text_file.close()\n",
    "    \n",
    "def cleaning(text):\n",
    "    trash = '\\\\r\\\\n'\n",
    "    clean = '\\n'\n",
    "    \n",
    "    if text != \"\":\n",
    "        return text.replace(trash, clean)\n",
    "    else:\n",
    "        return text"
   ]
  }
 ],
 "metadata": {
  "kernelspec": {
   "display_name": "Python 3",
   "language": "python",
   "name": "python3"
  },
  "language_info": {
   "codemirror_mode": {
    "name": "ipython",
    "version": 3
   },
   "file_extension": ".py",
   "mimetype": "text/x-python",
   "name": "python",
   "nbconvert_exporter": "python",
   "pygments_lexer": "ipython3",
   "version": "3.7.4"
  }
 },
 "nbformat": 4,
 "nbformat_minor": 2
}
