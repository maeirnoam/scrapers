{
 "cells": [
  {
   "cell_type": "code",
   "execution_count": 1,
   "metadata": {},
   "outputs": [],
   "source": [
    "import os\n",
    "import img2pdf\n",
    "import re\n"
   ]
  },
  {
   "cell_type": "code",
   "execution_count": 2,
   "metadata": {},
   "outputs": [],
   "source": [
    "def atoi(text):\n",
    "    return int(text) if text.isdigit() else text\n",
    "\n",
    "def natural_keys(text):\n",
    "    '''\n",
    "    alist.sort(key=natural_keys) sorts in human order\n",
    "    '''\n",
    "    return [ atoi(c) for c in re.split(r'(\\d+)', text) ]"
   ]
  },
  {
   "cell_type": "code",
   "execution_count": 5,
   "metadata": {},
   "outputs": [],
   "source": [
    "folder_list = ['Vat. Sir. 93']#, 'Vat. Sir. 122', 'Vat. Sir. 123', 'Vat. Sir. 125', 'Vat. Sir. 126.pt.2', 'Vat. Sir. 376', 'Vat. Sir. 377', 'BALA_0113']\n",
    "for folder in folder_list:\n",
    "    path = f'C:\\\\Users\\\\owner\\\\PycharmProjects\\\\Scrapers\\\\scrapers\\\\{folder}'\n",
    "    os.chdir(path)\n",
    "    \n",
    "    alist = [i for i in os.listdir(os.getcwd()) if i.endswith(\".jpg\")]\n",
    "    alist.sort(key=natural_keys)\n",
    "\n",
    "    with open(f\"{folder}.pdf\", \"wb\") as f:\n",
    "        f.write(img2pdf.convert([i for i in alist]))\n"
   ]
  },
  {
   "cell_type": "code",
   "execution_count": 12,
   "metadata": {},
   "outputs": [],
   "source": [
    "path = 'C:\\\\Users\\\\owner\\\\PycharmProjects\\\\Scrapers\\\\scrapers\\\\CET_0076'\n",
    "os.chdir(path) \n",
    "\n",
    "with open(\"CET_76.pdf\", \"wb\") as f:\n",
    "    f.write(img2pdf.convert([i for i in alist]))"
   ]
  }
 ],
 "metadata": {
  "kernelspec": {
   "display_name": "Python 3",
   "language": "python",
   "name": "python3"
  },
  "language_info": {
   "codemirror_mode": {
    "name": "ipython",
    "version": 3
   },
   "file_extension": ".py",
   "mimetype": "text/x-python",
   "name": "python",
   "nbconvert_exporter": "python",
   "pygments_lexer": "ipython3",
   "version": "3.7.0"
  }
 },
 "nbformat": 4,
 "nbformat_minor": 2
}
