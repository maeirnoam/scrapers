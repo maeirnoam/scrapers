{
 "cells": [
  {
   "cell_type": "code",
   "execution_count": 13,
   "metadata": {},
   "outputs": [],
   "source": [
    "import pandas as pd\n",
    "from bs4 import BeautifulSoup\n",
    "import lxml\n",
    "import requests\n",
    "from PIL import Image \n",
    "import io\n",
    "import re\n",
    "import os\n",
    "from fpdf import FPDF\n",
    "import urllib\n",
    "from urllib.request import Request, urlopen, HTTPSHandler\n",
    "import time\n",
    "import requests\n",
    "import shutil\n",
    "from requests_toolbelt.auth.handler import AuthHandler"
   ]
  },
  {
   "cell_type": "code",
   "execution_count": 14,
   "metadata": {},
   "outputs": [],
   "source": [
    "def scrape_from_link(link, ms_name, page, session):\n",
    "    print('starting to scrape folio {}...'.format(page))\n",
    "    s = session.get(link)\n",
    "    soup = BeautifulSoup(s.content, 'html.parser')\n",
    "    path = 'C:\\\\Users\\\\owner\\\\PycharmProjects\\\\Scrapers\\\\scrapers\\\\{}\\\\{}.jpg'.format(ms_name,page)\n",
    "    if s.status_code == 200:\n",
    "        s.raw.decode_content = True\n",
    "        with open(path,'wb') as f:\n",
    "            for chunk in s:\n",
    "                f.write(chunk)\n",
    "    else:\n",
    "        print('status problem: {}'.format(s.status_code))"
   ]
  },
  {
   "cell_type": "code",
   "execution_count": 23,
   "metadata": {},
   "outputs": [],
   "source": [
    "\n",
    "#this goes straight at the top        \n",
    "def scrape_vatican_jpgs(first_page, last_page):\n",
    "        \n",
    "    last = re.search(single_page_reg, last_page)\n",
    "    first = re.search(single_page_reg, first_page)\n",
    "    \n",
    "    ms_name = f'Vat. Sir. {first.group(\"ms\")}'\n",
    "    ms_title = first.group('title')\n",
    "    ms_end = first.group('end')\n",
    "    \n",
    "    \n",
    "    first_digi_page = int(first.group('page'))\n",
    "    first_ms_folio = int(first.group('folio'))\n",
    "    first_folio_side = first.group('side')\n",
    "    \n",
    "    last_digi_page = int(last.group('page'))\n",
    "    last_ms_folio = int(last.group('folio'))\n",
    "    last_folio_side = last.group('side')\n",
    "    \n",
    "    #single_pages = [f\"{i:03d}\" for i in range(first_digi_page, last_digi_page+1)]\n",
    "    \n",
    "    os.makedirs(ms_name, exist_ok=True)\n",
    "    session = requests.Session()\n",
    "\n",
    "    #if first link folio is v\n",
    "#     first_page = 'https://digi.vatlib.it/iiifimage/MSS_Vat.sir.93/Vat.sir.93_0014_fa_0003v.jp2/full/463,/0/native.jpg'\n",
    "#     scrape_from_link(first_page, ms_name, f'{first_digi_page} v', session)\n",
    "#    folio_count = first_ms_folio+1\n",
    "\n",
    "    folio_count = first_ms_folio\n",
    "    page_count = first_digi_page\n",
    "    for i in range(last_ms_folio-1):\n",
    "        try:\n",
    "            link_r = f'{ms_title}{str(page_count).zfill(4)}_fa_{str(folio_count).zfill(4)}r{ms_end}'\n",
    "            print(link_r)\n",
    "            scrape_from_link(link_r, ms_name, f'{page_count} r', session)\n",
    "            page_count = page_count+1\n",
    "        except Exception as e:\n",
    "            print(e)\n",
    "        try:\n",
    "            link_v = f'{ms_title}{str(page_count).zfill(4)}_fa_{str(folio_count).zfill(4)}v{ms_end}'\n",
    "            print(link_v)\n",
    "            scrape_from_link(link_v, ms_name, f'{page_count} v', session)\n",
    "            page_count = page_count+1\n",
    "            folio_count = folio_count+1\n",
    "        except Exception as e:\n",
    "            print(e)\n",
    "        \n",
    "            \n"
   ]
  },
  {
   "cell_type": "code",
   "execution_count": 63,
   "metadata": {},
   "outputs": [],
   "source": [
    "\n",
    "#this goes straight at the top        \n",
    "def scrape_vatican_jpgsII(ms_name, first_page, first_folio, first_side, last_page, last_folio, last_side):\n",
    "    \n",
    "    full_ms_name = f'Vat. Sir. {ms_name}'\n",
    "    \n",
    "    ms_title = f'https://digi.vatlib.it/iiifimage/MSS_Vat.sir.{ms_name}/Vat.sir.{ms_name}_'\n",
    "    ms_end = '.jp2/full/full/0/native.jpg'\n",
    "    just_page_end = '.jp2/full/full/0/native.jpg'\n",
    "\n",
    "    first_digi_page = int(first_page)\n",
    "    first_ms_folio = int(first_folio)\n",
    "    first_folio_side = first_side\n",
    "    \n",
    "    last_digi_page = int(last_page)\n",
    "    last_ms_folio = int(last_folio)\n",
    "    last_folio_side = last_side\n",
    "        \n",
    "    os.makedirs(full_ms_name, exist_ok=True)\n",
    "    session = requests.Session()\n",
    "    \n",
    "    current_side = first_side\n",
    "    folio_count = first_ms_folio\n",
    "    page_count = first_digi_page\n",
    "    \n",
    "    if first_folio==0: #just pages, no folio in link\n",
    "        for i in range(last_page-first_page+1):\n",
    "            try:\n",
    "                link = f'{ms_title}{str(page_count).zfill(4)}{just_page_end}'\n",
    "                print(link)\n",
    "                scrape_from_link(link, full_ms_name, f'{page_count}', session)\n",
    "                page_count = page_count+1\n",
    "            except Exception as e:\n",
    "                print(e)\n",
    "    else: #have folios, but need to check sides\n",
    "        for i in range(last_page-first_page+1):\n",
    "            try:\n",
    "                if current_side=='r':\n",
    "                    link_r = f'{ms_title}{str(page_count).zfill(4)}_fa_{str(folio_count).zfill(4)}r{ms_end}'\n",
    "                    print(link_r)\n",
    "                    scrape_from_link(link_r, full_ms_name, f'{folio_count} r', session)\n",
    "                    page_count = page_count+1\n",
    "                    current_side = 'v'\n",
    "                if current_side=='v':\n",
    "                    link_v = f'{ms_title}{str(page_count).zfill(4)}_fa_{str(folio_count).zfill(4)}v{ms_end}'\n",
    "                    print(link_v)\n",
    "                    scrape_from_link(link_v, full_ms_name, f'{folio_count} v', session)\n",
    "                    page_count = page_count+1\n",
    "                    folio_count = folio_count+1\n",
    "                    current_side = 'r'\n",
    "                else: #current_side==''\n",
    "                    link = f'{ms_title}{str(page_count).zfill(4)}_pa_{str(folio_count).zfill(4)}{ms_end}'\n",
    "                    print(link)\n",
    "                    scrape_from_link(link, full_ms_name, f'{folio_count}', session)\n",
    "                    page_count = page_count+1\n",
    "                    folio_count = folio_count+1\n",
    "\n",
    "            except Exception as e:\n",
    "                print(e)\n",
    "\n",
    "            "
   ]
  },
  {
   "cell_type": "code",
   "execution_count": null,
   "metadata": {},
   "outputs": [
    {
     "name": "stdout",
     "output_type": "stream",
     "text": [
      "https://digi.vatlib.it/iiifimage/MSS_Vat.sir.122/Vat.sir.122_0005_pa_0001.jp2/full/full/0/native.jpg\n",
      "starting to scrape page 1...\n"
     ]
    },
    {
     "name": "stderr",
     "output_type": "stream",
     "text": [
      "Some characters could not be decoded, and were replaced with REPLACEMENT CHARACTER.\n"
     ]
    },
    {
     "name": "stdout",
     "output_type": "stream",
     "text": [
      "https://digi.vatlib.it/iiifimage/MSS_Vat.sir.122/Vat.sir.122_0006_pa_0002.jp2/full/full/0/native.jpg\n",
      "starting to scrape page 2...\n"
     ]
    },
    {
     "name": "stderr",
     "output_type": "stream",
     "text": [
      "Some characters could not be decoded, and were replaced with REPLACEMENT CHARACTER.\n"
     ]
    },
    {
     "name": "stdout",
     "output_type": "stream",
     "text": [
      "https://digi.vatlib.it/iiifimage/MSS_Vat.sir.122/Vat.sir.122_0007_pa_0003.jp2/full/full/0/native.jpg\n",
      "starting to scrape page 3...\n"
     ]
    },
    {
     "name": "stderr",
     "output_type": "stream",
     "text": [
      "Some characters could not be decoded, and were replaced with REPLACEMENT CHARACTER.\n"
     ]
    },
    {
     "name": "stdout",
     "output_type": "stream",
     "text": [
      "https://digi.vatlib.it/iiifimage/MSS_Vat.sir.122/Vat.sir.122_0008_pa_0004.jp2/full/full/0/native.jpg\n",
      "starting to scrape page 4...\n"
     ]
    },
    {
     "name": "stderr",
     "output_type": "stream",
     "text": [
      "Some characters could not be decoded, and were replaced with REPLACEMENT CHARACTER.\n"
     ]
    },
    {
     "name": "stdout",
     "output_type": "stream",
     "text": [
      "https://digi.vatlib.it/iiifimage/MSS_Vat.sir.122/Vat.sir.122_0009_pa_0005.jp2/full/full/0/native.jpg\n",
      "starting to scrape page 5...\n"
     ]
    },
    {
     "name": "stderr",
     "output_type": "stream",
     "text": [
      "Some characters could not be decoded, and were replaced with REPLACEMENT CHARACTER.\n"
     ]
    },
    {
     "name": "stdout",
     "output_type": "stream",
     "text": [
      "https://digi.vatlib.it/iiifimage/MSS_Vat.sir.122/Vat.sir.122_0010_pa_0006.jp2/full/full/0/native.jpg\n",
      "starting to scrape page 6...\n"
     ]
    },
    {
     "name": "stderr",
     "output_type": "stream",
     "text": [
      "Some characters could not be decoded, and were replaced with REPLACEMENT CHARACTER.\n"
     ]
    },
    {
     "name": "stdout",
     "output_type": "stream",
     "text": [
      "https://digi.vatlib.it/iiifimage/MSS_Vat.sir.122/Vat.sir.122_0011_pa_0007.jp2/full/full/0/native.jpg\n",
      "starting to scrape page 7...\n"
     ]
    },
    {
     "name": "stderr",
     "output_type": "stream",
     "text": [
      "Some characters could not be decoded, and were replaced with REPLACEMENT CHARACTER.\n"
     ]
    },
    {
     "name": "stdout",
     "output_type": "stream",
     "text": [
      "https://digi.vatlib.it/iiifimage/MSS_Vat.sir.122/Vat.sir.122_0012_pa_0008.jp2/full/full/0/native.jpg\n",
      "starting to scrape page 8...\n"
     ]
    },
    {
     "name": "stderr",
     "output_type": "stream",
     "text": [
      "Some characters could not be decoded, and were replaced with REPLACEMENT CHARACTER.\n"
     ]
    },
    {
     "name": "stdout",
     "output_type": "stream",
     "text": [
      "https://digi.vatlib.it/iiifimage/MSS_Vat.sir.122/Vat.sir.122_0013_pa_0009.jp2/full/full/0/native.jpg\n",
      "starting to scrape page 9...\n"
     ]
    },
    {
     "name": "stderr",
     "output_type": "stream",
     "text": [
      "Some characters could not be decoded, and were replaced with REPLACEMENT CHARACTER.\n"
     ]
    },
    {
     "name": "stdout",
     "output_type": "stream",
     "text": [
      "https://digi.vatlib.it/iiifimage/MSS_Vat.sir.122/Vat.sir.122_0014_pa_0010.jp2/full/full/0/native.jpg\n",
      "starting to scrape page 10...\n"
     ]
    },
    {
     "name": "stderr",
     "output_type": "stream",
     "text": [
      "Some characters could not be decoded, and were replaced with REPLACEMENT CHARACTER.\n"
     ]
    },
    {
     "name": "stdout",
     "output_type": "stream",
     "text": [
      "https://digi.vatlib.it/iiifimage/MSS_Vat.sir.122/Vat.sir.122_0015_pa_0011.jp2/full/full/0/native.jpg\n",
      "starting to scrape page 11...\n"
     ]
    },
    {
     "name": "stderr",
     "output_type": "stream",
     "text": [
      "Some characters could not be decoded, and were replaced with REPLACEMENT CHARACTER.\n"
     ]
    },
    {
     "name": "stdout",
     "output_type": "stream",
     "text": [
      "https://digi.vatlib.it/iiifimage/MSS_Vat.sir.122/Vat.sir.122_0016_pa_0012.jp2/full/full/0/native.jpg\n",
      "starting to scrape page 12...\n"
     ]
    },
    {
     "name": "stderr",
     "output_type": "stream",
     "text": [
      "Some characters could not be decoded, and were replaced with REPLACEMENT CHARACTER.\n"
     ]
    },
    {
     "name": "stdout",
     "output_type": "stream",
     "text": [
      "https://digi.vatlib.it/iiifimage/MSS_Vat.sir.122/Vat.sir.122_0017_pa_0013.jp2/full/full/0/native.jpg\n",
      "starting to scrape page 13...\n"
     ]
    },
    {
     "name": "stderr",
     "output_type": "stream",
     "text": [
      "Some characters could not be decoded, and were replaced with REPLACEMENT CHARACTER.\n"
     ]
    },
    {
     "name": "stdout",
     "output_type": "stream",
     "text": [
      "https://digi.vatlib.it/iiifimage/MSS_Vat.sir.122/Vat.sir.122_0018_pa_0014.jp2/full/full/0/native.jpg\n",
      "starting to scrape page 14...\n"
     ]
    },
    {
     "name": "stderr",
     "output_type": "stream",
     "text": [
      "Some characters could not be decoded, and were replaced with REPLACEMENT CHARACTER.\n"
     ]
    },
    {
     "name": "stdout",
     "output_type": "stream",
     "text": [
      "https://digi.vatlib.it/iiifimage/MSS_Vat.sir.122/Vat.sir.122_0019_pa_0015.jp2/full/full/0/native.jpg\n",
      "starting to scrape page 15...\n"
     ]
    }
   ],
   "source": [
    "#ms_name, first_page, first_folio, first_side, last_page, last_folio, last_side\n",
    "#scrape_vatican_jpgsII(126, 307, 152, 'r', 610, 303, 'v')\n",
    "scrape_vatican_jpgsII('122', 5, 1, '', 442, 438, '') #check holes in page vat 376 p. 16 and 126.pt.2 p. 98\n"
   ]
  },
  {
   "cell_type": "code",
   "execution_count": 24,
   "metadata": {},
   "outputs": [],
   "source": [
    "last_page = 'https://digi.vatlib.it/iiifimage/MSS_Vat.sir.123/Vat.sir.123_0610_fa_0303v.jp2/full/full/0/native.jpg'\n",
    "first_page = 'https://digi.vatlib.it/iiifimage/MSS_Vat.sir.123/Vat.sir.123_0005_fa_0001r.jp2/full/full/0/native.jpg'\n",
    "next_list = vat 125 (5, 1, 'r', 421, 206, 'v'), vat 377 (), SMMJ 00129, \n",
    "\n",
    "single_page_reg = re.compile(\n",
    "'((?P<title>(.*)sir.(?P<ms>\\d+)\\/(.*?\\D(\\d+))_)(?P<page>\\d+).*((?P<folio>\\d+)(?P<side>[rv]))(?P<end>.*))',\n",
    "        re.DOTALL | re.MULTILINE | re.UNICODE)"
   ]
  }
 ],
 "metadata": {
  "kernelspec": {
   "display_name": "Python 3",
   "language": "python",
   "name": "python3"
  },
  "language_info": {
   "codemirror_mode": {
    "name": "ipython",
    "version": 3
   },
   "file_extension": ".py",
   "mimetype": "text/x-python",
   "name": "python",
   "nbconvert_exporter": "python",
   "pygments_lexer": "ipython3",
   "version": "3.7.4"
  }
 },
 "nbformat": 4,
 "nbformat_minor": 2
}
