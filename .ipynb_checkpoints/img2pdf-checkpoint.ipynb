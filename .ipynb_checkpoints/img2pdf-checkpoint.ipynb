{
 "cells": [
  {
   "cell_type": "code",
   "execution_count": 9,
   "metadata": {},
   "outputs": [],
   "source": [
    "import os\n",
    "import img2pdf\n",
    "import re\n"
   ]
  },
  {
   "cell_type": "code",
   "execution_count": 10,
   "metadata": {},
   "outputs": [],
   "source": [
    "def atoi(text):\n",
    "    return int(text) if text.isdigit() else text\n",
    "\n",
    "def natural_keys(text):\n",
    "    '''\n",
    "    alist.sort(key=natural_keys) sorts in human order\n",
    "    '''\n",
    "    return [ atoi(c) for c in re.split(r'(\\d+)', text) ]"
   ]
  },
  {
   "cell_type": "code",
   "execution_count": 11,
   "metadata": {
    "collapsed": true
   },
   "outputs": [
    {
     "name": "stdout",
     "output_type": "stream",
     "text": [
      "['2.jpg', '3 r.jpg', '3 v.jpg', '4 r.jpg', '4 v.jpg', '5 r.jpg', '5 v.jpg', '6 r.jpg', '6 v.jpg', '7 r.jpg', '7 v.jpg', '8 r.jpg', '8 v.jpg', '9 r.jpg', '9 v.jpg', '10 r.jpg', '10 v.jpg', '11 r.jpg', '11 v.jpg', '12 r.jpg', '12 v.jpg', '13 r.jpg', '13 v.jpg', '14 r.jpg', '14 v.jpg', '15 r.jpg', '15 v.jpg', '16 r.jpg', '16 v.jpg', '17 r.jpg', '17 v.jpg', '18 r.jpg', '18 v.jpg', '19 r.jpg', '19 v.jpg', '20 r.jpg', '20 v.jpg', '21 r.jpg', '21 v.jpg', '22 r.jpg', '22 v.jpg', '23 r.jpg', '23 v.jpg', '24 r.jpg', '24 v.jpg', '25 r.jpg', '25 v.jpg', '26 r.jpg', '26 v.jpg', '27 r.jpg', '27 v.jpg', '28 r.jpg', '28 v.jpg', '29 r.jpg', '29 v.jpg', '30 r.jpg', '30 v.jpg', '31 r.jpg', '31 v.jpg', '32 r.jpg', '32 v.jpg', '33 r.jpg', '33 v.jpg', '34 r.jpg', '34 v.jpg', '35 r.jpg', '35 v.jpg', '36 r.jpg', '36 v.jpg', '37 r.jpg', '37 v.jpg', '38 r.jpg', '38 v.jpg', '39 r.jpg', '39 v.jpg', '40 r.jpg', '40 v.jpg', '41 r.jpg', '41 v.jpg', '42 r.jpg', '42 v.jpg', '43 r.jpg', '43 v.jpg', '44 r.jpg', '44 v.jpg', '45 r.jpg', '45 v.jpg', '46 r.jpg', '46 v.jpg', '47 r.jpg', '47 v.jpg', '48 r.jpg', '48 v.jpg', '49 r.jpg', '49 v.jpg', '50 r.jpg', '50 v.jpg', '51 r.jpg', '51 v.jpg', '52 r.jpg', '52 v.jpg', '53 r.jpg', '53 v.jpg', '54 r.jpg', '54 v.jpg', '55 r.jpg', '55 v.jpg', '56 r.jpg', '56 v.jpg', '57 r.jpg', '57 v.jpg', '58 r.jpg', '58 v.jpg', '59 r.jpg', '59 v.jpg', '60 r.jpg', '60 v.jpg', '61 r.jpg', '61 v.jpg', '62 r.jpg', '62 v.jpg', '63 r.jpg', '63 v.jpg', '64 r.jpg', '64 v.jpg', '65 r.jpg', '65 v.jpg', '66 r.jpg', '66 v.jpg', '67 r.jpg', '67 v.jpg', '68 r.jpg', '68 v.jpg', '69 r.jpg', '69 v.jpg', '70 r.jpg', '70 v.jpg', '71 r.jpg', '71 v.jpg', '72 r.jpg', '72 v.jpg', '73 r.jpg', '73 v.jpg', '74 r.jpg', '74 v.jpg', '75 r.jpg', '75 v.jpg', '76 r.jpg', '76 v.jpg', '77 r.jpg', '77 v.jpg', '78 r.jpg', '80.jpg', '81 r.jpg', '81 v.jpg', '82 r.jpg', '82 v.jpg', '83 r.jpg', '83 v.jpg', '84 r.jpg', '84 v.jpg', '85 r.jpg', '85 v.jpg', '86 r.jpg', '86 v.jpg', '87 r.jpg', '87 v.jpg', '88 r.jpg', '88 v.jpg', '89 r.jpg', '89 v.jpg', '90 r.jpg', '90 v.jpg', '91 r.jpg', '91 v.jpg', '92 v.jpg', '92.jpg', '93 r.jpg', '93 v.jpg', '94 r.jpg', '94 v.jpg', '95 r.jpg', '95 v.jpg', '96 r.jpg', '96 v.jpg', '97 r.jpg', '97 v.jpg', '98 r.jpg', '98 v.jpg', '99 r.jpg', '99 v.jpg', '100 r.jpg', '100 v.jpg', '101 r.jpg', '101 v.jpg', '102 r.jpg', '102 v.jpg', '103 r.jpg', '103 v.jpg', '104 r.jpg', '104 v.jpg', '105 r.jpg', '105 v.jpg', '106 r.jpg', '106 v.jpg', '107 r.jpg', '107 v.jpg', '108 r.jpg', '108 v.jpg', '109 r.jpg', '109 v.jpg', '110 r.jpg', '110 v.jpg', '111 r.jpg', '111 v.jpg', '112 r.jpg', '112 v.jpg', '113 r.jpg', '113 v.jpg', '114 r.jpg', '114 v.jpg', '115 r.jpg', '115 v.jpg', '116 r.jpg', '116 v.jpg', '117 r.jpg', '117 v.jpg', '118 r.jpg', '118 v.jpg', '119 r.jpg', '119 v.jpg', '120 r.jpg', '120 v.jpg', '121 r.jpg', '121 v.jpg', '122 r.jpg', '122 v.jpg', '123 r.jpg', '123 v.jpg', '124 r.jpg', '124 v.jpg', '125 r.jpg', '125 v.jpg', '126 r.jpg', '126 v.jpg', '127 r.jpg', '127 v.jpg', '128 r.jpg', '128 v.jpg', '129 r.jpg', '129 v.jpg', '130 r.jpg', '130 v.jpg', '131 r.jpg', '131 v.jpg', '132 r.jpg', '132 v.jpg', '133 r.jpg', '133 v.jpg', '134 r.jpg', '134 v.jpg', '135 r.jpg', '135 v.jpg', '136 r.jpg', '136 v.jpg', '137 r.jpg', '137 v.jpg', '138 r.jpg', '138 v.jpg', '139 r.jpg', '139 v.jpg', '140 r.jpg', '140 v.jpg', '141 r.jpg', '141 v.jpg', '142 r.jpg', '142 v.jpg', '143 r.jpg', '143 v.jpg', '144 r.jpg', '144 v.jpg', '145 r.jpg', '145 v.jpg', '146 r.jpg', '146 v.jpg', '147 r.jpg', '147 v.jpg', '148 r.jpg', '148 v.jpg', '149 r.jpg', '149 v.jpg', '150 r.jpg', '150 v.jpg', '151 r.jpg', '151 v.jpg', '152 r.jpg', '152 v.jpg', '153 r.jpg', '153 v.jpg', '154 r.jpg', '154 v.jpg', '155 r.jpg', '155 v.jpg', '156 r.jpg', '156 v.jpg', '157 r.jpg', '157 v.jpg', '158 r.jpg', '158 v.jpg', '159 r.jpg', '159 v.jpg', '160 r.jpg', '160 v.jpg', '161 r.jpg', '161 v.jpg', '162 r.jpg', '162 v.jpg', '163 r.jpg', '163 v.jpg', '164 r.jpg', '164 v.jpg', '165 r.jpg', '165 v.jpg', '166 r.jpg', '166 v.jpg', '167 r.jpg', '167 v.jpg', '168 r.jpg', '168 v.jpg', '169 r.jpg', '169 v.jpg', '170 r.jpg', '170 v.jpg', '171 r.jpg', '171 v.jpg', '172 r.jpg', '172 v.jpg', '173 r.jpg', '173 v.jpg', '174 r.jpg', '174 v.jpg', '175 r.jpg', '175 v.jpg', '176 r.jpg', '176 v.jpg', '177 r.jpg', '177 v.jpg', '178 r.jpg', '178 v.jpg', '179 r.jpg', '179 v.jpg', '180 r.jpg', '180 v.jpg', '181 r.jpg', '181 v.jpg', '182 r.jpg', '182 v.jpg', '183 r.jpg', '183 v.jpg', '184 r.jpg', '184 v.jpg', '185 r.jpg', '185 v.jpg', '186 r.jpg', '186 v.jpg', '187 r.jpg', '187 v.jpg', '188 r.jpg', '188 v.jpg', '189 r.jpg', '189 v.jpg', '190 r.jpg', '190 v.jpg', '191 r.jpg', '191 v.jpg', '192 r.jpg', '192 v.jpg', '193 r.jpg', '193 v.jpg', '194 r.jpg', '194 v.jpg', '195 r.jpg', '195 v.jpg', '196 r.jpg', '196 v.jpg', '197 r.jpg', '197 v.jpg', '198 r.jpg', '198 v.jpg', '199 r.jpg', '199 v.jpg', '200 r.jpg', '200 v.jpg', '201 r.jpg', '201 v.jpg', '202 r.jpg', '202 v.jpg', '203 r.jpg', '203 v.jpg', '204 r.jpg', '204 v.jpg', '205 r.jpg', '205 v.jpg', '206 r.jpg', '206 v.jpg', '207 r.jpg', '207 v.jpg', '208 r.jpg', '208 v.jpg', '209 r.jpg', '209 v.jpg', '210 r.jpg', '210 v.jpg', '211 r.jpg', '211 v.jpg', '212 r.jpg', '212 v.jpg', '213 r.jpg', '213 v.jpg', '214 r.jpg', '214 v.jpg', '215 r.jpg', '215 v.jpg', '216 r.jpg', '216 v.jpg', '217 r.jpg', '217 v.jpg', '218 r.jpg', '218 v.jpg', '219 r.jpg', '219 v.jpg', '220 r.jpg', '220 v.jpg', '221 r.jpg', '221 v.jpg', '222 r.jpg', '222 v.jpg', '223 r.jpg', '223 v.jpg', '224 r.jpg', '224 v.jpg', '225 r.jpg', '225 v.jpg', '226 r.jpg', '226 v.jpg', '227 r.jpg', '227 v.jpg', '228 r.jpg', '228 v.jpg', '229 r.jpg', '229 v.jpg', '230 r.jpg', '230 v.jpg', '231 r.jpg', '231 v.jpg', '232 r.jpg', '232 v.jpg', '233 r.jpg', '233 v.jpg', '234 r.jpg', '234 v.jpg', '235 r.jpg', '235 v.jpg', '236 r.jpg', '236 v.jpg', '237 r.jpg', '237 v.jpg', '238 r.jpg', '238 v.jpg', '239 r.jpg', '239 v.jpg', '240 r.jpg', '240 v.jpg', '241 r.jpg', '241 v.jpg', '242 r.jpg', '242 v.jpg', '243 r.jpg', '243 v.jpg', '244 r.jpg', '244 v.jpg', '245 r.jpg', '245 v.jpg', '246 r.jpg', '246 v.jpg', '247 r.jpg', '247 v.jpg', '248 r.jpg', '248 v.jpg', '249 r.jpg', '249 v.jpg', '250 r.jpg', '250 v.jpg', '251 r.jpg', '251 v.jpg', '252 r.jpg', '252 v.jpg', '253 r.jpg', '253 v.jpg', '254 r.jpg', '254 v.jpg', '255 r.jpg', '255 v.jpg', '256 r.jpg', '256 v.jpg', '257 r.jpg', '257 v.jpg', '258 r.jpg', '258 v.jpg', '259 r.jpg', '259 v.jpg', '260 r.jpg', '260 v.jpg', '261 r.jpg', '261 v.jpg', '262 r.jpg', '262 v.jpg', '263 r.jpg', '263 v.jpg', '264 r.jpg', '264 v.jpg', '265 r.jpg', '265 v.jpg', '266 r.jpg', '266 v.jpg', '267 v.jpg', '268 r.jpg', '268 v.jpg', '269 r.jpg', '269 v.jpg', '270 r.jpg', '270 v.jpg', '271 r.jpg', '271 v.jpg', '272 r.jpg', '272 v.jpg', '273 r.jpg', '273 v.jpg', '274 r.jpg', '274 v.jpg', '275 r.jpg', '275 v.jpg', '276 r.jpg', '276 v.jpg', '277 r.jpg', '277 v.jpg', '278 r.jpg', '278 v.jpg', '279 r.jpg', '279 v.jpg', '280 r.jpg', '280 v.jpg', '281 r.jpg', '281 v.jpg', '282 r.jpg', '282 v.jpg', '283 r.jpg', '283 v.jpg', '284 r.jpg', '284 v.jpg', '285 r.jpg', '285 v.jpg', '286 r.jpg', '286 v.jpg', '287 r.jpg', '287 v.jpg', '288 r.jpg', '288 v.jpg', '289 r.jpg', '289 v.jpg', '290 r.jpg', '290 v.jpg', '291 r.jpg', '291 v.jpg', '292 r.jpg', '292 v.jpg', '293 r.jpg', '293 v.jpg', '294 r.jpg', '294 v.jpg', '295 r.jpg', '295 v.jpg', '296 r.jpg', '296 v.jpg', '297 r.jpg', '297 v.jpg', '298 r.jpg', '298 v.jpg', '299 r.jpg', '299 v.jpg', '300 r.jpg', '300 v.jpg', '301 r.jpg', '301 v.jpg', '302 r.jpg', '302 v.jpg', '303 r.jpg', '303 v.jpg', '304 r.jpg', '304 v.jpg', '305 r.jpg', '305 v.jpg', '306 r.jpg', '306 v.jpg', '307 r.jpg', '307 v.jpg', '308 r.jpg', '308 v.jpg', '309 r.jpg', '309 v.jpg', '310 r.jpg', '310 v.jpg', '311 r.jpg', '311 v.jpg', '312 r.jpg', '312 v.jpg', '313 r.jpg', '313 v.jpg', '314 r.jpg', '314 v.jpg', '315 r.jpg', '315 v.jpg', '316 r.jpg', '316 v.jpg', '317 r.jpg', '317 v.jpg', '318 r.jpg', '318 v.jpg', '319 r.jpg', '319 v.jpg', '320 r.jpg', '320 v.jpg', '321 r.jpg', '321 v.jpg', '322 r.jpg', '322 v.jpg', '323 r.jpg', '323 v.jpg', '324 r.jpg', '324 v.jpg', '325 r.jpg', '325 v.jpg', '326 r.jpg', '326 v.jpg', '327 r.jpg', '327 v.jpg', '328 r.jpg', '328 v.jpg', '329 r.jpg', '329 v.jpg', '330 r.jpg', '330 v.jpg', '331 r.jpg', '331 v.jpg', '332 r.jpg', '332 v.jpg', '333 r.jpg', '333 v.jpg', '334 r.jpg', '334 v.jpg', '335 r.jpg', '335 v.jpg', '336 r.jpg', '336 v.jpg', '337 r.jpg', '337 v.jpg', '338 r.jpg', '338 v.jpg', '339 r.jpg', '339 v.jpg', '340 r.jpg', '340 v.jpg', '341 r.jpg', '342 r.jpg', '342 v.jpg', '343 r.jpg', '343 v.jpg', '344 r.jpg', '344 v.jpg', '345 r.jpg', '345 v.jpg', '346 r.jpg', '346 v.jpg', '347 r.jpg', '347 v.jpg', '348 r.jpg', '348 v.jpg', '349 r.jpg', '349 v.jpg', '350 r.jpg', '350 v.jpg', '351 r.jpg', '351 v.jpg', '352 r.jpg', '352 v.jpg', '353 r.jpg', '353 v.jpg', '354 r.jpg', '354.jpg']\n"
     ]
    }
   ],
   "source": [
    "alist = [i for i in os.listdir(os.getcwd()) if i.endswith(\".jpg\")]\n",
    "\n",
    "alist.sort(key=natural_keys)\n"
   ]
  },
  {
   "cell_type": "code",
   "execution_count": 12,
   "metadata": {},
   "outputs": [],
   "source": [
    "path = 'C:\\\\Users\\\\owner\\\\PycharmProjects\\\\Scrapers\\\\scrapers\\\\CET_0076'\n",
    "os.chdir(path) \n",
    "\n",
    "with open(\"CET_76.pdf\", \"wb\") as f:\n",
    "    f.write(img2pdf.convert([i for i in alist]))"
   ]
  },
  {
   "cell_type": "code",
   "execution_count": null,
   "metadata": {},
   "outputs": [],
   "source": [
    "folder_list = ['Vat. Sir. 93', 'Vat. Sir. 122', 'Vat. Sir. 123', 'Vat. Sir. 125', 'Vat. Sir. 126.pt.2', 'Vat. Sir. 376', 'Vat. Sir. 377']"
   ]
  }
 ],
 "metadata": {
  "kernelspec": {
   "display_name": "Python 3",
   "language": "python",
   "name": "python3"
  },
  "language_info": {
   "codemirror_mode": {
    "name": "ipython",
    "version": 3
   },
   "file_extension": ".py",
   "mimetype": "text/x-python",
   "name": "python",
   "nbconvert_exporter": "python",
   "pygments_lexer": "ipython3",
   "version": "3.7.4"
  }
 },
 "nbformat": 4,
 "nbformat_minor": 2
}
