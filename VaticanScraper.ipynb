{
 "cells": [
  {
   "cell_type": "code",
   "execution_count": 1,
   "metadata": {},
   "outputs": [],
   "source": [
    "import pandas as pd\n",
    "from bs4 import BeautifulSoup\n",
    "import lxml\n",
    "import requests\n",
    "from PIL import Image \n",
    "import io\n",
    "import re\n",
    "import os\n",
    "from fpdf import FPDF\n",
    "import urllib\n",
    "from urllib.request import Request, urlopen, HTTPSHandler\n",
    "import time\n",
    "import requests\n",
    "import shutil\n",
    "from requests_toolbelt.auth.handler import AuthHandler"
   ]
  },
  {
   "cell_type": "code",
   "execution_count": 6,
   "metadata": {},
   "outputs": [],
   "source": [
    "def scrape_from_link(link, ms_name, page, session, retries):\n",
    "    print('starting to scrape folio {}...'.format(page))\n",
    "    s = session.get(link)\n",
    "    soup = BeautifulSoup(s.content, 'html.parser')\n",
    "    path = 'C:\\\\Users\\\\owner\\\\PycharmProjects\\\\Scrapers\\\\scrapers\\\\{}\\\\{}.jpg'.format(ms_name,page)\n",
    "    if s.status_code == 200:\n",
    "        s.raw.decode_content = True\n",
    "        with open(path,'wb') as f:\n",
    "            for chunk in s:\n",
    "                f.write(chunk)\n",
    "        return retries\n",
    "    else:\n",
    "        print('status problem: {}'.format(s.status_code))\n",
    "        return 1"
   ]
  },
  {
   "cell_type": "code",
   "execution_count": 9,
   "metadata": {},
   "outputs": [],
   "source": [
    "\n",
    "#this goes straight at the top        \n",
    "def scrape_vatican_jpgsII(ms_name, first_page, first_folio, first_side, last_page, last_folio, last_side):\n",
    "    \n",
    "    full_ms_name = f'Vat. Sir. {ms_name}'\n",
    "    \n",
    "    ms_title = f'https://digi.vatlib.it/iiifimage/MSS_Vat.sir.{ms_name}/Vat.sir.{ms_name}_'\n",
    "    ms_end = '.jp2/full/full/0/native.jpg'\n",
    "    just_page_end = '.jp2/full/full/0/native.jpg'\n",
    "\n",
    "    first_digi_page = int(first_page)\n",
    "    first_ms_folio = int(first_folio)\n",
    "    first_folio_side = first_side\n",
    "    \n",
    "    last_digi_page = int(last_page)\n",
    "    last_ms_folio = int(last_folio)\n",
    "    last_folio_side = last_side\n",
    "        \n",
    "    os.makedirs(full_ms_name, exist_ok=True)\n",
    "    session = requests.Session()\n",
    "    \n",
    "    current_side = first_side\n",
    "    folio_count = first_ms_folio\n",
    "    page_count = first_digi_page\n",
    "    retries = 4\n",
    "    max_pages = last_page-first_page+1\n",
    "    if first_folio==0: #just pages, no folio in link\n",
    "        for i in range(max_pages):\n",
    "            if max_pages == page_count:\n",
    "                break\n",
    "            try:\n",
    "                link = f'{ms_title}{str(page_count).zfill(4)}{just_page_end}'\n",
    "                print(link)\n",
    "                retry = scrape_from_link(link, full_ms_name, f'{page_count}', session, retries)\n",
    "                page_count = page_count+1\n",
    "            except Exception as e:\n",
    "                print(e)\n",
    "    else: #have folios, but need to check sides\n",
    "        for i in range(max_pages):\n",
    "            if max_pages == page_count:\n",
    "                break                \n",
    "            retry = 0\n",
    "            while retry<retries:\n",
    "                try:\n",
    "                    if current_side=='r':\n",
    "                        link_r = f'{ms_title}{str(page_count).zfill(4)}_fa_{str(folio_count).zfill(4)}r{ms_end}'\n",
    "                        print(link_r)\n",
    "                        temp = scrape_from_link(link_r, full_ms_name, f'{folio_count} r', session, retries)\n",
    "                        retry = retry + temp\n",
    "                        page_count = page_count+1\n",
    "                        current_side = 'v'\n",
    "                    if current_side=='v':\n",
    "                        link_v = f'{ms_title}{str(page_count).zfill(4)}_fa_{str(folio_count).zfill(4)}v{ms_end}'\n",
    "                        print(link_v)\n",
    "                        temp = scrape_from_link(link_v, full_ms_name, f'{folio_count} v', session, retries)\n",
    "                        retry = retry + temp\n",
    "                        page_count = page_count+1\n",
    "                        folio_count = folio_count+1\n",
    "                        current_side = 'r'\n",
    "                    else: #current_side==''\n",
    "                        link = f'{ms_title}{str(page_count).zfill(4)}_pa_{str(folio_count).zfill(4)}{ms_end}'\n",
    "                        print(link)\n",
    "                        temp = scrape_from_link(link, full_ms_name, f'{folio_count}', session, retries)\n",
    "                        retry = retry + temp\n",
    "                        page_count = page_count+1\n",
    "                        folio_count = folio_count+1\n",
    "                except Exception as e:\n",
    "                    print(e)\n",
    "                    retry = retry+1\n",
    "                    page_count = page_count+1"
   ]
  },
  {
   "cell_type": "code",
   "execution_count": 8,
   "metadata": {},
   "outputs": [
    {
     "name": "stdout",
     "output_type": "stream",
     "text": [
      "https://digi.vatlib.it/iiifimage/MSS_Vat.sir.93/Vat.sir.93_0106_fa_0049v.jp2/full/full/0/native.jpg\n",
      "starting to scrape folio 49 v...\n"
     ]
    },
    {
     "name": "stderr",
     "output_type": "stream",
     "text": [
      "Some characters could not be decoded, and were replaced with REPLACEMENT CHARACTER.\n"
     ]
    },
    {
     "name": "stdout",
     "output_type": "stream",
     "text": [
      "https://digi.vatlib.it/iiifimage/MSS_Vat.sir.93/Vat.sir.93_0107_fa_0050r.jp2/full/full/0/native.jpg\n",
      "starting to scrape folio 50 r...\n"
     ]
    },
    {
     "name": "stderr",
     "output_type": "stream",
     "text": [
      "Some characters could not be decoded, and were replaced with REPLACEMENT CHARACTER.\n"
     ]
    },
    {
     "name": "stdout",
     "output_type": "stream",
     "text": [
      "https://digi.vatlib.it/iiifimage/MSS_Vat.sir.93/Vat.sir.93_0108_fa_0050v.jp2/full/full/0/native.jpg\n",
      "starting to scrape folio 50 v...\n"
     ]
    },
    {
     "name": "stderr",
     "output_type": "stream",
     "text": [
      "Some characters could not be decoded, and were replaced with REPLACEMENT CHARACTER.\n"
     ]
    },
    {
     "name": "stdout",
     "output_type": "stream",
     "text": [
      "https://digi.vatlib.it/iiifimage/MSS_Vat.sir.93/Vat.sir.93_0109_fa_0051r.jp2/full/full/0/native.jpg\n",
      "starting to scrape folio 51 r...\n"
     ]
    },
    {
     "name": "stderr",
     "output_type": "stream",
     "text": [
      "Some characters could not be decoded, and were replaced with REPLACEMENT CHARACTER.\n"
     ]
    },
    {
     "name": "stdout",
     "output_type": "stream",
     "text": [
      "https://digi.vatlib.it/iiifimage/MSS_Vat.sir.93/Vat.sir.93_0110_fa_0051v.jp2/full/full/0/native.jpg\n",
      "starting to scrape folio 51 v...\n"
     ]
    },
    {
     "name": "stderr",
     "output_type": "stream",
     "text": [
      "Some characters could not be decoded, and were replaced with REPLACEMENT CHARACTER.\n"
     ]
    },
    {
     "name": "stdout",
     "output_type": "stream",
     "text": [
      "https://digi.vatlib.it/iiifimage/MSS_Vat.sir.93/Vat.sir.93_0111_fa_0052r.jp2/full/full/0/native.jpg\n",
      "starting to scrape folio 52 r...\n"
     ]
    },
    {
     "name": "stderr",
     "output_type": "stream",
     "text": [
      "Some characters could not be decoded, and were replaced with REPLACEMENT CHARACTER.\n"
     ]
    },
    {
     "name": "stdout",
     "output_type": "stream",
     "text": [
      "https://digi.vatlib.it/iiifimage/MSS_Vat.sir.93/Vat.sir.93_0112_fa_0052v.jp2/full/full/0/native.jpg\n",
      "starting to scrape folio 52 v...\n"
     ]
    },
    {
     "name": "stderr",
     "output_type": "stream",
     "text": [
      "Some characters could not be decoded, and were replaced with REPLACEMENT CHARACTER.\n"
     ]
    },
    {
     "name": "stdout",
     "output_type": "stream",
     "text": [
      "https://digi.vatlib.it/iiifimage/MSS_Vat.sir.93/Vat.sir.93_0113_fa_0053r.jp2/full/full/0/native.jpg\n",
      "starting to scrape folio 53 r...\n"
     ]
    },
    {
     "name": "stderr",
     "output_type": "stream",
     "text": [
      "Some characters could not be decoded, and were replaced with REPLACEMENT CHARACTER.\n"
     ]
    },
    {
     "name": "stdout",
     "output_type": "stream",
     "text": [
      "https://digi.vatlib.it/iiifimage/MSS_Vat.sir.93/Vat.sir.93_0114_fa_0053v.jp2/full/full/0/native.jpg\n",
      "starting to scrape folio 53 v...\n"
     ]
    },
    {
     "name": "stderr",
     "output_type": "stream",
     "text": [
      "Some characters could not be decoded, and were replaced with REPLACEMENT CHARACTER.\n"
     ]
    },
    {
     "name": "stdout",
     "output_type": "stream",
     "text": [
      "https://digi.vatlib.it/iiifimage/MSS_Vat.sir.93/Vat.sir.93_0115_fa_0054r.jp2/full/full/0/native.jpg\n",
      "starting to scrape folio 54 r...\n"
     ]
    },
    {
     "name": "stderr",
     "output_type": "stream",
     "text": [
      "Some characters could not be decoded, and were replaced with REPLACEMENT CHARACTER.\n"
     ]
    },
    {
     "name": "stdout",
     "output_type": "stream",
     "text": [
      "https://digi.vatlib.it/iiifimage/MSS_Vat.sir.93/Vat.sir.93_0116_fa_0054v.jp2/full/full/0/native.jpg\n",
      "starting to scrape folio 54 v...\n"
     ]
    },
    {
     "name": "stderr",
     "output_type": "stream",
     "text": [
      "Some characters could not be decoded, and were replaced with REPLACEMENT CHARACTER.\n"
     ]
    },
    {
     "name": "stdout",
     "output_type": "stream",
     "text": [
      "https://digi.vatlib.it/iiifimage/MSS_Vat.sir.93/Vat.sir.93_0117_fa_0055r.jp2/full/full/0/native.jpg\n",
      "starting to scrape folio 55 r...\n"
     ]
    },
    {
     "name": "stderr",
     "output_type": "stream",
     "text": [
      "Some characters could not be decoded, and were replaced with REPLACEMENT CHARACTER.\n"
     ]
    },
    {
     "name": "stdout",
     "output_type": "stream",
     "text": [
      "https://digi.vatlib.it/iiifimage/MSS_Vat.sir.93/Vat.sir.93_0118_fa_0055v.jp2/full/full/0/native.jpg\n",
      "starting to scrape folio 55 v...\n"
     ]
    },
    {
     "name": "stderr",
     "output_type": "stream",
     "text": [
      "Some characters could not be decoded, and were replaced with REPLACEMENT CHARACTER.\n"
     ]
    },
    {
     "name": "stdout",
     "output_type": "stream",
     "text": [
      "https://digi.vatlib.it/iiifimage/MSS_Vat.sir.93/Vat.sir.93_0119_fa_0056r.jp2/full/full/0/native.jpg\n",
      "starting to scrape folio 56 r...\n"
     ]
    },
    {
     "name": "stderr",
     "output_type": "stream",
     "text": [
      "Some characters could not be decoded, and were replaced with REPLACEMENT CHARACTER.\n"
     ]
    },
    {
     "name": "stdout",
     "output_type": "stream",
     "text": [
      "https://digi.vatlib.it/iiifimage/MSS_Vat.sir.93/Vat.sir.93_0120_fa_0056v.jp2/full/full/0/native.jpg\n",
      "starting to scrape folio 56 v...\n"
     ]
    },
    {
     "name": "stderr",
     "output_type": "stream",
     "text": [
      "Some characters could not be decoded, and were replaced with REPLACEMENT CHARACTER.\n"
     ]
    },
    {
     "name": "stdout",
     "output_type": "stream",
     "text": [
      "https://digi.vatlib.it/iiifimage/MSS_Vat.sir.93/Vat.sir.93_0121_fa_0057r.jp2/full/full/0/native.jpg\n",
      "starting to scrape folio 57 r...\n"
     ]
    },
    {
     "name": "stderr",
     "output_type": "stream",
     "text": [
      "Some characters could not be decoded, and were replaced with REPLACEMENT CHARACTER.\n"
     ]
    },
    {
     "name": "stdout",
     "output_type": "stream",
     "text": [
      "https://digi.vatlib.it/iiifimage/MSS_Vat.sir.93/Vat.sir.93_0122_fa_0057v.jp2/full/full/0/native.jpg\n",
      "starting to scrape folio 57 v...\n"
     ]
    },
    {
     "name": "stderr",
     "output_type": "stream",
     "text": [
      "Some characters could not be decoded, and were replaced with REPLACEMENT CHARACTER.\n"
     ]
    },
    {
     "name": "stdout",
     "output_type": "stream",
     "text": [
      "https://digi.vatlib.it/iiifimage/MSS_Vat.sir.93/Vat.sir.93_0123_fa_0058r.jp2/full/full/0/native.jpg\n",
      "starting to scrape folio 58 r...\n"
     ]
    },
    {
     "name": "stderr",
     "output_type": "stream",
     "text": [
      "Some characters could not be decoded, and were replaced with REPLACEMENT CHARACTER.\n"
     ]
    },
    {
     "name": "stdout",
     "output_type": "stream",
     "text": [
      "https://digi.vatlib.it/iiifimage/MSS_Vat.sir.93/Vat.sir.93_0124_fa_0058v.jp2/full/full/0/native.jpg\n",
      "starting to scrape folio 58 v...\n"
     ]
    },
    {
     "name": "stderr",
     "output_type": "stream",
     "text": [
      "Some characters could not be decoded, and were replaced with REPLACEMENT CHARACTER.\n"
     ]
    },
    {
     "name": "stdout",
     "output_type": "stream",
     "text": [
      "https://digi.vatlib.it/iiifimage/MSS_Vat.sir.93/Vat.sir.93_0125_fa_0059r.jp2/full/full/0/native.jpg\n",
      "starting to scrape folio 59 r...\n"
     ]
    },
    {
     "name": "stderr",
     "output_type": "stream",
     "text": [
      "Some characters could not be decoded, and were replaced with REPLACEMENT CHARACTER.\n"
     ]
    },
    {
     "name": "stdout",
     "output_type": "stream",
     "text": [
      "https://digi.vatlib.it/iiifimage/MSS_Vat.sir.93/Vat.sir.93_0126_fa_0059v.jp2/full/full/0/native.jpg\n",
      "starting to scrape folio 59 v...\n"
     ]
    },
    {
     "name": "stderr",
     "output_type": "stream",
     "text": [
      "Some characters could not be decoded, and were replaced with REPLACEMENT CHARACTER.\n"
     ]
    },
    {
     "name": "stdout",
     "output_type": "stream",
     "text": [
      "https://digi.vatlib.it/iiifimage/MSS_Vat.sir.93/Vat.sir.93_0127_fa_0060r.jp2/full/full/0/native.jpg\n",
      "starting to scrape folio 60 r...\n"
     ]
    },
    {
     "name": "stderr",
     "output_type": "stream",
     "text": [
      "Some characters could not be decoded, and were replaced with REPLACEMENT CHARACTER.\n"
     ]
    },
    {
     "name": "stdout",
     "output_type": "stream",
     "text": [
      "https://digi.vatlib.it/iiifimage/MSS_Vat.sir.93/Vat.sir.93_0128_fa_0060v.jp2/full/full/0/native.jpg\n",
      "starting to scrape folio 60 v...\n"
     ]
    },
    {
     "name": "stderr",
     "output_type": "stream",
     "text": [
      "Some characters could not be decoded, and were replaced with REPLACEMENT CHARACTER.\n"
     ]
    },
    {
     "name": "stdout",
     "output_type": "stream",
     "text": [
      "https://digi.vatlib.it/iiifimage/MSS_Vat.sir.93/Vat.sir.93_0129_fa_0061r.jp2/full/full/0/native.jpg\n",
      "starting to scrape folio 61 r...\n"
     ]
    },
    {
     "name": "stderr",
     "output_type": "stream",
     "text": [
      "Some characters could not be decoded, and were replaced with REPLACEMENT CHARACTER.\n"
     ]
    },
    {
     "name": "stdout",
     "output_type": "stream",
     "text": [
      "https://digi.vatlib.it/iiifimage/MSS_Vat.sir.93/Vat.sir.93_0130_fa_0061v.jp2/full/full/0/native.jpg\n",
      "starting to scrape folio 61 v...\n"
     ]
    },
    {
     "name": "stderr",
     "output_type": "stream",
     "text": [
      "Some characters could not be decoded, and were replaced with REPLACEMENT CHARACTER.\n"
     ]
    },
    {
     "name": "stdout",
     "output_type": "stream",
     "text": [
      "https://digi.vatlib.it/iiifimage/MSS_Vat.sir.93/Vat.sir.93_0131_fa_0062r.jp2/full/full/0/native.jpg\n",
      "starting to scrape folio 62 r...\n"
     ]
    },
    {
     "name": "stderr",
     "output_type": "stream",
     "text": [
      "Some characters could not be decoded, and were replaced with REPLACEMENT CHARACTER.\n"
     ]
    },
    {
     "name": "stdout",
     "output_type": "stream",
     "text": [
      "https://digi.vatlib.it/iiifimage/MSS_Vat.sir.93/Vat.sir.93_0132_fa_0062v.jp2/full/full/0/native.jpg\n",
      "starting to scrape folio 62 v...\n"
     ]
    },
    {
     "name": "stderr",
     "output_type": "stream",
     "text": [
      "Some characters could not be decoded, and were replaced with REPLACEMENT CHARACTER.\n"
     ]
    },
    {
     "name": "stdout",
     "output_type": "stream",
     "text": [
      "https://digi.vatlib.it/iiifimage/MSS_Vat.sir.93/Vat.sir.93_0133_fa_0063r.jp2/full/full/0/native.jpg\n",
      "starting to scrape folio 63 r...\n"
     ]
    },
    {
     "name": "stderr",
     "output_type": "stream",
     "text": [
      "Some characters could not be decoded, and were replaced with REPLACEMENT CHARACTER.\n"
     ]
    },
    {
     "name": "stdout",
     "output_type": "stream",
     "text": [
      "https://digi.vatlib.it/iiifimage/MSS_Vat.sir.93/Vat.sir.93_0134_fa_0063v.jp2/full/full/0/native.jpg\n",
      "starting to scrape folio 63 v...\n"
     ]
    },
    {
     "name": "stderr",
     "output_type": "stream",
     "text": [
      "Some characters could not be decoded, and were replaced with REPLACEMENT CHARACTER.\n"
     ]
    },
    {
     "name": "stdout",
     "output_type": "stream",
     "text": [
      "https://digi.vatlib.it/iiifimage/MSS_Vat.sir.93/Vat.sir.93_0135_fa_0064r.jp2/full/full/0/native.jpg\n",
      "starting to scrape folio 64 r...\n"
     ]
    },
    {
     "name": "stderr",
     "output_type": "stream",
     "text": [
      "Some characters could not be decoded, and were replaced with REPLACEMENT CHARACTER.\n"
     ]
    },
    {
     "name": "stdout",
     "output_type": "stream",
     "text": [
      "https://digi.vatlib.it/iiifimage/MSS_Vat.sir.93/Vat.sir.93_0136_fa_0064v.jp2/full/full/0/native.jpg\n",
      "starting to scrape folio 64 v...\n"
     ]
    },
    {
     "name": "stderr",
     "output_type": "stream",
     "text": [
      "Some characters could not be decoded, and were replaced with REPLACEMENT CHARACTER.\n"
     ]
    },
    {
     "name": "stdout",
     "output_type": "stream",
     "text": [
      "https://digi.vatlib.it/iiifimage/MSS_Vat.sir.93/Vat.sir.93_0137_fa_0065r.jp2/full/full/0/native.jpg\n",
      "starting to scrape folio 65 r...\n"
     ]
    },
    {
     "name": "stderr",
     "output_type": "stream",
     "text": [
      "Some characters could not be decoded, and were replaced with REPLACEMENT CHARACTER.\n"
     ]
    },
    {
     "name": "stdout",
     "output_type": "stream",
     "text": [
      "https://digi.vatlib.it/iiifimage/MSS_Vat.sir.93/Vat.sir.93_0138_fa_0065v.jp2/full/full/0/native.jpg\n",
      "starting to scrape folio 65 v...\n"
     ]
    },
    {
     "name": "stderr",
     "output_type": "stream",
     "text": [
      "Some characters could not be decoded, and were replaced with REPLACEMENT CHARACTER.\n"
     ]
    },
    {
     "name": "stdout",
     "output_type": "stream",
     "text": [
      "https://digi.vatlib.it/iiifimage/MSS_Vat.sir.93/Vat.sir.93_0139_fa_0066r.jp2/full/full/0/native.jpg\n",
      "starting to scrape folio 66 r...\n"
     ]
    },
    {
     "name": "stderr",
     "output_type": "stream",
     "text": [
      "Some characters could not be decoded, and were replaced with REPLACEMENT CHARACTER.\n"
     ]
    },
    {
     "name": "stdout",
     "output_type": "stream",
     "text": [
      "https://digi.vatlib.it/iiifimage/MSS_Vat.sir.93/Vat.sir.93_0140_fa_0066v.jp2/full/full/0/native.jpg\n",
      "starting to scrape folio 66 v...\n"
     ]
    },
    {
     "name": "stderr",
     "output_type": "stream",
     "text": [
      "Some characters could not be decoded, and were replaced with REPLACEMENT CHARACTER.\n"
     ]
    },
    {
     "name": "stdout",
     "output_type": "stream",
     "text": [
      "https://digi.vatlib.it/iiifimage/MSS_Vat.sir.93/Vat.sir.93_0141_fa_0067r.jp2/full/full/0/native.jpg\n",
      "starting to scrape folio 67 r...\n"
     ]
    },
    {
     "name": "stderr",
     "output_type": "stream",
     "text": [
      "Some characters could not be decoded, and were replaced with REPLACEMENT CHARACTER.\n"
     ]
    },
    {
     "name": "stdout",
     "output_type": "stream",
     "text": [
      "https://digi.vatlib.it/iiifimage/MSS_Vat.sir.93/Vat.sir.93_0142_fa_0067v.jp2/full/full/0/native.jpg\n",
      "starting to scrape folio 67 v...\n"
     ]
    },
    {
     "name": "stderr",
     "output_type": "stream",
     "text": [
      "Some characters could not be decoded, and were replaced with REPLACEMENT CHARACTER.\n"
     ]
    },
    {
     "name": "stdout",
     "output_type": "stream",
     "text": [
      "https://digi.vatlib.it/iiifimage/MSS_Vat.sir.93/Vat.sir.93_0143_fa_0068r.jp2/full/full/0/native.jpg\n",
      "starting to scrape folio 68 r...\n"
     ]
    },
    {
     "name": "stderr",
     "output_type": "stream",
     "text": [
      "Some characters could not be decoded, and were replaced with REPLACEMENT CHARACTER.\n"
     ]
    },
    {
     "name": "stdout",
     "output_type": "stream",
     "text": [
      "https://digi.vatlib.it/iiifimage/MSS_Vat.sir.93/Vat.sir.93_0144_fa_0068v.jp2/full/full/0/native.jpg\n",
      "starting to scrape folio 68 v...\n"
     ]
    },
    {
     "name": "stderr",
     "output_type": "stream",
     "text": [
      "Some characters could not be decoded, and were replaced with REPLACEMENT CHARACTER.\n"
     ]
    },
    {
     "name": "stdout",
     "output_type": "stream",
     "text": [
      "https://digi.vatlib.it/iiifimage/MSS_Vat.sir.93/Vat.sir.93_0145_fa_0069r.jp2/full/full/0/native.jpg\n",
      "starting to scrape folio 69 r...\n"
     ]
    },
    {
     "name": "stderr",
     "output_type": "stream",
     "text": [
      "Some characters could not be decoded, and were replaced with REPLACEMENT CHARACTER.\n"
     ]
    },
    {
     "name": "stdout",
     "output_type": "stream",
     "text": [
      "https://digi.vatlib.it/iiifimage/MSS_Vat.sir.93/Vat.sir.93_0146_fa_0069v.jp2/full/full/0/native.jpg\n",
      "starting to scrape folio 69 v...\n"
     ]
    },
    {
     "name": "stderr",
     "output_type": "stream",
     "text": [
      "Some characters could not be decoded, and were replaced with REPLACEMENT CHARACTER.\n"
     ]
    },
    {
     "name": "stdout",
     "output_type": "stream",
     "text": [
      "https://digi.vatlib.it/iiifimage/MSS_Vat.sir.93/Vat.sir.93_0147_fa_0070r.jp2/full/full/0/native.jpg\n",
      "starting to scrape folio 70 r...\n"
     ]
    },
    {
     "name": "stderr",
     "output_type": "stream",
     "text": [
      "Some characters could not be decoded, and were replaced with REPLACEMENT CHARACTER.\n"
     ]
    },
    {
     "name": "stdout",
     "output_type": "stream",
     "text": [
      "https://digi.vatlib.it/iiifimage/MSS_Vat.sir.93/Vat.sir.93_0148_fa_0070v.jp2/full/full/0/native.jpg\n",
      "starting to scrape folio 70 v...\n"
     ]
    },
    {
     "name": "stderr",
     "output_type": "stream",
     "text": [
      "Some characters could not be decoded, and were replaced with REPLACEMENT CHARACTER.\n"
     ]
    },
    {
     "name": "stdout",
     "output_type": "stream",
     "text": [
      "https://digi.vatlib.it/iiifimage/MSS_Vat.sir.93/Vat.sir.93_0149_fa_0071r.jp2/full/full/0/native.jpg\n",
      "starting to scrape folio 71 r...\n"
     ]
    },
    {
     "name": "stderr",
     "output_type": "stream",
     "text": [
      "Some characters could not be decoded, and were replaced with REPLACEMENT CHARACTER.\n"
     ]
    },
    {
     "name": "stdout",
     "output_type": "stream",
     "text": [
      "https://digi.vatlib.it/iiifimage/MSS_Vat.sir.93/Vat.sir.93_0150_fa_0071v.jp2/full/full/0/native.jpg\n",
      "starting to scrape folio 71 v...\n"
     ]
    },
    {
     "name": "stderr",
     "output_type": "stream",
     "text": [
      "Some characters could not be decoded, and were replaced with REPLACEMENT CHARACTER.\n"
     ]
    },
    {
     "name": "stdout",
     "output_type": "stream",
     "text": [
      "https://digi.vatlib.it/iiifimage/MSS_Vat.sir.93/Vat.sir.93_0151_fa_0072r.jp2/full/full/0/native.jpg\n",
      "starting to scrape folio 72 r...\n"
     ]
    },
    {
     "name": "stderr",
     "output_type": "stream",
     "text": [
      "Some characters could not be decoded, and were replaced with REPLACEMENT CHARACTER.\n"
     ]
    },
    {
     "name": "stdout",
     "output_type": "stream",
     "text": [
      "https://digi.vatlib.it/iiifimage/MSS_Vat.sir.93/Vat.sir.93_0152_fa_0072v.jp2/full/full/0/native.jpg\n",
      "starting to scrape folio 72 v...\n"
     ]
    },
    {
     "name": "stderr",
     "output_type": "stream",
     "text": [
      "Some characters could not be decoded, and were replaced with REPLACEMENT CHARACTER.\n"
     ]
    },
    {
     "name": "stdout",
     "output_type": "stream",
     "text": [
      "https://digi.vatlib.it/iiifimage/MSS_Vat.sir.93/Vat.sir.93_0153_fa_0073r.jp2/full/full/0/native.jpg\n",
      "starting to scrape folio 73 r...\n"
     ]
    },
    {
     "name": "stderr",
     "output_type": "stream",
     "text": [
      "Some characters could not be decoded, and were replaced with REPLACEMENT CHARACTER.\n"
     ]
    },
    {
     "name": "stdout",
     "output_type": "stream",
     "text": [
      "https://digi.vatlib.it/iiifimage/MSS_Vat.sir.93/Vat.sir.93_0154_fa_0073v.jp2/full/full/0/native.jpg\n",
      "starting to scrape folio 73 v...\n"
     ]
    },
    {
     "name": "stderr",
     "output_type": "stream",
     "text": [
      "Some characters could not be decoded, and were replaced with REPLACEMENT CHARACTER.\n"
     ]
    },
    {
     "name": "stdout",
     "output_type": "stream",
     "text": [
      "https://digi.vatlib.it/iiifimage/MSS_Vat.sir.93/Vat.sir.93_0155_fa_0074r.jp2/full/full/0/native.jpg\n",
      "starting to scrape folio 74 r...\n"
     ]
    },
    {
     "name": "stderr",
     "output_type": "stream",
     "text": [
      "Some characters could not be decoded, and were replaced with REPLACEMENT CHARACTER.\n"
     ]
    },
    {
     "name": "stdout",
     "output_type": "stream",
     "text": [
      "https://digi.vatlib.it/iiifimage/MSS_Vat.sir.93/Vat.sir.93_0156_fa_0074v.jp2/full/full/0/native.jpg\n",
      "starting to scrape folio 74 v...\n"
     ]
    },
    {
     "name": "stderr",
     "output_type": "stream",
     "text": [
      "Some characters could not be decoded, and were replaced with REPLACEMENT CHARACTER.\n"
     ]
    },
    {
     "name": "stdout",
     "output_type": "stream",
     "text": [
      "https://digi.vatlib.it/iiifimage/MSS_Vat.sir.93/Vat.sir.93_0157_fa_0075r.jp2/full/full/0/native.jpg\n",
      "starting to scrape folio 75 r...\n"
     ]
    },
    {
     "name": "stderr",
     "output_type": "stream",
     "text": [
      "Some characters could not be decoded, and were replaced with REPLACEMENT CHARACTER.\n"
     ]
    },
    {
     "name": "stdout",
     "output_type": "stream",
     "text": [
      "https://digi.vatlib.it/iiifimage/MSS_Vat.sir.93/Vat.sir.93_0158_fa_0075v.jp2/full/full/0/native.jpg\n",
      "starting to scrape folio 75 v...\n"
     ]
    },
    {
     "name": "stderr",
     "output_type": "stream",
     "text": [
      "Some characters could not be decoded, and were replaced with REPLACEMENT CHARACTER.\n"
     ]
    },
    {
     "name": "stdout",
     "output_type": "stream",
     "text": [
      "https://digi.vatlib.it/iiifimage/MSS_Vat.sir.93/Vat.sir.93_0159_fa_0076r.jp2/full/full/0/native.jpg\n",
      "starting to scrape folio 76 r...\n"
     ]
    },
    {
     "name": "stderr",
     "output_type": "stream",
     "text": [
      "Some characters could not be decoded, and were replaced with REPLACEMENT CHARACTER.\n"
     ]
    },
    {
     "name": "stdout",
     "output_type": "stream",
     "text": [
      "https://digi.vatlib.it/iiifimage/MSS_Vat.sir.93/Vat.sir.93_0160_fa_0076v.jp2/full/full/0/native.jpg\n",
      "starting to scrape folio 76 v...\n"
     ]
    },
    {
     "name": "stderr",
     "output_type": "stream",
     "text": [
      "Some characters could not be decoded, and were replaced with REPLACEMENT CHARACTER.\n"
     ]
    },
    {
     "name": "stdout",
     "output_type": "stream",
     "text": [
      "https://digi.vatlib.it/iiifimage/MSS_Vat.sir.93/Vat.sir.93_0161_fa_0077r.jp2/full/full/0/native.jpg\n",
      "starting to scrape folio 77 r...\n"
     ]
    },
    {
     "name": "stderr",
     "output_type": "stream",
     "text": [
      "Some characters could not be decoded, and were replaced with REPLACEMENT CHARACTER.\n"
     ]
    },
    {
     "name": "stdout",
     "output_type": "stream",
     "text": [
      "https://digi.vatlib.it/iiifimage/MSS_Vat.sir.93/Vat.sir.93_0162_fa_0077v.jp2/full/full/0/native.jpg\n",
      "starting to scrape folio 77 v...\n"
     ]
    },
    {
     "name": "stderr",
     "output_type": "stream",
     "text": [
      "Some characters could not be decoded, and were replaced with REPLACEMENT CHARACTER.\n"
     ]
    },
    {
     "name": "stdout",
     "output_type": "stream",
     "text": [
      "https://digi.vatlib.it/iiifimage/MSS_Vat.sir.93/Vat.sir.93_0163_fa_0078r.jp2/full/full/0/native.jpg\n",
      "starting to scrape folio 78 r...\n"
     ]
    },
    {
     "name": "stderr",
     "output_type": "stream",
     "text": [
      "Some characters could not be decoded, and were replaced with REPLACEMENT CHARACTER.\n"
     ]
    },
    {
     "name": "stdout",
     "output_type": "stream",
     "text": [
      "https://digi.vatlib.it/iiifimage/MSS_Vat.sir.93/Vat.sir.93_0164_fa_0078v.jp2/full/full/0/native.jpg\n",
      "starting to scrape folio 78 v...\n"
     ]
    },
    {
     "name": "stderr",
     "output_type": "stream",
     "text": [
      "Some characters could not be decoded, and were replaced with REPLACEMENT CHARACTER.\n"
     ]
    },
    {
     "name": "stdout",
     "output_type": "stream",
     "text": [
      "https://digi.vatlib.it/iiifimage/MSS_Vat.sir.93/Vat.sir.93_0165_fa_0079r.jp2/full/full/0/native.jpg\n",
      "starting to scrape folio 79 r...\n"
     ]
    },
    {
     "name": "stderr",
     "output_type": "stream",
     "text": [
      "Some characters could not be decoded, and were replaced with REPLACEMENT CHARACTER.\n"
     ]
    },
    {
     "name": "stdout",
     "output_type": "stream",
     "text": [
      "https://digi.vatlib.it/iiifimage/MSS_Vat.sir.93/Vat.sir.93_0166_fa_0079v.jp2/full/full/0/native.jpg\n",
      "starting to scrape folio 79 v...\n"
     ]
    },
    {
     "name": "stderr",
     "output_type": "stream",
     "text": [
      "Some characters could not be decoded, and were replaced with REPLACEMENT CHARACTER.\n"
     ]
    },
    {
     "name": "stdout",
     "output_type": "stream",
     "text": [
      "https://digi.vatlib.it/iiifimage/MSS_Vat.sir.93/Vat.sir.93_0167_fa_0080r.jp2/full/full/0/native.jpg\n",
      "starting to scrape folio 80 r...\n"
     ]
    },
    {
     "name": "stderr",
     "output_type": "stream",
     "text": [
      "Some characters could not be decoded, and were replaced with REPLACEMENT CHARACTER.\n"
     ]
    },
    {
     "name": "stdout",
     "output_type": "stream",
     "text": [
      "https://digi.vatlib.it/iiifimage/MSS_Vat.sir.93/Vat.sir.93_0168_fa_0080v.jp2/full/full/0/native.jpg\n",
      "starting to scrape folio 80 v...\n"
     ]
    },
    {
     "name": "stderr",
     "output_type": "stream",
     "text": [
      "Some characters could not be decoded, and were replaced with REPLACEMENT CHARACTER.\n"
     ]
    },
    {
     "name": "stdout",
     "output_type": "stream",
     "text": [
      "https://digi.vatlib.it/iiifimage/MSS_Vat.sir.93/Vat.sir.93_0169_fa_0081r.jp2/full/full/0/native.jpg\n",
      "starting to scrape folio 81 r...\n"
     ]
    },
    {
     "name": "stderr",
     "output_type": "stream",
     "text": [
      "Some characters could not be decoded, and were replaced with REPLACEMENT CHARACTER.\n"
     ]
    },
    {
     "name": "stdout",
     "output_type": "stream",
     "text": [
      "https://digi.vatlib.it/iiifimage/MSS_Vat.sir.93/Vat.sir.93_0170_fa_0081v.jp2/full/full/0/native.jpg\n",
      "starting to scrape folio 81 v...\n"
     ]
    },
    {
     "name": "stderr",
     "output_type": "stream",
     "text": [
      "Some characters could not be decoded, and were replaced with REPLACEMENT CHARACTER.\n"
     ]
    },
    {
     "name": "stdout",
     "output_type": "stream",
     "text": [
      "https://digi.vatlib.it/iiifimage/MSS_Vat.sir.93/Vat.sir.93_0171_fa_0082r.jp2/full/full/0/native.jpg\n",
      "starting to scrape folio 82 r...\n"
     ]
    },
    {
     "name": "stderr",
     "output_type": "stream",
     "text": [
      "Some characters could not be decoded, and were replaced with REPLACEMENT CHARACTER.\n"
     ]
    },
    {
     "name": "stdout",
     "output_type": "stream",
     "text": [
      "https://digi.vatlib.it/iiifimage/MSS_Vat.sir.93/Vat.sir.93_0172_fa_0082v.jp2/full/full/0/native.jpg\n",
      "starting to scrape folio 82 v...\n"
     ]
    },
    {
     "name": "stderr",
     "output_type": "stream",
     "text": [
      "Some characters could not be decoded, and were replaced with REPLACEMENT CHARACTER.\n"
     ]
    },
    {
     "name": "stdout",
     "output_type": "stream",
     "text": [
      "https://digi.vatlib.it/iiifimage/MSS_Vat.sir.93/Vat.sir.93_0173_fa_0083r.jp2/full/full/0/native.jpg\n",
      "starting to scrape folio 83 r...\n"
     ]
    },
    {
     "name": "stderr",
     "output_type": "stream",
     "text": [
      "Some characters could not be decoded, and were replaced with REPLACEMENT CHARACTER.\n"
     ]
    },
    {
     "name": "stdout",
     "output_type": "stream",
     "text": [
      "https://digi.vatlib.it/iiifimage/MSS_Vat.sir.93/Vat.sir.93_0174_fa_0083v.jp2/full/full/0/native.jpg\n",
      "starting to scrape folio 83 v...\n"
     ]
    },
    {
     "name": "stderr",
     "output_type": "stream",
     "text": [
      "Some characters could not be decoded, and were replaced with REPLACEMENT CHARACTER.\n"
     ]
    },
    {
     "name": "stdout",
     "output_type": "stream",
     "text": [
      "https://digi.vatlib.it/iiifimage/MSS_Vat.sir.93/Vat.sir.93_0175_fa_0084r.jp2/full/full/0/native.jpg\n",
      "starting to scrape folio 84 r...\n"
     ]
    },
    {
     "name": "stderr",
     "output_type": "stream",
     "text": [
      "Some characters could not be decoded, and were replaced with REPLACEMENT CHARACTER.\n"
     ]
    },
    {
     "name": "stdout",
     "output_type": "stream",
     "text": [
      "https://digi.vatlib.it/iiifimage/MSS_Vat.sir.93/Vat.sir.93_0176_fa_0084v.jp2/full/full/0/native.jpg\n",
      "starting to scrape folio 84 v...\n"
     ]
    },
    {
     "name": "stderr",
     "output_type": "stream",
     "text": [
      "Some characters could not be decoded, and were replaced with REPLACEMENT CHARACTER.\n"
     ]
    },
    {
     "name": "stdout",
     "output_type": "stream",
     "text": [
      "https://digi.vatlib.it/iiifimage/MSS_Vat.sir.93/Vat.sir.93_0177_fa_0085r.jp2/full/full/0/native.jpg\n",
      "starting to scrape folio 85 r...\n"
     ]
    },
    {
     "name": "stderr",
     "output_type": "stream",
     "text": [
      "Some characters could not be decoded, and were replaced with REPLACEMENT CHARACTER.\n"
     ]
    },
    {
     "name": "stdout",
     "output_type": "stream",
     "text": [
      "https://digi.vatlib.it/iiifimage/MSS_Vat.sir.93/Vat.sir.93_0178_fa_0085v.jp2/full/full/0/native.jpg\n",
      "starting to scrape folio 85 v...\n"
     ]
    },
    {
     "name": "stderr",
     "output_type": "stream",
     "text": [
      "Some characters could not be decoded, and were replaced with REPLACEMENT CHARACTER.\n"
     ]
    },
    {
     "name": "stdout",
     "output_type": "stream",
     "text": [
      "https://digi.vatlib.it/iiifimage/MSS_Vat.sir.93/Vat.sir.93_0179_fa_0086r.jp2/full/full/0/native.jpg\n",
      "starting to scrape folio 86 r...\n"
     ]
    },
    {
     "name": "stderr",
     "output_type": "stream",
     "text": [
      "Some characters could not be decoded, and were replaced with REPLACEMENT CHARACTER.\n"
     ]
    },
    {
     "name": "stdout",
     "output_type": "stream",
     "text": [
      "https://digi.vatlib.it/iiifimage/MSS_Vat.sir.93/Vat.sir.93_0180_fa_0086v.jp2/full/full/0/native.jpg\n",
      "starting to scrape folio 86 v...\n"
     ]
    },
    {
     "name": "stderr",
     "output_type": "stream",
     "text": [
      "Some characters could not be decoded, and were replaced with REPLACEMENT CHARACTER.\n"
     ]
    },
    {
     "name": "stdout",
     "output_type": "stream",
     "text": [
      "https://digi.vatlib.it/iiifimage/MSS_Vat.sir.93/Vat.sir.93_0181_fa_0087r.jp2/full/full/0/native.jpg\n",
      "starting to scrape folio 87 r...\n"
     ]
    },
    {
     "name": "stderr",
     "output_type": "stream",
     "text": [
      "Some characters could not be decoded, and were replaced with REPLACEMENT CHARACTER.\n"
     ]
    },
    {
     "name": "stdout",
     "output_type": "stream",
     "text": [
      "https://digi.vatlib.it/iiifimage/MSS_Vat.sir.93/Vat.sir.93_0182_fa_0087v.jp2/full/full/0/native.jpg\n",
      "starting to scrape folio 87 v...\n"
     ]
    },
    {
     "name": "stderr",
     "output_type": "stream",
     "text": [
      "Some characters could not be decoded, and were replaced with REPLACEMENT CHARACTER.\n"
     ]
    },
    {
     "name": "stdout",
     "output_type": "stream",
     "text": [
      "https://digi.vatlib.it/iiifimage/MSS_Vat.sir.93/Vat.sir.93_0183_fa_0088r.jp2/full/full/0/native.jpg\n",
      "starting to scrape folio 88 r...\n"
     ]
    },
    {
     "name": "stderr",
     "output_type": "stream",
     "text": [
      "Some characters could not be decoded, and were replaced with REPLACEMENT CHARACTER.\n"
     ]
    },
    {
     "name": "stdout",
     "output_type": "stream",
     "text": [
      "https://digi.vatlib.it/iiifimage/MSS_Vat.sir.93/Vat.sir.93_0184_fa_0088v.jp2/full/full/0/native.jpg\n",
      "starting to scrape folio 88 v...\n"
     ]
    },
    {
     "name": "stderr",
     "output_type": "stream",
     "text": [
      "Some characters could not be decoded, and were replaced with REPLACEMENT CHARACTER.\n"
     ]
    },
    {
     "name": "stdout",
     "output_type": "stream",
     "text": [
      "https://digi.vatlib.it/iiifimage/MSS_Vat.sir.93/Vat.sir.93_0185_fa_0089r.jp2/full/full/0/native.jpg\n",
      "starting to scrape folio 89 r...\n"
     ]
    },
    {
     "name": "stderr",
     "output_type": "stream",
     "text": [
      "Some characters could not be decoded, and were replaced with REPLACEMENT CHARACTER.\n"
     ]
    },
    {
     "name": "stdout",
     "output_type": "stream",
     "text": [
      "https://digi.vatlib.it/iiifimage/MSS_Vat.sir.93/Vat.sir.93_0186_fa_0089v.jp2/full/full/0/native.jpg\n",
      "starting to scrape folio 89 v...\n"
     ]
    },
    {
     "name": "stderr",
     "output_type": "stream",
     "text": [
      "Some characters could not be decoded, and were replaced with REPLACEMENT CHARACTER.\n"
     ]
    },
    {
     "name": "stdout",
     "output_type": "stream",
     "text": [
      "https://digi.vatlib.it/iiifimage/MSS_Vat.sir.93/Vat.sir.93_0187_fa_0090r.jp2/full/full/0/native.jpg\n",
      "starting to scrape folio 90 r...\n"
     ]
    },
    {
     "name": "stderr",
     "output_type": "stream",
     "text": [
      "Some characters could not be decoded, and were replaced with REPLACEMENT CHARACTER.\n"
     ]
    },
    {
     "name": "stdout",
     "output_type": "stream",
     "text": [
      "https://digi.vatlib.it/iiifimage/MSS_Vat.sir.93/Vat.sir.93_0188_fa_0090v.jp2/full/full/0/native.jpg\n",
      "starting to scrape folio 90 v...\n"
     ]
    },
    {
     "name": "stderr",
     "output_type": "stream",
     "text": [
      "Some characters could not be decoded, and were replaced with REPLACEMENT CHARACTER.\n"
     ]
    },
    {
     "name": "stdout",
     "output_type": "stream",
     "text": [
      "https://digi.vatlib.it/iiifimage/MSS_Vat.sir.93/Vat.sir.93_0189_fa_0091r.jp2/full/full/0/native.jpg\n",
      "starting to scrape folio 91 r...\n"
     ]
    },
    {
     "name": "stderr",
     "output_type": "stream",
     "text": [
      "Some characters could not be decoded, and were replaced with REPLACEMENT CHARACTER.\n"
     ]
    },
    {
     "name": "stdout",
     "output_type": "stream",
     "text": [
      "https://digi.vatlib.it/iiifimage/MSS_Vat.sir.93/Vat.sir.93_0190_fa_0091v.jp2/full/full/0/native.jpg\n",
      "starting to scrape folio 91 v...\n"
     ]
    },
    {
     "name": "stderr",
     "output_type": "stream",
     "text": [
      "Some characters could not be decoded, and were replaced with REPLACEMENT CHARACTER.\n"
     ]
    },
    {
     "name": "stdout",
     "output_type": "stream",
     "text": [
      "https://digi.vatlib.it/iiifimage/MSS_Vat.sir.93/Vat.sir.93_0191_fa_0092r.jp2/full/full/0/native.jpg\n",
      "starting to scrape folio 92 r...\n"
     ]
    },
    {
     "name": "stderr",
     "output_type": "stream",
     "text": [
      "Some characters could not be decoded, and were replaced with REPLACEMENT CHARACTER.\n"
     ]
    },
    {
     "name": "stdout",
     "output_type": "stream",
     "text": [
      "https://digi.vatlib.it/iiifimage/MSS_Vat.sir.93/Vat.sir.93_0192_fa_0092v.jp2/full/full/0/native.jpg\n",
      "starting to scrape folio 92 v...\n"
     ]
    },
    {
     "name": "stderr",
     "output_type": "stream",
     "text": [
      "Some characters could not be decoded, and were replaced with REPLACEMENT CHARACTER.\n"
     ]
    },
    {
     "name": "stdout",
     "output_type": "stream",
     "text": [
      "https://digi.vatlib.it/iiifimage/MSS_Vat.sir.93/Vat.sir.93_0193_fa_0093r.jp2/full/full/0/native.jpg\n",
      "starting to scrape folio 93 r...\n"
     ]
    },
    {
     "name": "stderr",
     "output_type": "stream",
     "text": [
      "Some characters could not be decoded, and were replaced with REPLACEMENT CHARACTER.\n"
     ]
    },
    {
     "name": "stdout",
     "output_type": "stream",
     "text": [
      "https://digi.vatlib.it/iiifimage/MSS_Vat.sir.93/Vat.sir.93_0194_fa_0093v.jp2/full/full/0/native.jpg\n",
      "starting to scrape folio 93 v...\n"
     ]
    },
    {
     "name": "stderr",
     "output_type": "stream",
     "text": [
      "Some characters could not be decoded, and were replaced with REPLACEMENT CHARACTER.\n"
     ]
    },
    {
     "name": "stdout",
     "output_type": "stream",
     "text": [
      "https://digi.vatlib.it/iiifimage/MSS_Vat.sir.93/Vat.sir.93_0195_fa_0094r.jp2/full/full/0/native.jpg\n",
      "starting to scrape folio 94 r...\n"
     ]
    },
    {
     "name": "stderr",
     "output_type": "stream",
     "text": [
      "Some characters could not be decoded, and were replaced with REPLACEMENT CHARACTER.\n"
     ]
    },
    {
     "name": "stdout",
     "output_type": "stream",
     "text": [
      "https://digi.vatlib.it/iiifimage/MSS_Vat.sir.93/Vat.sir.93_0196_fa_0094v.jp2/full/full/0/native.jpg\n",
      "starting to scrape folio 94 v...\n"
     ]
    },
    {
     "name": "stderr",
     "output_type": "stream",
     "text": [
      "Some characters could not be decoded, and were replaced with REPLACEMENT CHARACTER.\n"
     ]
    },
    {
     "name": "stdout",
     "output_type": "stream",
     "text": [
      "https://digi.vatlib.it/iiifimage/MSS_Vat.sir.93/Vat.sir.93_0197_fa_0095r.jp2/full/full/0/native.jpg\n",
      "starting to scrape folio 95 r...\n"
     ]
    },
    {
     "name": "stderr",
     "output_type": "stream",
     "text": [
      "Some characters could not be decoded, and were replaced with REPLACEMENT CHARACTER.\n"
     ]
    },
    {
     "name": "stdout",
     "output_type": "stream",
     "text": [
      "https://digi.vatlib.it/iiifimage/MSS_Vat.sir.93/Vat.sir.93_0198_fa_0095v.jp2/full/full/0/native.jpg\n",
      "starting to scrape folio 95 v...\n"
     ]
    },
    {
     "name": "stderr",
     "output_type": "stream",
     "text": [
      "Some characters could not be decoded, and were replaced with REPLACEMENT CHARACTER.\n"
     ]
    },
    {
     "name": "stdout",
     "output_type": "stream",
     "text": [
      "https://digi.vatlib.it/iiifimage/MSS_Vat.sir.93/Vat.sir.93_0199_fa_0096r.jp2/full/full/0/native.jpg\n",
      "starting to scrape folio 96 r...\n"
     ]
    },
    {
     "name": "stderr",
     "output_type": "stream",
     "text": [
      "Some characters could not be decoded, and were replaced with REPLACEMENT CHARACTER.\n"
     ]
    },
    {
     "name": "stdout",
     "output_type": "stream",
     "text": [
      "https://digi.vatlib.it/iiifimage/MSS_Vat.sir.93/Vat.sir.93_0200_fa_0096v.jp2/full/full/0/native.jpg\n",
      "starting to scrape folio 96 v...\n"
     ]
    },
    {
     "name": "stderr",
     "output_type": "stream",
     "text": [
      "Some characters could not be decoded, and were replaced with REPLACEMENT CHARACTER.\n"
     ]
    },
    {
     "name": "stdout",
     "output_type": "stream",
     "text": [
      "https://digi.vatlib.it/iiifimage/MSS_Vat.sir.93/Vat.sir.93_0201_fa_0097r.jp2/full/full/0/native.jpg\n",
      "starting to scrape folio 97 r...\n"
     ]
    },
    {
     "name": "stderr",
     "output_type": "stream",
     "text": [
      "Some characters could not be decoded, and were replaced with REPLACEMENT CHARACTER.\n"
     ]
    },
    {
     "name": "stdout",
     "output_type": "stream",
     "text": [
      "https://digi.vatlib.it/iiifimage/MSS_Vat.sir.93/Vat.sir.93_0202_fa_0097v.jp2/full/full/0/native.jpg\n",
      "starting to scrape folio 97 v...\n"
     ]
    },
    {
     "name": "stderr",
     "output_type": "stream",
     "text": [
      "Some characters could not be decoded, and were replaced with REPLACEMENT CHARACTER.\n"
     ]
    },
    {
     "name": "stdout",
     "output_type": "stream",
     "text": [
      "https://digi.vatlib.it/iiifimage/MSS_Vat.sir.93/Vat.sir.93_0203_fa_0098r.jp2/full/full/0/native.jpg\n",
      "starting to scrape folio 98 r...\n"
     ]
    },
    {
     "name": "stderr",
     "output_type": "stream",
     "text": [
      "Some characters could not be decoded, and were replaced with REPLACEMENT CHARACTER.\n"
     ]
    },
    {
     "name": "stdout",
     "output_type": "stream",
     "text": [
      "https://digi.vatlib.it/iiifimage/MSS_Vat.sir.93/Vat.sir.93_0204_fa_0098v.jp2/full/full/0/native.jpg\n",
      "starting to scrape folio 98 v...\n"
     ]
    },
    {
     "name": "stderr",
     "output_type": "stream",
     "text": [
      "Some characters could not be decoded, and were replaced with REPLACEMENT CHARACTER.\n"
     ]
    },
    {
     "name": "stdout",
     "output_type": "stream",
     "text": [
      "https://digi.vatlib.it/iiifimage/MSS_Vat.sir.93/Vat.sir.93_0205_fa_0099r.jp2/full/full/0/native.jpg\n",
      "starting to scrape folio 99 r...\n"
     ]
    },
    {
     "name": "stderr",
     "output_type": "stream",
     "text": [
      "Some characters could not be decoded, and were replaced with REPLACEMENT CHARACTER.\n"
     ]
    },
    {
     "name": "stdout",
     "output_type": "stream",
     "text": [
      "https://digi.vatlib.it/iiifimage/MSS_Vat.sir.93/Vat.sir.93_0206_fa_0099v.jp2/full/full/0/native.jpg\n",
      "starting to scrape folio 99 v...\n"
     ]
    },
    {
     "name": "stderr",
     "output_type": "stream",
     "text": [
      "Some characters could not be decoded, and were replaced with REPLACEMENT CHARACTER.\n"
     ]
    },
    {
     "name": "stdout",
     "output_type": "stream",
     "text": [
      "https://digi.vatlib.it/iiifimage/MSS_Vat.sir.93/Vat.sir.93_0207_fa_0100r.jp2/full/full/0/native.jpg\n",
      "starting to scrape folio 100 r...\n"
     ]
    },
    {
     "name": "stderr",
     "output_type": "stream",
     "text": [
      "Some characters could not be decoded, and were replaced with REPLACEMENT CHARACTER.\n"
     ]
    },
    {
     "name": "stdout",
     "output_type": "stream",
     "text": [
      "https://digi.vatlib.it/iiifimage/MSS_Vat.sir.93/Vat.sir.93_0208_fa_0100v.jp2/full/full/0/native.jpg\n",
      "starting to scrape folio 100 v...\n"
     ]
    },
    {
     "name": "stderr",
     "output_type": "stream",
     "text": [
      "Some characters could not be decoded, and were replaced with REPLACEMENT CHARACTER.\n"
     ]
    },
    {
     "name": "stdout",
     "output_type": "stream",
     "text": [
      "https://digi.vatlib.it/iiifimage/MSS_Vat.sir.93/Vat.sir.93_0209_fa_0101r.jp2/full/full/0/native.jpg\n",
      "starting to scrape folio 101 r...\n"
     ]
    },
    {
     "name": "stderr",
     "output_type": "stream",
     "text": [
      "Some characters could not be decoded, and were replaced with REPLACEMENT CHARACTER.\n"
     ]
    },
    {
     "name": "stdout",
     "output_type": "stream",
     "text": [
      "https://digi.vatlib.it/iiifimage/MSS_Vat.sir.93/Vat.sir.93_0210_fa_0101v.jp2/full/full/0/native.jpg\n",
      "starting to scrape folio 101 v...\n"
     ]
    },
    {
     "name": "stderr",
     "output_type": "stream",
     "text": [
      "Some characters could not be decoded, and were replaced with REPLACEMENT CHARACTER.\n"
     ]
    },
    {
     "name": "stdout",
     "output_type": "stream",
     "text": [
      "https://digi.vatlib.it/iiifimage/MSS_Vat.sir.93/Vat.sir.93_0211_fa_0102r.jp2/full/full/0/native.jpg\n",
      "starting to scrape folio 102 r...\n"
     ]
    },
    {
     "name": "stderr",
     "output_type": "stream",
     "text": [
      "Some characters could not be decoded, and were replaced with REPLACEMENT CHARACTER.\n"
     ]
    },
    {
     "name": "stdout",
     "output_type": "stream",
     "text": [
      "https://digi.vatlib.it/iiifimage/MSS_Vat.sir.93/Vat.sir.93_0212_fa_0102v.jp2/full/full/0/native.jpg\n",
      "starting to scrape folio 102 v...\n"
     ]
    },
    {
     "name": "stderr",
     "output_type": "stream",
     "text": [
      "Some characters could not be decoded, and were replaced with REPLACEMENT CHARACTER.\n"
     ]
    },
    {
     "name": "stdout",
     "output_type": "stream",
     "text": [
      "https://digi.vatlib.it/iiifimage/MSS_Vat.sir.93/Vat.sir.93_0213_fa_0103r.jp2/full/full/0/native.jpg\n",
      "starting to scrape folio 103 r...\n"
     ]
    },
    {
     "name": "stderr",
     "output_type": "stream",
     "text": [
      "Some characters could not be decoded, and were replaced with REPLACEMENT CHARACTER.\n"
     ]
    },
    {
     "name": "stdout",
     "output_type": "stream",
     "text": [
      "https://digi.vatlib.it/iiifimage/MSS_Vat.sir.93/Vat.sir.93_0214_fa_0103v.jp2/full/full/0/native.jpg\n",
      "starting to scrape folio 103 v...\n"
     ]
    },
    {
     "name": "stderr",
     "output_type": "stream",
     "text": [
      "Some characters could not be decoded, and were replaced with REPLACEMENT CHARACTER.\n"
     ]
    },
    {
     "name": "stdout",
     "output_type": "stream",
     "text": [
      "https://digi.vatlib.it/iiifimage/MSS_Vat.sir.93/Vat.sir.93_0215_fa_0104r.jp2/full/full/0/native.jpg\n",
      "starting to scrape folio 104 r...\n"
     ]
    },
    {
     "name": "stderr",
     "output_type": "stream",
     "text": [
      "Some characters could not be decoded, and were replaced with REPLACEMENT CHARACTER.\n"
     ]
    },
    {
     "name": "stdout",
     "output_type": "stream",
     "text": [
      "https://digi.vatlib.it/iiifimage/MSS_Vat.sir.93/Vat.sir.93_0216_fa_0104v.jp2/full/full/0/native.jpg\n",
      "starting to scrape folio 104 v...\n"
     ]
    },
    {
     "name": "stderr",
     "output_type": "stream",
     "text": [
      "Some characters could not be decoded, and were replaced with REPLACEMENT CHARACTER.\n"
     ]
    },
    {
     "name": "stdout",
     "output_type": "stream",
     "text": [
      "https://digi.vatlib.it/iiifimage/MSS_Vat.sir.93/Vat.sir.93_0217_fa_0105r.jp2/full/full/0/native.jpg\n",
      "starting to scrape folio 105 r...\n"
     ]
    },
    {
     "name": "stderr",
     "output_type": "stream",
     "text": [
      "Some characters could not be decoded, and were replaced with REPLACEMENT CHARACTER.\n"
     ]
    },
    {
     "name": "stdout",
     "output_type": "stream",
     "text": [
      "https://digi.vatlib.it/iiifimage/MSS_Vat.sir.93/Vat.sir.93_0218_fa_0105v.jp2/full/full/0/native.jpg\n",
      "starting to scrape folio 105 v...\n"
     ]
    },
    {
     "name": "stderr",
     "output_type": "stream",
     "text": [
      "Some characters could not be decoded, and were replaced with REPLACEMENT CHARACTER.\n"
     ]
    },
    {
     "name": "stdout",
     "output_type": "stream",
     "text": [
      "https://digi.vatlib.it/iiifimage/MSS_Vat.sir.93/Vat.sir.93_0219_fa_0106r.jp2/full/full/0/native.jpg\n",
      "starting to scrape folio 106 r...\n"
     ]
    },
    {
     "name": "stderr",
     "output_type": "stream",
     "text": [
      "Some characters could not be decoded, and were replaced with REPLACEMENT CHARACTER.\n"
     ]
    },
    {
     "name": "stdout",
     "output_type": "stream",
     "text": [
      "https://digi.vatlib.it/iiifimage/MSS_Vat.sir.93/Vat.sir.93_0220_fa_0106v.jp2/full/full/0/native.jpg\n",
      "starting to scrape folio 106 v...\n"
     ]
    },
    {
     "name": "stderr",
     "output_type": "stream",
     "text": [
      "Some characters could not be decoded, and were replaced with REPLACEMENT CHARACTER.\n"
     ]
    },
    {
     "name": "stdout",
     "output_type": "stream",
     "text": [
      "https://digi.vatlib.it/iiifimage/MSS_Vat.sir.93/Vat.sir.93_0221_fa_0107r.jp2/full/full/0/native.jpg\n",
      "starting to scrape folio 107 r...\n"
     ]
    },
    {
     "name": "stderr",
     "output_type": "stream",
     "text": [
      "Some characters could not be decoded, and were replaced with REPLACEMENT CHARACTER.\n"
     ]
    },
    {
     "name": "stdout",
     "output_type": "stream",
     "text": [
      "https://digi.vatlib.it/iiifimage/MSS_Vat.sir.93/Vat.sir.93_0222_fa_0107v.jp2/full/full/0/native.jpg\n",
      "starting to scrape folio 107 v...\n"
     ]
    },
    {
     "name": "stderr",
     "output_type": "stream",
     "text": [
      "Some characters could not be decoded, and were replaced with REPLACEMENT CHARACTER.\n"
     ]
    },
    {
     "name": "stdout",
     "output_type": "stream",
     "text": [
      "https://digi.vatlib.it/iiifimage/MSS_Vat.sir.93/Vat.sir.93_0223_fa_0108r.jp2/full/full/0/native.jpg\n",
      "starting to scrape folio 108 r...\n"
     ]
    },
    {
     "name": "stderr",
     "output_type": "stream",
     "text": [
      "Some characters could not be decoded, and were replaced with REPLACEMENT CHARACTER.\n"
     ]
    },
    {
     "name": "stdout",
     "output_type": "stream",
     "text": [
      "https://digi.vatlib.it/iiifimage/MSS_Vat.sir.93/Vat.sir.93_0224_fa_0108v.jp2/full/full/0/native.jpg\n",
      "starting to scrape folio 108 v...\n"
     ]
    },
    {
     "name": "stderr",
     "output_type": "stream",
     "text": [
      "Some characters could not be decoded, and were replaced with REPLACEMENT CHARACTER.\n"
     ]
    },
    {
     "name": "stdout",
     "output_type": "stream",
     "text": [
      "https://digi.vatlib.it/iiifimage/MSS_Vat.sir.93/Vat.sir.93_0225_fa_0109r.jp2/full/full/0/native.jpg\n",
      "starting to scrape folio 109 r...\n"
     ]
    },
    {
     "name": "stderr",
     "output_type": "stream",
     "text": [
      "Some characters could not be decoded, and were replaced with REPLACEMENT CHARACTER.\n"
     ]
    },
    {
     "name": "stdout",
     "output_type": "stream",
     "text": [
      "https://digi.vatlib.it/iiifimage/MSS_Vat.sir.93/Vat.sir.93_0226_fa_0109v.jp2/full/full/0/native.jpg\n",
      "starting to scrape folio 109 v...\n"
     ]
    },
    {
     "name": "stderr",
     "output_type": "stream",
     "text": [
      "Some characters could not be decoded, and were replaced with REPLACEMENT CHARACTER.\n"
     ]
    },
    {
     "name": "stdout",
     "output_type": "stream",
     "text": [
      "https://digi.vatlib.it/iiifimage/MSS_Vat.sir.93/Vat.sir.93_0227_fa_0110r.jp2/full/full/0/native.jpg\n",
      "starting to scrape folio 110 r...\n"
     ]
    },
    {
     "name": "stderr",
     "output_type": "stream",
     "text": [
      "Some characters could not be decoded, and were replaced with REPLACEMENT CHARACTER.\n"
     ]
    },
    {
     "name": "stdout",
     "output_type": "stream",
     "text": [
      "https://digi.vatlib.it/iiifimage/MSS_Vat.sir.93/Vat.sir.93_0228_fa_0110v.jp2/full/full/0/native.jpg\n",
      "starting to scrape folio 110 v...\n"
     ]
    },
    {
     "name": "stderr",
     "output_type": "stream",
     "text": [
      "Some characters could not be decoded, and were replaced with REPLACEMENT CHARACTER.\n"
     ]
    },
    {
     "name": "stdout",
     "output_type": "stream",
     "text": [
      "https://digi.vatlib.it/iiifimage/MSS_Vat.sir.93/Vat.sir.93_0229_fa_0111r.jp2/full/full/0/native.jpg\n",
      "starting to scrape folio 111 r...\n"
     ]
    },
    {
     "name": "stderr",
     "output_type": "stream",
     "text": [
      "Some characters could not be decoded, and were replaced with REPLACEMENT CHARACTER.\n"
     ]
    },
    {
     "name": "stdout",
     "output_type": "stream",
     "text": [
      "https://digi.vatlib.it/iiifimage/MSS_Vat.sir.93/Vat.sir.93_0230_fa_0111v.jp2/full/full/0/native.jpg\n",
      "starting to scrape folio 111 v...\n"
     ]
    },
    {
     "name": "stderr",
     "output_type": "stream",
     "text": [
      "Some characters could not be decoded, and were replaced with REPLACEMENT CHARACTER.\n"
     ]
    },
    {
     "name": "stdout",
     "output_type": "stream",
     "text": [
      "https://digi.vatlib.it/iiifimage/MSS_Vat.sir.93/Vat.sir.93_0231_fa_0112r.jp2/full/full/0/native.jpg\n",
      "starting to scrape folio 112 r...\n"
     ]
    },
    {
     "name": "stderr",
     "output_type": "stream",
     "text": [
      "Some characters could not be decoded, and were replaced with REPLACEMENT CHARACTER.\n"
     ]
    },
    {
     "name": "stdout",
     "output_type": "stream",
     "text": [
      "https://digi.vatlib.it/iiifimage/MSS_Vat.sir.93/Vat.sir.93_0232_fa_0112v.jp2/full/full/0/native.jpg\n",
      "starting to scrape folio 112 v...\n"
     ]
    },
    {
     "name": "stderr",
     "output_type": "stream",
     "text": [
      "Some characters could not be decoded, and were replaced with REPLACEMENT CHARACTER.\n"
     ]
    },
    {
     "name": "stdout",
     "output_type": "stream",
     "text": [
      "https://digi.vatlib.it/iiifimage/MSS_Vat.sir.93/Vat.sir.93_0233_fa_0113r.jp2/full/full/0/native.jpg\n",
      "starting to scrape folio 113 r...\n"
     ]
    },
    {
     "name": "stderr",
     "output_type": "stream",
     "text": [
      "Some characters could not be decoded, and were replaced with REPLACEMENT CHARACTER.\n"
     ]
    },
    {
     "name": "stdout",
     "output_type": "stream",
     "text": [
      "https://digi.vatlib.it/iiifimage/MSS_Vat.sir.93/Vat.sir.93_0234_fa_0113v.jp2/full/full/0/native.jpg\n",
      "starting to scrape folio 113 v...\n"
     ]
    },
    {
     "name": "stderr",
     "output_type": "stream",
     "text": [
      "Some characters could not be decoded, and were replaced with REPLACEMENT CHARACTER.\n"
     ]
    },
    {
     "name": "stdout",
     "output_type": "stream",
     "text": [
      "https://digi.vatlib.it/iiifimage/MSS_Vat.sir.93/Vat.sir.93_0235_fa_0114r.jp2/full/full/0/native.jpg\n",
      "starting to scrape folio 114 r...\n"
     ]
    },
    {
     "name": "stderr",
     "output_type": "stream",
     "text": [
      "Some characters could not be decoded, and were replaced with REPLACEMENT CHARACTER.\n"
     ]
    },
    {
     "name": "stdout",
     "output_type": "stream",
     "text": [
      "https://digi.vatlib.it/iiifimage/MSS_Vat.sir.93/Vat.sir.93_0236_fa_0114v.jp2/full/full/0/native.jpg\n",
      "starting to scrape folio 114 v...\n"
     ]
    },
    {
     "name": "stderr",
     "output_type": "stream",
     "text": [
      "Some characters could not be decoded, and were replaced with REPLACEMENT CHARACTER.\n"
     ]
    },
    {
     "name": "stdout",
     "output_type": "stream",
     "text": [
      "https://digi.vatlib.it/iiifimage/MSS_Vat.sir.93/Vat.sir.93_0237_fa_0115r.jp2/full/full/0/native.jpg\n",
      "starting to scrape folio 115 r...\n"
     ]
    },
    {
     "name": "stderr",
     "output_type": "stream",
     "text": [
      "Some characters could not be decoded, and were replaced with REPLACEMENT CHARACTER.\n"
     ]
    },
    {
     "name": "stdout",
     "output_type": "stream",
     "text": [
      "https://digi.vatlib.it/iiifimage/MSS_Vat.sir.93/Vat.sir.93_0238_fa_0115v.jp2/full/full/0/native.jpg\n",
      "starting to scrape folio 115 v...\n"
     ]
    },
    {
     "name": "stderr",
     "output_type": "stream",
     "text": [
      "Some characters could not be decoded, and were replaced with REPLACEMENT CHARACTER.\n"
     ]
    },
    {
     "name": "stdout",
     "output_type": "stream",
     "text": [
      "https://digi.vatlib.it/iiifimage/MSS_Vat.sir.93/Vat.sir.93_0239_fa_0116r.jp2/full/full/0/native.jpg\n",
      "starting to scrape folio 116 r...\n"
     ]
    },
    {
     "name": "stderr",
     "output_type": "stream",
     "text": [
      "Some characters could not be decoded, and were replaced with REPLACEMENT CHARACTER.\n"
     ]
    },
    {
     "name": "stdout",
     "output_type": "stream",
     "text": [
      "https://digi.vatlib.it/iiifimage/MSS_Vat.sir.93/Vat.sir.93_0240_fa_0116v.jp2/full/full/0/native.jpg\n",
      "starting to scrape folio 116 v...\n"
     ]
    },
    {
     "name": "stderr",
     "output_type": "stream",
     "text": [
      "Some characters could not be decoded, and were replaced with REPLACEMENT CHARACTER.\n"
     ]
    },
    {
     "name": "stdout",
     "output_type": "stream",
     "text": [
      "https://digi.vatlib.it/iiifimage/MSS_Vat.sir.93/Vat.sir.93_0241_fa_0117r.jp2/full/full/0/native.jpg\n",
      "starting to scrape folio 117 r...\n"
     ]
    },
    {
     "name": "stderr",
     "output_type": "stream",
     "text": [
      "Some characters could not be decoded, and were replaced with REPLACEMENT CHARACTER.\n"
     ]
    },
    {
     "name": "stdout",
     "output_type": "stream",
     "text": [
      "https://digi.vatlib.it/iiifimage/MSS_Vat.sir.93/Vat.sir.93_0242_fa_0117v.jp2/full/full/0/native.jpg\n",
      "starting to scrape folio 117 v...\n"
     ]
    },
    {
     "name": "stderr",
     "output_type": "stream",
     "text": [
      "Some characters could not be decoded, and were replaced with REPLACEMENT CHARACTER.\n"
     ]
    },
    {
     "name": "stdout",
     "output_type": "stream",
     "text": [
      "https://digi.vatlib.it/iiifimage/MSS_Vat.sir.93/Vat.sir.93_0243_fa_0118r.jp2/full/full/0/native.jpg\n",
      "starting to scrape folio 118 r...\n"
     ]
    },
    {
     "name": "stderr",
     "output_type": "stream",
     "text": [
      "Some characters could not be decoded, and were replaced with REPLACEMENT CHARACTER.\n"
     ]
    },
    {
     "name": "stdout",
     "output_type": "stream",
     "text": [
      "https://digi.vatlib.it/iiifimage/MSS_Vat.sir.93/Vat.sir.93_0244_fa_0118v.jp2/full/full/0/native.jpg\n",
      "starting to scrape folio 118 v...\n"
     ]
    },
    {
     "name": "stderr",
     "output_type": "stream",
     "text": [
      "Some characters could not be decoded, and were replaced with REPLACEMENT CHARACTER.\n"
     ]
    },
    {
     "name": "stdout",
     "output_type": "stream",
     "text": [
      "https://digi.vatlib.it/iiifimage/MSS_Vat.sir.93/Vat.sir.93_0245_fa_0119r.jp2/full/full/0/native.jpg\n",
      "starting to scrape folio 119 r...\n"
     ]
    },
    {
     "name": "stderr",
     "output_type": "stream",
     "text": [
      "Some characters could not be decoded, and were replaced with REPLACEMENT CHARACTER.\n"
     ]
    },
    {
     "name": "stdout",
     "output_type": "stream",
     "text": [
      "https://digi.vatlib.it/iiifimage/MSS_Vat.sir.93/Vat.sir.93_0246_fa_0119v.jp2/full/full/0/native.jpg\n",
      "starting to scrape folio 119 v...\n"
     ]
    },
    {
     "name": "stderr",
     "output_type": "stream",
     "text": [
      "Some characters could not be decoded, and were replaced with REPLACEMENT CHARACTER.\n"
     ]
    },
    {
     "name": "stdout",
     "output_type": "stream",
     "text": [
      "https://digi.vatlib.it/iiifimage/MSS_Vat.sir.93/Vat.sir.93_0247_fa_0120r.jp2/full/full/0/native.jpg\n",
      "starting to scrape folio 120 r...\n"
     ]
    },
    {
     "name": "stderr",
     "output_type": "stream",
     "text": [
      "Some characters could not be decoded, and were replaced with REPLACEMENT CHARACTER.\n"
     ]
    },
    {
     "name": "stdout",
     "output_type": "stream",
     "text": [
      "https://digi.vatlib.it/iiifimage/MSS_Vat.sir.93/Vat.sir.93_0248_fa_0120v.jp2/full/full/0/native.jpg\n",
      "starting to scrape folio 120 v...\n"
     ]
    },
    {
     "name": "stderr",
     "output_type": "stream",
     "text": [
      "Some characters could not be decoded, and were replaced with REPLACEMENT CHARACTER.\n"
     ]
    },
    {
     "name": "stdout",
     "output_type": "stream",
     "text": [
      "https://digi.vatlib.it/iiifimage/MSS_Vat.sir.93/Vat.sir.93_0249_fa_0121r.jp2/full/full/0/native.jpg\n",
      "starting to scrape folio 121 r...\n"
     ]
    },
    {
     "name": "stderr",
     "output_type": "stream",
     "text": [
      "Some characters could not be decoded, and were replaced with REPLACEMENT CHARACTER.\n"
     ]
    },
    {
     "name": "stdout",
     "output_type": "stream",
     "text": [
      "https://digi.vatlib.it/iiifimage/MSS_Vat.sir.93/Vat.sir.93_0250_fa_0121v.jp2/full/full/0/native.jpg\n",
      "starting to scrape folio 121 v...\n"
     ]
    },
    {
     "name": "stderr",
     "output_type": "stream",
     "text": [
      "Some characters could not be decoded, and were replaced with REPLACEMENT CHARACTER.\n"
     ]
    },
    {
     "name": "stdout",
     "output_type": "stream",
     "text": [
      "https://digi.vatlib.it/iiifimage/MSS_Vat.sir.93/Vat.sir.93_0251_fa_0122r.jp2/full/full/0/native.jpg\n",
      "starting to scrape folio 122 r...\n"
     ]
    },
    {
     "name": "stderr",
     "output_type": "stream",
     "text": [
      "Some characters could not be decoded, and were replaced with REPLACEMENT CHARACTER.\n"
     ]
    },
    {
     "name": "stdout",
     "output_type": "stream",
     "text": [
      "https://digi.vatlib.it/iiifimage/MSS_Vat.sir.93/Vat.sir.93_0252_fa_0122v.jp2/full/full/0/native.jpg\n",
      "starting to scrape folio 122 v...\n"
     ]
    },
    {
     "name": "stderr",
     "output_type": "stream",
     "text": [
      "Some characters could not be decoded, and were replaced with REPLACEMENT CHARACTER.\n"
     ]
    },
    {
     "name": "stdout",
     "output_type": "stream",
     "text": [
      "https://digi.vatlib.it/iiifimage/MSS_Vat.sir.93/Vat.sir.93_0253_fa_0123r.jp2/full/full/0/native.jpg\n",
      "starting to scrape folio 123 r...\n"
     ]
    },
    {
     "name": "stderr",
     "output_type": "stream",
     "text": [
      "Some characters could not be decoded, and were replaced with REPLACEMENT CHARACTER.\n"
     ]
    },
    {
     "name": "stdout",
     "output_type": "stream",
     "text": [
      "https://digi.vatlib.it/iiifimage/MSS_Vat.sir.93/Vat.sir.93_0254_fa_0123v.jp2/full/full/0/native.jpg\n",
      "starting to scrape folio 123 v...\n"
     ]
    },
    {
     "name": "stderr",
     "output_type": "stream",
     "text": [
      "Some characters could not be decoded, and were replaced with REPLACEMENT CHARACTER.\n"
     ]
    },
    {
     "name": "stdout",
     "output_type": "stream",
     "text": [
      "https://digi.vatlib.it/iiifimage/MSS_Vat.sir.93/Vat.sir.93_0255_fa_0124r.jp2/full/full/0/native.jpg\n",
      "starting to scrape folio 124 r...\n"
     ]
    },
    {
     "name": "stderr",
     "output_type": "stream",
     "text": [
      "Some characters could not be decoded, and were replaced with REPLACEMENT CHARACTER.\n"
     ]
    },
    {
     "name": "stdout",
     "output_type": "stream",
     "text": [
      "https://digi.vatlib.it/iiifimage/MSS_Vat.sir.93/Vat.sir.93_0256_fa_0124v.jp2/full/full/0/native.jpg\n",
      "starting to scrape folio 124 v...\n"
     ]
    },
    {
     "name": "stderr",
     "output_type": "stream",
     "text": [
      "Some characters could not be decoded, and were replaced with REPLACEMENT CHARACTER.\n"
     ]
    },
    {
     "name": "stdout",
     "output_type": "stream",
     "text": [
      "https://digi.vatlib.it/iiifimage/MSS_Vat.sir.93/Vat.sir.93_0257_fa_0125r.jp2/full/full/0/native.jpg\n",
      "starting to scrape folio 125 r...\n"
     ]
    },
    {
     "name": "stderr",
     "output_type": "stream",
     "text": [
      "Some characters could not be decoded, and were replaced with REPLACEMENT CHARACTER.\n"
     ]
    },
    {
     "name": "stdout",
     "output_type": "stream",
     "text": [
      "https://digi.vatlib.it/iiifimage/MSS_Vat.sir.93/Vat.sir.93_0258_fa_0125v.jp2/full/full/0/native.jpg\n",
      "starting to scrape folio 125 v...\n"
     ]
    },
    {
     "name": "stderr",
     "output_type": "stream",
     "text": [
      "Some characters could not be decoded, and were replaced with REPLACEMENT CHARACTER.\n"
     ]
    },
    {
     "name": "stdout",
     "output_type": "stream",
     "text": [
      "https://digi.vatlib.it/iiifimage/MSS_Vat.sir.93/Vat.sir.93_0259_fa_0126r.jp2/full/full/0/native.jpg\n",
      "starting to scrape folio 126 r...\n"
     ]
    },
    {
     "name": "stderr",
     "output_type": "stream",
     "text": [
      "Some characters could not be decoded, and were replaced with REPLACEMENT CHARACTER.\n"
     ]
    },
    {
     "name": "stdout",
     "output_type": "stream",
     "text": [
      "https://digi.vatlib.it/iiifimage/MSS_Vat.sir.93/Vat.sir.93_0260_fa_0126v.jp2/full/full/0/native.jpg\n",
      "starting to scrape folio 126 v...\n"
     ]
    },
    {
     "name": "stderr",
     "output_type": "stream",
     "text": [
      "Some characters could not be decoded, and were replaced with REPLACEMENT CHARACTER.\n"
     ]
    },
    {
     "name": "stdout",
     "output_type": "stream",
     "text": [
      "https://digi.vatlib.it/iiifimage/MSS_Vat.sir.93/Vat.sir.93_0261_fa_0127r.jp2/full/full/0/native.jpg\n",
      "starting to scrape folio 127 r...\n"
     ]
    },
    {
     "name": "stderr",
     "output_type": "stream",
     "text": [
      "Some characters could not be decoded, and were replaced with REPLACEMENT CHARACTER.\n"
     ]
    },
    {
     "name": "stdout",
     "output_type": "stream",
     "text": [
      "https://digi.vatlib.it/iiifimage/MSS_Vat.sir.93/Vat.sir.93_0262_fa_0127v.jp2/full/full/0/native.jpg\n",
      "starting to scrape folio 127 v...\n"
     ]
    },
    {
     "name": "stderr",
     "output_type": "stream",
     "text": [
      "Some characters could not be decoded, and were replaced with REPLACEMENT CHARACTER.\n"
     ]
    },
    {
     "name": "stdout",
     "output_type": "stream",
     "text": [
      "https://digi.vatlib.it/iiifimage/MSS_Vat.sir.93/Vat.sir.93_0263_fa_0128r.jp2/full/full/0/native.jpg\n",
      "starting to scrape folio 128 r...\n"
     ]
    },
    {
     "name": "stderr",
     "output_type": "stream",
     "text": [
      "Some characters could not be decoded, and were replaced with REPLACEMENT CHARACTER.\n"
     ]
    },
    {
     "name": "stdout",
     "output_type": "stream",
     "text": [
      "https://digi.vatlib.it/iiifimage/MSS_Vat.sir.93/Vat.sir.93_0264_fa_0128v.jp2/full/full/0/native.jpg\n",
      "starting to scrape folio 128 v...\n"
     ]
    },
    {
     "name": "stderr",
     "output_type": "stream",
     "text": [
      "Some characters could not be decoded, and were replaced with REPLACEMENT CHARACTER.\n"
     ]
    },
    {
     "name": "stdout",
     "output_type": "stream",
     "text": [
      "https://digi.vatlib.it/iiifimage/MSS_Vat.sir.93/Vat.sir.93_0265_fa_0129r.jp2/full/full/0/native.jpg\n",
      "starting to scrape folio 129 r...\n"
     ]
    },
    {
     "name": "stderr",
     "output_type": "stream",
     "text": [
      "Some characters could not be decoded, and were replaced with REPLACEMENT CHARACTER.\n"
     ]
    },
    {
     "name": "stdout",
     "output_type": "stream",
     "text": [
      "https://digi.vatlib.it/iiifimage/MSS_Vat.sir.93/Vat.sir.93_0266_fa_0129v.jp2/full/full/0/native.jpg\n",
      "starting to scrape folio 129 v...\n"
     ]
    },
    {
     "name": "stderr",
     "output_type": "stream",
     "text": [
      "Some characters could not be decoded, and were replaced with REPLACEMENT CHARACTER.\n"
     ]
    },
    {
     "name": "stdout",
     "output_type": "stream",
     "text": [
      "https://digi.vatlib.it/iiifimage/MSS_Vat.sir.93/Vat.sir.93_0267_fa_0130r.jp2/full/full/0/native.jpg\n",
      "starting to scrape folio 130 r...\n"
     ]
    },
    {
     "name": "stderr",
     "output_type": "stream",
     "text": [
      "Some characters could not be decoded, and were replaced with REPLACEMENT CHARACTER.\n"
     ]
    },
    {
     "name": "stdout",
     "output_type": "stream",
     "text": [
      "https://digi.vatlib.it/iiifimage/MSS_Vat.sir.93/Vat.sir.93_0268_fa_0130v.jp2/full/full/0/native.jpg\n",
      "starting to scrape folio 130 v...\n"
     ]
    },
    {
     "name": "stderr",
     "output_type": "stream",
     "text": [
      "Some characters could not be decoded, and were replaced with REPLACEMENT CHARACTER.\n"
     ]
    },
    {
     "name": "stdout",
     "output_type": "stream",
     "text": [
      "https://digi.vatlib.it/iiifimage/MSS_Vat.sir.93/Vat.sir.93_0269_fa_0131r.jp2/full/full/0/native.jpg\n",
      "starting to scrape folio 131 r...\n"
     ]
    },
    {
     "name": "stderr",
     "output_type": "stream",
     "text": [
      "Some characters could not be decoded, and were replaced with REPLACEMENT CHARACTER.\n"
     ]
    },
    {
     "name": "stdout",
     "output_type": "stream",
     "text": [
      "https://digi.vatlib.it/iiifimage/MSS_Vat.sir.93/Vat.sir.93_0270_fa_0131v.jp2/full/full/0/native.jpg\n",
      "starting to scrape folio 131 v...\n"
     ]
    },
    {
     "name": "stderr",
     "output_type": "stream",
     "text": [
      "Some characters could not be decoded, and were replaced with REPLACEMENT CHARACTER.\n"
     ]
    },
    {
     "name": "stdout",
     "output_type": "stream",
     "text": [
      "https://digi.vatlib.it/iiifimage/MSS_Vat.sir.93/Vat.sir.93_0271_fa_0132r.jp2/full/full/0/native.jpg\n",
      "starting to scrape folio 132 r...\n"
     ]
    },
    {
     "name": "stderr",
     "output_type": "stream",
     "text": [
      "Some characters could not be decoded, and were replaced with REPLACEMENT CHARACTER.\n"
     ]
    },
    {
     "name": "stdout",
     "output_type": "stream",
     "text": [
      "https://digi.vatlib.it/iiifimage/MSS_Vat.sir.93/Vat.sir.93_0272_fa_0132v.jp2/full/full/0/native.jpg\n",
      "starting to scrape folio 132 v...\n"
     ]
    },
    {
     "name": "stderr",
     "output_type": "stream",
     "text": [
      "Some characters could not be decoded, and were replaced with REPLACEMENT CHARACTER.\n"
     ]
    },
    {
     "name": "stdout",
     "output_type": "stream",
     "text": [
      "https://digi.vatlib.it/iiifimage/MSS_Vat.sir.93/Vat.sir.93_0273_fa_0133r.jp2/full/full/0/native.jpg\n",
      "starting to scrape folio 133 r...\n"
     ]
    },
    {
     "name": "stderr",
     "output_type": "stream",
     "text": [
      "Some characters could not be decoded, and were replaced with REPLACEMENT CHARACTER.\n"
     ]
    },
    {
     "name": "stdout",
     "output_type": "stream",
     "text": [
      "https://digi.vatlib.it/iiifimage/MSS_Vat.sir.93/Vat.sir.93_0274_fa_0133v.jp2/full/full/0/native.jpg\n",
      "starting to scrape folio 133 v...\n"
     ]
    },
    {
     "name": "stderr",
     "output_type": "stream",
     "text": [
      "Some characters could not be decoded, and were replaced with REPLACEMENT CHARACTER.\n"
     ]
    },
    {
     "name": "stdout",
     "output_type": "stream",
     "text": [
      "https://digi.vatlib.it/iiifimage/MSS_Vat.sir.93/Vat.sir.93_0275_fa_0134r.jp2/full/full/0/native.jpg\n",
      "starting to scrape folio 134 r...\n"
     ]
    },
    {
     "name": "stderr",
     "output_type": "stream",
     "text": [
      "Some characters could not be decoded, and were replaced with REPLACEMENT CHARACTER.\n"
     ]
    },
    {
     "name": "stdout",
     "output_type": "stream",
     "text": [
      "https://digi.vatlib.it/iiifimage/MSS_Vat.sir.93/Vat.sir.93_0276_fa_0134v.jp2/full/full/0/native.jpg\n",
      "starting to scrape folio 134 v...\n"
     ]
    },
    {
     "name": "stderr",
     "output_type": "stream",
     "text": [
      "Some characters could not be decoded, and were replaced with REPLACEMENT CHARACTER.\n"
     ]
    },
    {
     "name": "stdout",
     "output_type": "stream",
     "text": [
      "https://digi.vatlib.it/iiifimage/MSS_Vat.sir.93/Vat.sir.93_0277_fa_0135r.jp2/full/full/0/native.jpg\n",
      "starting to scrape folio 135 r...\n"
     ]
    },
    {
     "name": "stderr",
     "output_type": "stream",
     "text": [
      "Some characters could not be decoded, and were replaced with REPLACEMENT CHARACTER.\n"
     ]
    },
    {
     "name": "stdout",
     "output_type": "stream",
     "text": [
      "https://digi.vatlib.it/iiifimage/MSS_Vat.sir.93/Vat.sir.93_0278_fa_0135v.jp2/full/full/0/native.jpg\n",
      "starting to scrape folio 135 v...\n"
     ]
    },
    {
     "name": "stderr",
     "output_type": "stream",
     "text": [
      "Some characters could not be decoded, and were replaced with REPLACEMENT CHARACTER.\n"
     ]
    },
    {
     "name": "stdout",
     "output_type": "stream",
     "text": [
      "https://digi.vatlib.it/iiifimage/MSS_Vat.sir.93/Vat.sir.93_0279_fa_0136r.jp2/full/full/0/native.jpg\n",
      "starting to scrape folio 136 r...\n"
     ]
    },
    {
     "name": "stderr",
     "output_type": "stream",
     "text": [
      "Some characters could not be decoded, and were replaced with REPLACEMENT CHARACTER.\n"
     ]
    },
    {
     "name": "stdout",
     "output_type": "stream",
     "text": [
      "https://digi.vatlib.it/iiifimage/MSS_Vat.sir.93/Vat.sir.93_0280_fa_0136v.jp2/full/full/0/native.jpg\n",
      "starting to scrape folio 136 v...\n"
     ]
    },
    {
     "name": "stderr",
     "output_type": "stream",
     "text": [
      "Some characters could not be decoded, and were replaced with REPLACEMENT CHARACTER.\n"
     ]
    },
    {
     "name": "stdout",
     "output_type": "stream",
     "text": [
      "https://digi.vatlib.it/iiifimage/MSS_Vat.sir.93/Vat.sir.93_0281_fa_0137r.jp2/full/full/0/native.jpg\n",
      "starting to scrape folio 137 r...\n"
     ]
    },
    {
     "name": "stderr",
     "output_type": "stream",
     "text": [
      "Some characters could not be decoded, and were replaced with REPLACEMENT CHARACTER.\n"
     ]
    },
    {
     "name": "stdout",
     "output_type": "stream",
     "text": [
      "https://digi.vatlib.it/iiifimage/MSS_Vat.sir.93/Vat.sir.93_0282_fa_0137v.jp2/full/full/0/native.jpg\n",
      "starting to scrape folio 137 v...\n"
     ]
    },
    {
     "name": "stderr",
     "output_type": "stream",
     "text": [
      "Some characters could not be decoded, and were replaced with REPLACEMENT CHARACTER.\n"
     ]
    },
    {
     "name": "stdout",
     "output_type": "stream",
     "text": [
      "https://digi.vatlib.it/iiifimage/MSS_Vat.sir.93/Vat.sir.93_0283_fa_0138r.jp2/full/full/0/native.jpg\n",
      "starting to scrape folio 138 r...\n"
     ]
    },
    {
     "name": "stderr",
     "output_type": "stream",
     "text": [
      "Some characters could not be decoded, and were replaced with REPLACEMENT CHARACTER.\n"
     ]
    },
    {
     "name": "stdout",
     "output_type": "stream",
     "text": [
      "https://digi.vatlib.it/iiifimage/MSS_Vat.sir.93/Vat.sir.93_0284_fa_0138v.jp2/full/full/0/native.jpg\n",
      "starting to scrape folio 138 v...\n"
     ]
    },
    {
     "name": "stderr",
     "output_type": "stream",
     "text": [
      "Some characters could not be decoded, and were replaced with REPLACEMENT CHARACTER.\n"
     ]
    },
    {
     "name": "stdout",
     "output_type": "stream",
     "text": [
      "https://digi.vatlib.it/iiifimage/MSS_Vat.sir.93/Vat.sir.93_0285_fa_0139r.jp2/full/full/0/native.jpg\n",
      "starting to scrape folio 139 r...\n"
     ]
    },
    {
     "name": "stderr",
     "output_type": "stream",
     "text": [
      "Some characters could not be decoded, and were replaced with REPLACEMENT CHARACTER.\n"
     ]
    },
    {
     "name": "stdout",
     "output_type": "stream",
     "text": [
      "https://digi.vatlib.it/iiifimage/MSS_Vat.sir.93/Vat.sir.93_0286_fa_0139v.jp2/full/full/0/native.jpg\n",
      "starting to scrape folio 139 v...\n"
     ]
    },
    {
     "name": "stderr",
     "output_type": "stream",
     "text": [
      "Some characters could not be decoded, and were replaced with REPLACEMENT CHARACTER.\n"
     ]
    },
    {
     "name": "stdout",
     "output_type": "stream",
     "text": [
      "https://digi.vatlib.it/iiifimage/MSS_Vat.sir.93/Vat.sir.93_0287_fa_0140r.jp2/full/full/0/native.jpg\n",
      "starting to scrape folio 140 r...\n"
     ]
    },
    {
     "name": "stderr",
     "output_type": "stream",
     "text": [
      "Some characters could not be decoded, and were replaced with REPLACEMENT CHARACTER.\n"
     ]
    },
    {
     "name": "stdout",
     "output_type": "stream",
     "text": [
      "https://digi.vatlib.it/iiifimage/MSS_Vat.sir.93/Vat.sir.93_0288_fa_0140v.jp2/full/full/0/native.jpg\n",
      "starting to scrape folio 140 v...\n"
     ]
    },
    {
     "name": "stderr",
     "output_type": "stream",
     "text": [
      "Some characters could not be decoded, and were replaced with REPLACEMENT CHARACTER.\n"
     ]
    },
    {
     "name": "stdout",
     "output_type": "stream",
     "text": [
      "https://digi.vatlib.it/iiifimage/MSS_Vat.sir.93/Vat.sir.93_0289_fa_0141r.jp2/full/full/0/native.jpg\n",
      "starting to scrape folio 141 r...\n"
     ]
    },
    {
     "name": "stderr",
     "output_type": "stream",
     "text": [
      "Some characters could not be decoded, and were replaced with REPLACEMENT CHARACTER.\n"
     ]
    },
    {
     "name": "stdout",
     "output_type": "stream",
     "text": [
      "https://digi.vatlib.it/iiifimage/MSS_Vat.sir.93/Vat.sir.93_0290_fa_0141v.jp2/full/full/0/native.jpg\n",
      "starting to scrape folio 141 v...\n"
     ]
    },
    {
     "name": "stderr",
     "output_type": "stream",
     "text": [
      "Some characters could not be decoded, and were replaced with REPLACEMENT CHARACTER.\n"
     ]
    },
    {
     "name": "stdout",
     "output_type": "stream",
     "text": [
      "https://digi.vatlib.it/iiifimage/MSS_Vat.sir.93/Vat.sir.93_0291_fa_0142r.jp2/full/full/0/native.jpg\n",
      "starting to scrape folio 142 r...\n"
     ]
    },
    {
     "name": "stderr",
     "output_type": "stream",
     "text": [
      "Some characters could not be decoded, and were replaced with REPLACEMENT CHARACTER.\n"
     ]
    },
    {
     "name": "stdout",
     "output_type": "stream",
     "text": [
      "https://digi.vatlib.it/iiifimage/MSS_Vat.sir.93/Vat.sir.93_0292_fa_0142v.jp2/full/full/0/native.jpg\n",
      "starting to scrape folio 142 v...\n"
     ]
    },
    {
     "name": "stderr",
     "output_type": "stream",
     "text": [
      "Some characters could not be decoded, and were replaced with REPLACEMENT CHARACTER.\n"
     ]
    },
    {
     "name": "stdout",
     "output_type": "stream",
     "text": [
      "https://digi.vatlib.it/iiifimage/MSS_Vat.sir.93/Vat.sir.93_0293_fa_0143r.jp2/full/full/0/native.jpg\n",
      "starting to scrape folio 143 r...\n"
     ]
    },
    {
     "name": "stderr",
     "output_type": "stream",
     "text": [
      "Some characters could not be decoded, and were replaced with REPLACEMENT CHARACTER.\n"
     ]
    },
    {
     "name": "stdout",
     "output_type": "stream",
     "text": [
      "https://digi.vatlib.it/iiifimage/MSS_Vat.sir.93/Vat.sir.93_0294_fa_0143v.jp2/full/full/0/native.jpg\n",
      "starting to scrape folio 143 v...\n"
     ]
    },
    {
     "name": "stderr",
     "output_type": "stream",
     "text": [
      "Some characters could not be decoded, and were replaced with REPLACEMENT CHARACTER.\n"
     ]
    },
    {
     "name": "stdout",
     "output_type": "stream",
     "text": [
      "https://digi.vatlib.it/iiifimage/MSS_Vat.sir.93/Vat.sir.93_0295_fa_0144r.jp2/full/full/0/native.jpg\n",
      "starting to scrape folio 144 r...\n"
     ]
    },
    {
     "name": "stderr",
     "output_type": "stream",
     "text": [
      "Some characters could not be decoded, and were replaced with REPLACEMENT CHARACTER.\n"
     ]
    },
    {
     "name": "stdout",
     "output_type": "stream",
     "text": [
      "https://digi.vatlib.it/iiifimage/MSS_Vat.sir.93/Vat.sir.93_0296_fa_0144v.jp2/full/full/0/native.jpg\n",
      "starting to scrape folio 144 v...\n"
     ]
    },
    {
     "name": "stderr",
     "output_type": "stream",
     "text": [
      "Some characters could not be decoded, and were replaced with REPLACEMENT CHARACTER.\n"
     ]
    },
    {
     "name": "stdout",
     "output_type": "stream",
     "text": [
      "https://digi.vatlib.it/iiifimage/MSS_Vat.sir.93/Vat.sir.93_0297_fa_0145r.jp2/full/full/0/native.jpg\n",
      "starting to scrape folio 145 r...\n"
     ]
    },
    {
     "name": "stderr",
     "output_type": "stream",
     "text": [
      "Some characters could not be decoded, and were replaced with REPLACEMENT CHARACTER.\n"
     ]
    },
    {
     "name": "stdout",
     "output_type": "stream",
     "text": [
      "https://digi.vatlib.it/iiifimage/MSS_Vat.sir.93/Vat.sir.93_0298_fa_0145v.jp2/full/full/0/native.jpg\n",
      "starting to scrape folio 145 v...\n"
     ]
    },
    {
     "name": "stderr",
     "output_type": "stream",
     "text": [
      "Some characters could not be decoded, and were replaced with REPLACEMENT CHARACTER.\n"
     ]
    },
    {
     "name": "stdout",
     "output_type": "stream",
     "text": [
      "https://digi.vatlib.it/iiifimage/MSS_Vat.sir.93/Vat.sir.93_0299_fa_0146r.jp2/full/full/0/native.jpg\n",
      "starting to scrape folio 146 r...\n"
     ]
    },
    {
     "name": "stderr",
     "output_type": "stream",
     "text": [
      "Some characters could not be decoded, and were replaced with REPLACEMENT CHARACTER.\n"
     ]
    },
    {
     "name": "stdout",
     "output_type": "stream",
     "text": [
      "https://digi.vatlib.it/iiifimage/MSS_Vat.sir.93/Vat.sir.93_0300_fa_0146v.jp2/full/full/0/native.jpg\n",
      "starting to scrape folio 146 v...\n"
     ]
    },
    {
     "name": "stderr",
     "output_type": "stream",
     "text": [
      "Some characters could not be decoded, and were replaced with REPLACEMENT CHARACTER.\n"
     ]
    },
    {
     "name": "stdout",
     "output_type": "stream",
     "text": [
      "https://digi.vatlib.it/iiifimage/MSS_Vat.sir.93/Vat.sir.93_0301_fa_0147r.jp2/full/full/0/native.jpg\n",
      "starting to scrape folio 147 r...\n"
     ]
    },
    {
     "name": "stderr",
     "output_type": "stream",
     "text": [
      "Some characters could not be decoded, and were replaced with REPLACEMENT CHARACTER.\n"
     ]
    },
    {
     "name": "stdout",
     "output_type": "stream",
     "text": [
      "https://digi.vatlib.it/iiifimage/MSS_Vat.sir.93/Vat.sir.93_0302_fa_0147v.jp2/full/full/0/native.jpg\n",
      "starting to scrape folio 147 v...\n"
     ]
    },
    {
     "name": "stderr",
     "output_type": "stream",
     "text": [
      "Some characters could not be decoded, and were replaced with REPLACEMENT CHARACTER.\n"
     ]
    },
    {
     "name": "stdout",
     "output_type": "stream",
     "text": [
      "https://digi.vatlib.it/iiifimage/MSS_Vat.sir.93/Vat.sir.93_0303_fa_0148r.jp2/full/full/0/native.jpg\n",
      "starting to scrape folio 148 r...\n"
     ]
    },
    {
     "name": "stderr",
     "output_type": "stream",
     "text": [
      "Some characters could not be decoded, and were replaced with REPLACEMENT CHARACTER.\n"
     ]
    },
    {
     "name": "stdout",
     "output_type": "stream",
     "text": [
      "https://digi.vatlib.it/iiifimage/MSS_Vat.sir.93/Vat.sir.93_0304_fa_0148v.jp2/full/full/0/native.jpg\n",
      "starting to scrape folio 148 v...\n"
     ]
    },
    {
     "name": "stderr",
     "output_type": "stream",
     "text": [
      "Some characters could not be decoded, and were replaced with REPLACEMENT CHARACTER.\n"
     ]
    },
    {
     "name": "stdout",
     "output_type": "stream",
     "text": [
      "https://digi.vatlib.it/iiifimage/MSS_Vat.sir.93/Vat.sir.93_0305_fa_0149r.jp2/full/full/0/native.jpg\n",
      "starting to scrape folio 149 r...\n"
     ]
    },
    {
     "name": "stderr",
     "output_type": "stream",
     "text": [
      "Some characters could not be decoded, and were replaced with REPLACEMENT CHARACTER.\n"
     ]
    },
    {
     "name": "stdout",
     "output_type": "stream",
     "text": [
      "https://digi.vatlib.it/iiifimage/MSS_Vat.sir.93/Vat.sir.93_0306_fa_0149v.jp2/full/full/0/native.jpg\n",
      "starting to scrape folio 149 v...\n"
     ]
    },
    {
     "name": "stderr",
     "output_type": "stream",
     "text": [
      "Some characters could not be decoded, and were replaced with REPLACEMENT CHARACTER.\n"
     ]
    },
    {
     "name": "stdout",
     "output_type": "stream",
     "text": [
      "https://digi.vatlib.it/iiifimage/MSS_Vat.sir.93/Vat.sir.93_0307_fa_0150r.jp2/full/full/0/native.jpg\n",
      "starting to scrape folio 150 r...\n"
     ]
    },
    {
     "name": "stderr",
     "output_type": "stream",
     "text": [
      "Some characters could not be decoded, and were replaced with REPLACEMENT CHARACTER.\n"
     ]
    },
    {
     "name": "stdout",
     "output_type": "stream",
     "text": [
      "https://digi.vatlib.it/iiifimage/MSS_Vat.sir.93/Vat.sir.93_0308_fa_0150v.jp2/full/full/0/native.jpg\n",
      "starting to scrape folio 150 v...\n"
     ]
    },
    {
     "name": "stderr",
     "output_type": "stream",
     "text": [
      "Some characters could not be decoded, and were replaced with REPLACEMENT CHARACTER.\n"
     ]
    },
    {
     "name": "stdout",
     "output_type": "stream",
     "text": [
      "https://digi.vatlib.it/iiifimage/MSS_Vat.sir.93/Vat.sir.93_0309_fa_0151r.jp2/full/full/0/native.jpg\n",
      "starting to scrape folio 151 r...\n"
     ]
    },
    {
     "name": "stderr",
     "output_type": "stream",
     "text": [
      "Some characters could not be decoded, and were replaced with REPLACEMENT CHARACTER.\n"
     ]
    },
    {
     "name": "stdout",
     "output_type": "stream",
     "text": [
      "https://digi.vatlib.it/iiifimage/MSS_Vat.sir.93/Vat.sir.93_0310_fa_0151v.jp2/full/full/0/native.jpg\n",
      "starting to scrape folio 151 v...\n"
     ]
    },
    {
     "name": "stderr",
     "output_type": "stream",
     "text": [
      "Some characters could not be decoded, and were replaced with REPLACEMENT CHARACTER.\n"
     ]
    },
    {
     "name": "stdout",
     "output_type": "stream",
     "text": [
      "https://digi.vatlib.it/iiifimage/MSS_Vat.sir.93/Vat.sir.93_0311_fa_0152r.jp2/full/full/0/native.jpg\n",
      "starting to scrape folio 152 r...\n"
     ]
    },
    {
     "name": "stderr",
     "output_type": "stream",
     "text": [
      "Some characters could not be decoded, and were replaced with REPLACEMENT CHARACTER.\n"
     ]
    },
    {
     "name": "stdout",
     "output_type": "stream",
     "text": [
      "https://digi.vatlib.it/iiifimage/MSS_Vat.sir.93/Vat.sir.93_0312_fa_0152v.jp2/full/full/0/native.jpg\n",
      "starting to scrape folio 152 v...\n"
     ]
    },
    {
     "name": "stderr",
     "output_type": "stream",
     "text": [
      "Some characters could not be decoded, and were replaced with REPLACEMENT CHARACTER.\n"
     ]
    },
    {
     "name": "stdout",
     "output_type": "stream",
     "text": [
      "https://digi.vatlib.it/iiifimage/MSS_Vat.sir.93/Vat.sir.93_0313_fa_0153r.jp2/full/full/0/native.jpg\n",
      "starting to scrape folio 153 r...\n"
     ]
    },
    {
     "name": "stderr",
     "output_type": "stream",
     "text": [
      "Some characters could not be decoded, and were replaced with REPLACEMENT CHARACTER.\n"
     ]
    },
    {
     "name": "stdout",
     "output_type": "stream",
     "text": [
      "https://digi.vatlib.it/iiifimage/MSS_Vat.sir.93/Vat.sir.93_0314_fa_0153v.jp2/full/full/0/native.jpg\n",
      "starting to scrape folio 153 v...\n"
     ]
    },
    {
     "name": "stderr",
     "output_type": "stream",
     "text": [
      "Some characters could not be decoded, and were replaced with REPLACEMENT CHARACTER.\n"
     ]
    },
    {
     "name": "stdout",
     "output_type": "stream",
     "text": [
      "https://digi.vatlib.it/iiifimage/MSS_Vat.sir.93/Vat.sir.93_0315_fa_0154r.jp2/full/full/0/native.jpg\n",
      "starting to scrape folio 154 r...\n"
     ]
    },
    {
     "name": "stderr",
     "output_type": "stream",
     "text": [
      "Some characters could not be decoded, and were replaced with REPLACEMENT CHARACTER.\n"
     ]
    },
    {
     "name": "stdout",
     "output_type": "stream",
     "text": [
      "https://digi.vatlib.it/iiifimage/MSS_Vat.sir.93/Vat.sir.93_0316_fa_0154v.jp2/full/full/0/native.jpg\n",
      "starting to scrape folio 154 v...\n"
     ]
    },
    {
     "name": "stderr",
     "output_type": "stream",
     "text": [
      "Some characters could not be decoded, and were replaced with REPLACEMENT CHARACTER.\n"
     ]
    },
    {
     "name": "stdout",
     "output_type": "stream",
     "text": [
      "https://digi.vatlib.it/iiifimage/MSS_Vat.sir.93/Vat.sir.93_0317_fa_0155r.jp2/full/full/0/native.jpg\n",
      "starting to scrape folio 155 r...\n"
     ]
    },
    {
     "name": "stderr",
     "output_type": "stream",
     "text": [
      "Some characters could not be decoded, and were replaced with REPLACEMENT CHARACTER.\n"
     ]
    },
    {
     "name": "stdout",
     "output_type": "stream",
     "text": [
      "https://digi.vatlib.it/iiifimage/MSS_Vat.sir.93/Vat.sir.93_0318_fa_0155v.jp2/full/full/0/native.jpg\n",
      "starting to scrape folio 155 v...\n"
     ]
    },
    {
     "name": "stderr",
     "output_type": "stream",
     "text": [
      "Some characters could not be decoded, and were replaced with REPLACEMENT CHARACTER.\n"
     ]
    },
    {
     "name": "stdout",
     "output_type": "stream",
     "text": [
      "https://digi.vatlib.it/iiifimage/MSS_Vat.sir.93/Vat.sir.93_0319_fa_0156r.jp2/full/full/0/native.jpg\n",
      "starting to scrape folio 156 r...\n"
     ]
    },
    {
     "name": "stderr",
     "output_type": "stream",
     "text": [
      "Some characters could not be decoded, and were replaced with REPLACEMENT CHARACTER.\n"
     ]
    },
    {
     "name": "stdout",
     "output_type": "stream",
     "text": [
      "https://digi.vatlib.it/iiifimage/MSS_Vat.sir.93/Vat.sir.93_0320_fa_0156v.jp2/full/full/0/native.jpg\n",
      "starting to scrape folio 156 v...\n"
     ]
    },
    {
     "name": "stderr",
     "output_type": "stream",
     "text": [
      "Some characters could not be decoded, and were replaced with REPLACEMENT CHARACTER.\n"
     ]
    },
    {
     "name": "stdout",
     "output_type": "stream",
     "text": [
      "https://digi.vatlib.it/iiifimage/MSS_Vat.sir.93/Vat.sir.93_0321_fa_0157r.jp2/full/full/0/native.jpg\n",
      "starting to scrape folio 157 r...\n"
     ]
    },
    {
     "name": "stderr",
     "output_type": "stream",
     "text": [
      "Some characters could not be decoded, and were replaced with REPLACEMENT CHARACTER.\n"
     ]
    },
    {
     "name": "stdout",
     "output_type": "stream",
     "text": [
      "https://digi.vatlib.it/iiifimage/MSS_Vat.sir.93/Vat.sir.93_0322_fa_0157v.jp2/full/full/0/native.jpg\n",
      "starting to scrape folio 157 v...\n"
     ]
    },
    {
     "name": "stderr",
     "output_type": "stream",
     "text": [
      "Some characters could not be decoded, and were replaced with REPLACEMENT CHARACTER.\n"
     ]
    },
    {
     "name": "stdout",
     "output_type": "stream",
     "text": [
      "https://digi.vatlib.it/iiifimage/MSS_Vat.sir.93/Vat.sir.93_0323_fa_0158r.jp2/full/full/0/native.jpg\n",
      "starting to scrape folio 158 r...\n"
     ]
    },
    {
     "name": "stderr",
     "output_type": "stream",
     "text": [
      "Some characters could not be decoded, and were replaced with REPLACEMENT CHARACTER.\n"
     ]
    },
    {
     "name": "stdout",
     "output_type": "stream",
     "text": [
      "https://digi.vatlib.it/iiifimage/MSS_Vat.sir.93/Vat.sir.93_0324_fa_0158v.jp2/full/full/0/native.jpg\n",
      "starting to scrape folio 158 v...\n"
     ]
    },
    {
     "name": "stderr",
     "output_type": "stream",
     "text": [
      "Some characters could not be decoded, and were replaced with REPLACEMENT CHARACTER.\n"
     ]
    },
    {
     "name": "stdout",
     "output_type": "stream",
     "text": [
      "https://digi.vatlib.it/iiifimage/MSS_Vat.sir.93/Vat.sir.93_0325_fa_0159r.jp2/full/full/0/native.jpg\n",
      "starting to scrape folio 159 r...\n"
     ]
    },
    {
     "name": "stderr",
     "output_type": "stream",
     "text": [
      "Some characters could not be decoded, and were replaced with REPLACEMENT CHARACTER.\n"
     ]
    },
    {
     "name": "stdout",
     "output_type": "stream",
     "text": [
      "https://digi.vatlib.it/iiifimage/MSS_Vat.sir.93/Vat.sir.93_0326_fa_0159v.jp2/full/full/0/native.jpg\n",
      "starting to scrape folio 159 v...\n"
     ]
    },
    {
     "name": "stderr",
     "output_type": "stream",
     "text": [
      "Some characters could not be decoded, and were replaced with REPLACEMENT CHARACTER.\n"
     ]
    },
    {
     "name": "stdout",
     "output_type": "stream",
     "text": [
      "https://digi.vatlib.it/iiifimage/MSS_Vat.sir.93/Vat.sir.93_0327_fa_0160r.jp2/full/full/0/native.jpg\n",
      "starting to scrape folio 160 r...\n"
     ]
    },
    {
     "name": "stderr",
     "output_type": "stream",
     "text": [
      "Some characters could not be decoded, and were replaced with REPLACEMENT CHARACTER.\n"
     ]
    },
    {
     "name": "stdout",
     "output_type": "stream",
     "text": [
      "https://digi.vatlib.it/iiifimage/MSS_Vat.sir.93/Vat.sir.93_0328_fa_0160v.jp2/full/full/0/native.jpg\n",
      "starting to scrape folio 160 v...\n"
     ]
    },
    {
     "name": "stderr",
     "output_type": "stream",
     "text": [
      "Some characters could not be decoded, and were replaced with REPLACEMENT CHARACTER.\n"
     ]
    },
    {
     "name": "stdout",
     "output_type": "stream",
     "text": [
      "https://digi.vatlib.it/iiifimage/MSS_Vat.sir.93/Vat.sir.93_0329_fa_0161r.jp2/full/full/0/native.jpg\n",
      "starting to scrape folio 161 r...\n"
     ]
    },
    {
     "name": "stderr",
     "output_type": "stream",
     "text": [
      "Some characters could not be decoded, and were replaced with REPLACEMENT CHARACTER.\n"
     ]
    },
    {
     "name": "stdout",
     "output_type": "stream",
     "text": [
      "https://digi.vatlib.it/iiifimage/MSS_Vat.sir.93/Vat.sir.93_0330_fa_0161v.jp2/full/full/0/native.jpg\n",
      "starting to scrape folio 161 v...\n"
     ]
    },
    {
     "name": "stderr",
     "output_type": "stream",
     "text": [
      "Some characters could not be decoded, and were replaced with REPLACEMENT CHARACTER.\n"
     ]
    },
    {
     "name": "stdout",
     "output_type": "stream",
     "text": [
      "https://digi.vatlib.it/iiifimage/MSS_Vat.sir.93/Vat.sir.93_0331_fa_0162r.jp2/full/full/0/native.jpg\n",
      "starting to scrape folio 162 r...\n"
     ]
    },
    {
     "name": "stderr",
     "output_type": "stream",
     "text": [
      "Some characters could not be decoded, and were replaced with REPLACEMENT CHARACTER.\n"
     ]
    },
    {
     "name": "stdout",
     "output_type": "stream",
     "text": [
      "https://digi.vatlib.it/iiifimage/MSS_Vat.sir.93/Vat.sir.93_0332_fa_0162v.jp2/full/full/0/native.jpg\n",
      "starting to scrape folio 162 v...\n"
     ]
    },
    {
     "name": "stderr",
     "output_type": "stream",
     "text": [
      "Some characters could not be decoded, and were replaced with REPLACEMENT CHARACTER.\n"
     ]
    },
    {
     "name": "stdout",
     "output_type": "stream",
     "text": [
      "https://digi.vatlib.it/iiifimage/MSS_Vat.sir.93/Vat.sir.93_0333_fa_0163r.jp2/full/full/0/native.jpg\n",
      "starting to scrape folio 163 r...\n"
     ]
    },
    {
     "name": "stderr",
     "output_type": "stream",
     "text": [
      "Some characters could not be decoded, and were replaced with REPLACEMENT CHARACTER.\n"
     ]
    },
    {
     "name": "stdout",
     "output_type": "stream",
     "text": [
      "https://digi.vatlib.it/iiifimage/MSS_Vat.sir.93/Vat.sir.93_0334_fa_0163v.jp2/full/full/0/native.jpg\n",
      "starting to scrape folio 163 v...\n"
     ]
    },
    {
     "name": "stderr",
     "output_type": "stream",
     "text": [
      "Some characters could not be decoded, and were replaced with REPLACEMENT CHARACTER.\n"
     ]
    },
    {
     "name": "stdout",
     "output_type": "stream",
     "text": [
      "https://digi.vatlib.it/iiifimage/MSS_Vat.sir.93/Vat.sir.93_0335_fa_0164r.jp2/full/full/0/native.jpg\n",
      "starting to scrape folio 164 r...\n"
     ]
    },
    {
     "name": "stderr",
     "output_type": "stream",
     "text": [
      "Some characters could not be decoded, and were replaced with REPLACEMENT CHARACTER.\n"
     ]
    },
    {
     "name": "stdout",
     "output_type": "stream",
     "text": [
      "https://digi.vatlib.it/iiifimage/MSS_Vat.sir.93/Vat.sir.93_0336_fa_0164v.jp2/full/full/0/native.jpg\n",
      "starting to scrape folio 164 v...\n"
     ]
    },
    {
     "name": "stderr",
     "output_type": "stream",
     "text": [
      "Some characters could not be decoded, and were replaced with REPLACEMENT CHARACTER.\n"
     ]
    },
    {
     "name": "stdout",
     "output_type": "stream",
     "text": [
      "https://digi.vatlib.it/iiifimage/MSS_Vat.sir.93/Vat.sir.93_0337_fa_0165r.jp2/full/full/0/native.jpg\n",
      "starting to scrape folio 165 r...\n"
     ]
    },
    {
     "name": "stderr",
     "output_type": "stream",
     "text": [
      "Some characters could not be decoded, and were replaced with REPLACEMENT CHARACTER.\n"
     ]
    },
    {
     "name": "stdout",
     "output_type": "stream",
     "text": [
      "https://digi.vatlib.it/iiifimage/MSS_Vat.sir.93/Vat.sir.93_0338_fa_0165v.jp2/full/full/0/native.jpg\n",
      "starting to scrape folio 165 v...\n"
     ]
    },
    {
     "name": "stderr",
     "output_type": "stream",
     "text": [
      "Some characters could not be decoded, and were replaced with REPLACEMENT CHARACTER.\n"
     ]
    },
    {
     "name": "stdout",
     "output_type": "stream",
     "text": [
      "https://digi.vatlib.it/iiifimage/MSS_Vat.sir.93/Vat.sir.93_0339_fa_0166r.jp2/full/full/0/native.jpg\n",
      "starting to scrape folio 166 r...\n"
     ]
    },
    {
     "name": "stderr",
     "output_type": "stream",
     "text": [
      "Some characters could not be decoded, and were replaced with REPLACEMENT CHARACTER.\n"
     ]
    },
    {
     "name": "stdout",
     "output_type": "stream",
     "text": [
      "https://digi.vatlib.it/iiifimage/MSS_Vat.sir.93/Vat.sir.93_0340_fa_0166v.jp2/full/full/0/native.jpg\n",
      "starting to scrape folio 166 v...\n"
     ]
    },
    {
     "name": "stderr",
     "output_type": "stream",
     "text": [
      "Some characters could not be decoded, and were replaced with REPLACEMENT CHARACTER.\n"
     ]
    },
    {
     "name": "stdout",
     "output_type": "stream",
     "text": [
      "https://digi.vatlib.it/iiifimage/MSS_Vat.sir.93/Vat.sir.93_0341_fa_0167r.jp2/full/full/0/native.jpg\n",
      "starting to scrape folio 167 r...\n"
     ]
    },
    {
     "name": "stderr",
     "output_type": "stream",
     "text": [
      "Some characters could not be decoded, and were replaced with REPLACEMENT CHARACTER.\n"
     ]
    },
    {
     "name": "stdout",
     "output_type": "stream",
     "text": [
      "https://digi.vatlib.it/iiifimage/MSS_Vat.sir.93/Vat.sir.93_0342_fa_0167v.jp2/full/full/0/native.jpg\n",
      "starting to scrape folio 167 v...\n"
     ]
    },
    {
     "name": "stderr",
     "output_type": "stream",
     "text": [
      "Some characters could not be decoded, and were replaced with REPLACEMENT CHARACTER.\n"
     ]
    },
    {
     "name": "stdout",
     "output_type": "stream",
     "text": [
      "https://digi.vatlib.it/iiifimage/MSS_Vat.sir.93/Vat.sir.93_0343_fa_0168r.jp2/full/full/0/native.jpg\n",
      "starting to scrape folio 168 r...\n"
     ]
    },
    {
     "name": "stderr",
     "output_type": "stream",
     "text": [
      "Some characters could not be decoded, and were replaced with REPLACEMENT CHARACTER.\n"
     ]
    },
    {
     "name": "stdout",
     "output_type": "stream",
     "text": [
      "https://digi.vatlib.it/iiifimage/MSS_Vat.sir.93/Vat.sir.93_0344_fa_0168v.jp2/full/full/0/native.jpg\n",
      "starting to scrape folio 168 v...\n"
     ]
    },
    {
     "name": "stderr",
     "output_type": "stream",
     "text": [
      "Some characters could not be decoded, and were replaced with REPLACEMENT CHARACTER.\n"
     ]
    },
    {
     "name": "stdout",
     "output_type": "stream",
     "text": [
      "https://digi.vatlib.it/iiifimage/MSS_Vat.sir.93/Vat.sir.93_0345_fa_0169r.jp2/full/full/0/native.jpg\n",
      "starting to scrape folio 169 r...\n"
     ]
    },
    {
     "name": "stderr",
     "output_type": "stream",
     "text": [
      "Some characters could not be decoded, and were replaced with REPLACEMENT CHARACTER.\n"
     ]
    },
    {
     "name": "stdout",
     "output_type": "stream",
     "text": [
      "https://digi.vatlib.it/iiifimage/MSS_Vat.sir.93/Vat.sir.93_0346_fa_0169v.jp2/full/full/0/native.jpg\n",
      "starting to scrape folio 169 v...\n"
     ]
    },
    {
     "name": "stderr",
     "output_type": "stream",
     "text": [
      "Some characters could not be decoded, and were replaced with REPLACEMENT CHARACTER.\n"
     ]
    },
    {
     "name": "stdout",
     "output_type": "stream",
     "text": [
      "https://digi.vatlib.it/iiifimage/MSS_Vat.sir.93/Vat.sir.93_0347_fa_0170r.jp2/full/full/0/native.jpg\n",
      "starting to scrape folio 170 r...\n"
     ]
    },
    {
     "name": "stderr",
     "output_type": "stream",
     "text": [
      "Some characters could not be decoded, and were replaced with REPLACEMENT CHARACTER.\n"
     ]
    },
    {
     "name": "stdout",
     "output_type": "stream",
     "text": [
      "https://digi.vatlib.it/iiifimage/MSS_Vat.sir.93/Vat.sir.93_0348_fa_0170v.jp2/full/full/0/native.jpg\n",
      "starting to scrape folio 170 v...\n"
     ]
    },
    {
     "name": "stderr",
     "output_type": "stream",
     "text": [
      "Some characters could not be decoded, and were replaced with REPLACEMENT CHARACTER.\n"
     ]
    },
    {
     "name": "stdout",
     "output_type": "stream",
     "text": [
      "https://digi.vatlib.it/iiifimage/MSS_Vat.sir.93/Vat.sir.93_0349_fa_0171r.jp2/full/full/0/native.jpg\n",
      "starting to scrape folio 171 r...\n"
     ]
    },
    {
     "name": "stderr",
     "output_type": "stream",
     "text": [
      "Some characters could not be decoded, and were replaced with REPLACEMENT CHARACTER.\n"
     ]
    },
    {
     "name": "stdout",
     "output_type": "stream",
     "text": [
      "https://digi.vatlib.it/iiifimage/MSS_Vat.sir.93/Vat.sir.93_0350_fa_0171v.jp2/full/full/0/native.jpg\n",
      "starting to scrape folio 171 v...\n"
     ]
    },
    {
     "name": "stderr",
     "output_type": "stream",
     "text": [
      "Some characters could not be decoded, and were replaced with REPLACEMENT CHARACTER.\n"
     ]
    },
    {
     "name": "stdout",
     "output_type": "stream",
     "text": [
      "https://digi.vatlib.it/iiifimage/MSS_Vat.sir.93/Vat.sir.93_0351_fa_0172r.jp2/full/full/0/native.jpg\n",
      "starting to scrape folio 172 r...\n"
     ]
    },
    {
     "name": "stderr",
     "output_type": "stream",
     "text": [
      "Some characters could not be decoded, and were replaced with REPLACEMENT CHARACTER.\n"
     ]
    },
    {
     "name": "stdout",
     "output_type": "stream",
     "text": [
      "https://digi.vatlib.it/iiifimage/MSS_Vat.sir.93/Vat.sir.93_0352_fa_0172v.jp2/full/full/0/native.jpg\n",
      "starting to scrape folio 172 v...\n"
     ]
    },
    {
     "name": "stderr",
     "output_type": "stream",
     "text": [
      "Some characters could not be decoded, and were replaced with REPLACEMENT CHARACTER.\n"
     ]
    },
    {
     "name": "stdout",
     "output_type": "stream",
     "text": [
      "https://digi.vatlib.it/iiifimage/MSS_Vat.sir.93/Vat.sir.93_0353_fa_0173r.jp2/full/full/0/native.jpg\n",
      "starting to scrape folio 173 r...\n"
     ]
    },
    {
     "name": "stderr",
     "output_type": "stream",
     "text": [
      "Some characters could not be decoded, and were replaced with REPLACEMENT CHARACTER.\n"
     ]
    },
    {
     "name": "stdout",
     "output_type": "stream",
     "text": [
      "https://digi.vatlib.it/iiifimage/MSS_Vat.sir.93/Vat.sir.93_0354_fa_0173v.jp2/full/full/0/native.jpg\n",
      "starting to scrape folio 173 v...\n"
     ]
    },
    {
     "name": "stderr",
     "output_type": "stream",
     "text": [
      "Some characters could not be decoded, and were replaced with REPLACEMENT CHARACTER.\n"
     ]
    },
    {
     "name": "stdout",
     "output_type": "stream",
     "text": [
      "https://digi.vatlib.it/iiifimage/MSS_Vat.sir.93/Vat.sir.93_0355_fa_0174r.jp2/full/full/0/native.jpg\n",
      "starting to scrape folio 174 r...\n"
     ]
    },
    {
     "name": "stderr",
     "output_type": "stream",
     "text": [
      "Some characters could not be decoded, and were replaced with REPLACEMENT CHARACTER.\n"
     ]
    },
    {
     "name": "stdout",
     "output_type": "stream",
     "text": [
      "https://digi.vatlib.it/iiifimage/MSS_Vat.sir.93/Vat.sir.93_0356_fa_0174v.jp2/full/full/0/native.jpg\n",
      "starting to scrape folio 174 v...\n"
     ]
    },
    {
     "name": "stderr",
     "output_type": "stream",
     "text": [
      "Some characters could not be decoded, and were replaced with REPLACEMENT CHARACTER.\n"
     ]
    },
    {
     "name": "stdout",
     "output_type": "stream",
     "text": [
      "https://digi.vatlib.it/iiifimage/MSS_Vat.sir.93/Vat.sir.93_0357_fa_0175r.jp2/full/full/0/native.jpg\n",
      "starting to scrape folio 175 r...\n"
     ]
    },
    {
     "name": "stderr",
     "output_type": "stream",
     "text": [
      "Some characters could not be decoded, and were replaced with REPLACEMENT CHARACTER.\n"
     ]
    },
    {
     "name": "stdout",
     "output_type": "stream",
     "text": [
      "https://digi.vatlib.it/iiifimage/MSS_Vat.sir.93/Vat.sir.93_0358_fa_0175v.jp2/full/full/0/native.jpg\n",
      "starting to scrape folio 175 v...\n"
     ]
    },
    {
     "name": "stderr",
     "output_type": "stream",
     "text": [
      "Some characters could not be decoded, and were replaced with REPLACEMENT CHARACTER.\n"
     ]
    },
    {
     "name": "stdout",
     "output_type": "stream",
     "text": [
      "https://digi.vatlib.it/iiifimage/MSS_Vat.sir.93/Vat.sir.93_0359_fa_0176r.jp2/full/full/0/native.jpg\n",
      "starting to scrape folio 176 r...\n"
     ]
    },
    {
     "name": "stderr",
     "output_type": "stream",
     "text": [
      "Some characters could not be decoded, and were replaced with REPLACEMENT CHARACTER.\n"
     ]
    },
    {
     "name": "stdout",
     "output_type": "stream",
     "text": [
      "https://digi.vatlib.it/iiifimage/MSS_Vat.sir.93/Vat.sir.93_0360_fa_0176v.jp2/full/full/0/native.jpg\n",
      "starting to scrape folio 176 v...\n"
     ]
    },
    {
     "name": "stderr",
     "output_type": "stream",
     "text": [
      "Some characters could not be decoded, and were replaced with REPLACEMENT CHARACTER.\n"
     ]
    },
    {
     "name": "stdout",
     "output_type": "stream",
     "text": [
      "https://digi.vatlib.it/iiifimage/MSS_Vat.sir.93/Vat.sir.93_0361_fa_0177r.jp2/full/full/0/native.jpg\n",
      "starting to scrape folio 177 r...\n"
     ]
    },
    {
     "name": "stderr",
     "output_type": "stream",
     "text": [
      "Some characters could not be decoded, and were replaced with REPLACEMENT CHARACTER.\n"
     ]
    },
    {
     "name": "stdout",
     "output_type": "stream",
     "text": [
      "https://digi.vatlib.it/iiifimage/MSS_Vat.sir.93/Vat.sir.93_0362_fa_0177v.jp2/full/full/0/native.jpg\n",
      "starting to scrape folio 177 v...\n"
     ]
    },
    {
     "name": "stderr",
     "output_type": "stream",
     "text": [
      "Some characters could not be decoded, and were replaced with REPLACEMENT CHARACTER.\n"
     ]
    },
    {
     "name": "stdout",
     "output_type": "stream",
     "text": [
      "https://digi.vatlib.it/iiifimage/MSS_Vat.sir.93/Vat.sir.93_0363_fa_0178r.jp2/full/full/0/native.jpg\n",
      "starting to scrape folio 178 r...\n"
     ]
    },
    {
     "name": "stderr",
     "output_type": "stream",
     "text": [
      "Some characters could not be decoded, and were replaced with REPLACEMENT CHARACTER.\n"
     ]
    },
    {
     "name": "stdout",
     "output_type": "stream",
     "text": [
      "https://digi.vatlib.it/iiifimage/MSS_Vat.sir.93/Vat.sir.93_0364_fa_0178v.jp2/full/full/0/native.jpg\n",
      "starting to scrape folio 178 v...\n"
     ]
    },
    {
     "name": "stderr",
     "output_type": "stream",
     "text": [
      "Some characters could not be decoded, and were replaced with REPLACEMENT CHARACTER.\n"
     ]
    },
    {
     "name": "stdout",
     "output_type": "stream",
     "text": [
      "https://digi.vatlib.it/iiifimage/MSS_Vat.sir.93/Vat.sir.93_0365_fa_0179r.jp2/full/full/0/native.jpg\n",
      "starting to scrape folio 179 r...\n"
     ]
    },
    {
     "name": "stderr",
     "output_type": "stream",
     "text": [
      "Some characters could not be decoded, and were replaced with REPLACEMENT CHARACTER.\n"
     ]
    },
    {
     "name": "stdout",
     "output_type": "stream",
     "text": [
      "https://digi.vatlib.it/iiifimage/MSS_Vat.sir.93/Vat.sir.93_0366_fa_0179v.jp2/full/full/0/native.jpg\n",
      "starting to scrape folio 179 v...\n"
     ]
    },
    {
     "name": "stderr",
     "output_type": "stream",
     "text": [
      "Some characters could not be decoded, and were replaced with REPLACEMENT CHARACTER.\n"
     ]
    },
    {
     "name": "stdout",
     "output_type": "stream",
     "text": [
      "https://digi.vatlib.it/iiifimage/MSS_Vat.sir.93/Vat.sir.93_0367_fa_0180r.jp2/full/full/0/native.jpg\n",
      "starting to scrape folio 180 r...\n"
     ]
    },
    {
     "name": "stderr",
     "output_type": "stream",
     "text": [
      "Some characters could not be decoded, and were replaced with REPLACEMENT CHARACTER.\n"
     ]
    },
    {
     "name": "stdout",
     "output_type": "stream",
     "text": [
      "https://digi.vatlib.it/iiifimage/MSS_Vat.sir.93/Vat.sir.93_0368_fa_0180v.jp2/full/full/0/native.jpg\n",
      "starting to scrape folio 180 v...\n"
     ]
    },
    {
     "name": "stderr",
     "output_type": "stream",
     "text": [
      "Some characters could not be decoded, and were replaced with REPLACEMENT CHARACTER.\n"
     ]
    },
    {
     "name": "stdout",
     "output_type": "stream",
     "text": [
      "https://digi.vatlib.it/iiifimage/MSS_Vat.sir.93/Vat.sir.93_0369_fa_0181r.jp2/full/full/0/native.jpg\n",
      "starting to scrape folio 181 r...\n"
     ]
    },
    {
     "name": "stderr",
     "output_type": "stream",
     "text": [
      "Some characters could not be decoded, and were replaced with REPLACEMENT CHARACTER.\n"
     ]
    },
    {
     "name": "stdout",
     "output_type": "stream",
     "text": [
      "https://digi.vatlib.it/iiifimage/MSS_Vat.sir.93/Vat.sir.93_0370_fa_0181v.jp2/full/full/0/native.jpg\n",
      "starting to scrape folio 181 v...\n"
     ]
    },
    {
     "name": "stderr",
     "output_type": "stream",
     "text": [
      "Some characters could not be decoded, and were replaced with REPLACEMENT CHARACTER.\n"
     ]
    },
    {
     "name": "stdout",
     "output_type": "stream",
     "text": [
      "https://digi.vatlib.it/iiifimage/MSS_Vat.sir.93/Vat.sir.93_0371_fa_0182r.jp2/full/full/0/native.jpg\n",
      "starting to scrape folio 182 r...\n"
     ]
    },
    {
     "name": "stderr",
     "output_type": "stream",
     "text": [
      "Some characters could not be decoded, and were replaced with REPLACEMENT CHARACTER.\n"
     ]
    },
    {
     "name": "stdout",
     "output_type": "stream",
     "text": [
      "https://digi.vatlib.it/iiifimage/MSS_Vat.sir.93/Vat.sir.93_0372_fa_0182v.jp2/full/full/0/native.jpg\n",
      "starting to scrape folio 182 v...\n"
     ]
    },
    {
     "name": "stderr",
     "output_type": "stream",
     "text": [
      "Some characters could not be decoded, and were replaced with REPLACEMENT CHARACTER.\n"
     ]
    },
    {
     "name": "stdout",
     "output_type": "stream",
     "text": [
      "https://digi.vatlib.it/iiifimage/MSS_Vat.sir.93/Vat.sir.93_0373_fa_0183r.jp2/full/full/0/native.jpg\n",
      "starting to scrape folio 183 r...\n"
     ]
    },
    {
     "name": "stderr",
     "output_type": "stream",
     "text": [
      "Some characters could not be decoded, and were replaced with REPLACEMENT CHARACTER.\n"
     ]
    },
    {
     "name": "stdout",
     "output_type": "stream",
     "text": [
      "https://digi.vatlib.it/iiifimage/MSS_Vat.sir.93/Vat.sir.93_0374_fa_0183v.jp2/full/full/0/native.jpg\n",
      "starting to scrape folio 183 v...\n"
     ]
    },
    {
     "name": "stderr",
     "output_type": "stream",
     "text": [
      "Some characters could not be decoded, and were replaced with REPLACEMENT CHARACTER.\n"
     ]
    },
    {
     "name": "stdout",
     "output_type": "stream",
     "text": [
      "https://digi.vatlib.it/iiifimage/MSS_Vat.sir.93/Vat.sir.93_0375_fa_0184r.jp2/full/full/0/native.jpg\n",
      "starting to scrape folio 184 r...\n"
     ]
    },
    {
     "name": "stderr",
     "output_type": "stream",
     "text": [
      "Some characters could not be decoded, and were replaced with REPLACEMENT CHARACTER.\n"
     ]
    },
    {
     "name": "stdout",
     "output_type": "stream",
     "text": [
      "https://digi.vatlib.it/iiifimage/MSS_Vat.sir.93/Vat.sir.93_0376_fa_0184v.jp2/full/full/0/native.jpg\n",
      "starting to scrape folio 184 v...\n"
     ]
    },
    {
     "name": "stderr",
     "output_type": "stream",
     "text": [
      "Some characters could not be decoded, and were replaced with REPLACEMENT CHARACTER.\n"
     ]
    },
    {
     "name": "stdout",
     "output_type": "stream",
     "text": [
      "https://digi.vatlib.it/iiifimage/MSS_Vat.sir.93/Vat.sir.93_0377_fa_0185r.jp2/full/full/0/native.jpg\n",
      "starting to scrape folio 185 r...\n"
     ]
    },
    {
     "name": "stderr",
     "output_type": "stream",
     "text": [
      "Some characters could not be decoded, and were replaced with REPLACEMENT CHARACTER.\n"
     ]
    },
    {
     "name": "stdout",
     "output_type": "stream",
     "text": [
      "https://digi.vatlib.it/iiifimage/MSS_Vat.sir.93/Vat.sir.93_0378_fa_0185v.jp2/full/full/0/native.jpg\n",
      "starting to scrape folio 185 v...\n"
     ]
    },
    {
     "name": "stderr",
     "output_type": "stream",
     "text": [
      "Some characters could not be decoded, and were replaced with REPLACEMENT CHARACTER.\n"
     ]
    },
    {
     "name": "stdout",
     "output_type": "stream",
     "text": [
      "https://digi.vatlib.it/iiifimage/MSS_Vat.sir.93/Vat.sir.93_0379_fa_0186r.jp2/full/full/0/native.jpg\n",
      "starting to scrape folio 186 r...\n"
     ]
    },
    {
     "name": "stderr",
     "output_type": "stream",
     "text": [
      "Some characters could not be decoded, and were replaced with REPLACEMENT CHARACTER.\n"
     ]
    },
    {
     "name": "stdout",
     "output_type": "stream",
     "text": [
      "https://digi.vatlib.it/iiifimage/MSS_Vat.sir.93/Vat.sir.93_0380_fa_0186v.jp2/full/full/0/native.jpg\n",
      "starting to scrape folio 186 v...\n"
     ]
    },
    {
     "name": "stderr",
     "output_type": "stream",
     "text": [
      "Some characters could not be decoded, and were replaced with REPLACEMENT CHARACTER.\n"
     ]
    },
    {
     "name": "stdout",
     "output_type": "stream",
     "text": [
      "https://digi.vatlib.it/iiifimage/MSS_Vat.sir.93/Vat.sir.93_0381_fa_0187r.jp2/full/full/0/native.jpg\n",
      "starting to scrape folio 187 r...\n"
     ]
    },
    {
     "name": "stderr",
     "output_type": "stream",
     "text": [
      "Some characters could not be decoded, and were replaced with REPLACEMENT CHARACTER.\n"
     ]
    },
    {
     "name": "stdout",
     "output_type": "stream",
     "text": [
      "https://digi.vatlib.it/iiifimage/MSS_Vat.sir.93/Vat.sir.93_0382_fa_0187v.jp2/full/full/0/native.jpg\n",
      "starting to scrape folio 187 v...\n"
     ]
    },
    {
     "name": "stderr",
     "output_type": "stream",
     "text": [
      "Some characters could not be decoded, and were replaced with REPLACEMENT CHARACTER.\n"
     ]
    },
    {
     "name": "stdout",
     "output_type": "stream",
     "text": [
      "https://digi.vatlib.it/iiifimage/MSS_Vat.sir.93/Vat.sir.93_0383_fa_0188r.jp2/full/full/0/native.jpg\n",
      "starting to scrape folio 188 r...\n"
     ]
    },
    {
     "name": "stderr",
     "output_type": "stream",
     "text": [
      "Some characters could not be decoded, and were replaced with REPLACEMENT CHARACTER.\n"
     ]
    },
    {
     "name": "stdout",
     "output_type": "stream",
     "text": [
      "https://digi.vatlib.it/iiifimage/MSS_Vat.sir.93/Vat.sir.93_0384_fa_0188v.jp2/full/full/0/native.jpg\n",
      "starting to scrape folio 188 v...\n"
     ]
    },
    {
     "name": "stderr",
     "output_type": "stream",
     "text": [
      "Some characters could not be decoded, and were replaced with REPLACEMENT CHARACTER.\n"
     ]
    },
    {
     "name": "stdout",
     "output_type": "stream",
     "text": [
      "https://digi.vatlib.it/iiifimage/MSS_Vat.sir.93/Vat.sir.93_0385_fa_0189r.jp2/full/full/0/native.jpg\n",
      "starting to scrape folio 189 r...\n"
     ]
    },
    {
     "name": "stderr",
     "output_type": "stream",
     "text": [
      "Some characters could not be decoded, and were replaced with REPLACEMENT CHARACTER.\n"
     ]
    },
    {
     "name": "stdout",
     "output_type": "stream",
     "text": [
      "https://digi.vatlib.it/iiifimage/MSS_Vat.sir.93/Vat.sir.93_0386_fa_0189v.jp2/full/full/0/native.jpg\n",
      "starting to scrape folio 189 v...\n"
     ]
    },
    {
     "name": "stderr",
     "output_type": "stream",
     "text": [
      "Some characters could not be decoded, and were replaced with REPLACEMENT CHARACTER.\n"
     ]
    },
    {
     "name": "stdout",
     "output_type": "stream",
     "text": [
      "https://digi.vatlib.it/iiifimage/MSS_Vat.sir.93/Vat.sir.93_0387_fa_0190r.jp2/full/full/0/native.jpg\n",
      "starting to scrape folio 190 r...\n"
     ]
    },
    {
     "name": "stderr",
     "output_type": "stream",
     "text": [
      "Some characters could not be decoded, and were replaced with REPLACEMENT CHARACTER.\n"
     ]
    },
    {
     "name": "stdout",
     "output_type": "stream",
     "text": [
      "https://digi.vatlib.it/iiifimage/MSS_Vat.sir.93/Vat.sir.93_0388_fa_0190v.jp2/full/full/0/native.jpg\n",
      "starting to scrape folio 190 v...\n"
     ]
    },
    {
     "name": "stderr",
     "output_type": "stream",
     "text": [
      "Some characters could not be decoded, and were replaced with REPLACEMENT CHARACTER.\n"
     ]
    },
    {
     "name": "stdout",
     "output_type": "stream",
     "text": [
      "https://digi.vatlib.it/iiifimage/MSS_Vat.sir.93/Vat.sir.93_0389_fa_0191r.jp2/full/full/0/native.jpg\n",
      "starting to scrape folio 191 r...\n"
     ]
    },
    {
     "name": "stderr",
     "output_type": "stream",
     "text": [
      "Some characters could not be decoded, and were replaced with REPLACEMENT CHARACTER.\n"
     ]
    },
    {
     "name": "stdout",
     "output_type": "stream",
     "text": [
      "https://digi.vatlib.it/iiifimage/MSS_Vat.sir.93/Vat.sir.93_0390_fa_0191v.jp2/full/full/0/native.jpg\n",
      "starting to scrape folio 191 v...\n"
     ]
    },
    {
     "name": "stderr",
     "output_type": "stream",
     "text": [
      "Some characters could not be decoded, and were replaced with REPLACEMENT CHARACTER.\n"
     ]
    },
    {
     "name": "stdout",
     "output_type": "stream",
     "text": [
      "https://digi.vatlib.it/iiifimage/MSS_Vat.sir.93/Vat.sir.93_0391_fa_0192r.jp2/full/full/0/native.jpg\n",
      "starting to scrape folio 192 r...\n"
     ]
    },
    {
     "name": "stderr",
     "output_type": "stream",
     "text": [
      "Some characters could not be decoded, and were replaced with REPLACEMENT CHARACTER.\n"
     ]
    },
    {
     "name": "stdout",
     "output_type": "stream",
     "text": [
      "https://digi.vatlib.it/iiifimage/MSS_Vat.sir.93/Vat.sir.93_0392_fa_0192v.jp2/full/full/0/native.jpg\n",
      "starting to scrape folio 192 v...\n"
     ]
    },
    {
     "name": "stderr",
     "output_type": "stream",
     "text": [
      "Some characters could not be decoded, and were replaced with REPLACEMENT CHARACTER.\n"
     ]
    },
    {
     "name": "stdout",
     "output_type": "stream",
     "text": [
      "https://digi.vatlib.it/iiifimage/MSS_Vat.sir.93/Vat.sir.93_0393_fa_0193r.jp2/full/full/0/native.jpg\n",
      "starting to scrape folio 193 r...\n"
     ]
    },
    {
     "name": "stderr",
     "output_type": "stream",
     "text": [
      "Some characters could not be decoded, and were replaced with REPLACEMENT CHARACTER.\n"
     ]
    },
    {
     "name": "stdout",
     "output_type": "stream",
     "text": [
      "https://digi.vatlib.it/iiifimage/MSS_Vat.sir.93/Vat.sir.93_0394_fa_0193v.jp2/full/full/0/native.jpg\n",
      "starting to scrape folio 193 v...\n"
     ]
    },
    {
     "name": "stderr",
     "output_type": "stream",
     "text": [
      "Some characters could not be decoded, and were replaced with REPLACEMENT CHARACTER.\n"
     ]
    },
    {
     "name": "stdout",
     "output_type": "stream",
     "text": [
      "https://digi.vatlib.it/iiifimage/MSS_Vat.sir.93/Vat.sir.93_0395_fa_0194r.jp2/full/full/0/native.jpg\n",
      "starting to scrape folio 194 r...\n"
     ]
    },
    {
     "name": "stderr",
     "output_type": "stream",
     "text": [
      "Some characters could not be decoded, and were replaced with REPLACEMENT CHARACTER.\n"
     ]
    },
    {
     "name": "stdout",
     "output_type": "stream",
     "text": [
      "https://digi.vatlib.it/iiifimage/MSS_Vat.sir.93/Vat.sir.93_0396_fa_0194v.jp2/full/full/0/native.jpg\n",
      "starting to scrape folio 194 v...\n"
     ]
    },
    {
     "name": "stderr",
     "output_type": "stream",
     "text": [
      "Some characters could not be decoded, and were replaced with REPLACEMENT CHARACTER.\n"
     ]
    },
    {
     "name": "stdout",
     "output_type": "stream",
     "text": [
      "https://digi.vatlib.it/iiifimage/MSS_Vat.sir.93/Vat.sir.93_0397_fa_0195r.jp2/full/full/0/native.jpg\n",
      "starting to scrape folio 195 r...\n"
     ]
    },
    {
     "name": "stderr",
     "output_type": "stream",
     "text": [
      "Some characters could not be decoded, and were replaced with REPLACEMENT CHARACTER.\n"
     ]
    },
    {
     "name": "stdout",
     "output_type": "stream",
     "text": [
      "https://digi.vatlib.it/iiifimage/MSS_Vat.sir.93/Vat.sir.93_0398_fa_0195v.jp2/full/full/0/native.jpg\n",
      "starting to scrape folio 195 v...\n"
     ]
    },
    {
     "name": "stderr",
     "output_type": "stream",
     "text": [
      "Some characters could not be decoded, and were replaced with REPLACEMENT CHARACTER.\n"
     ]
    },
    {
     "name": "stdout",
     "output_type": "stream",
     "text": [
      "https://digi.vatlib.it/iiifimage/MSS_Vat.sir.93/Vat.sir.93_0399_fa_0196r.jp2/full/full/0/native.jpg\n",
      "starting to scrape folio 196 r...\n"
     ]
    },
    {
     "name": "stderr",
     "output_type": "stream",
     "text": [
      "Some characters could not be decoded, and were replaced with REPLACEMENT CHARACTER.\n"
     ]
    },
    {
     "name": "stdout",
     "output_type": "stream",
     "text": [
      "https://digi.vatlib.it/iiifimage/MSS_Vat.sir.93/Vat.sir.93_0400_fa_0196v.jp2/full/full/0/native.jpg\n",
      "starting to scrape folio 196 v...\n"
     ]
    },
    {
     "name": "stderr",
     "output_type": "stream",
     "text": [
      "Some characters could not be decoded, and were replaced with REPLACEMENT CHARACTER.\n"
     ]
    },
    {
     "name": "stdout",
     "output_type": "stream",
     "text": [
      "https://digi.vatlib.it/iiifimage/MSS_Vat.sir.93/Vat.sir.93_0401_fa_0197r.jp2/full/full/0/native.jpg\n",
      "starting to scrape folio 197 r...\n"
     ]
    },
    {
     "name": "stderr",
     "output_type": "stream",
     "text": [
      "Some characters could not be decoded, and were replaced with REPLACEMENT CHARACTER.\n"
     ]
    },
    {
     "name": "stdout",
     "output_type": "stream",
     "text": [
      "https://digi.vatlib.it/iiifimage/MSS_Vat.sir.93/Vat.sir.93_0402_fa_0197v.jp2/full/full/0/native.jpg\n",
      "starting to scrape folio 197 v...\n"
     ]
    },
    {
     "name": "stderr",
     "output_type": "stream",
     "text": [
      "Some characters could not be decoded, and were replaced with REPLACEMENT CHARACTER.\n"
     ]
    },
    {
     "name": "stdout",
     "output_type": "stream",
     "text": [
      "https://digi.vatlib.it/iiifimage/MSS_Vat.sir.93/Vat.sir.93_0403_fa_0198r.jp2/full/full/0/native.jpg\n",
      "starting to scrape folio 198 r...\n"
     ]
    },
    {
     "name": "stderr",
     "output_type": "stream",
     "text": [
      "Some characters could not be decoded, and were replaced with REPLACEMENT CHARACTER.\n"
     ]
    },
    {
     "name": "stdout",
     "output_type": "stream",
     "text": [
      "https://digi.vatlib.it/iiifimage/MSS_Vat.sir.93/Vat.sir.93_0404_fa_0198v.jp2/full/full/0/native.jpg\n",
      "starting to scrape folio 198 v...\n"
     ]
    },
    {
     "name": "stderr",
     "output_type": "stream",
     "text": [
      "Some characters could not be decoded, and were replaced with REPLACEMENT CHARACTER.\n"
     ]
    },
    {
     "name": "stdout",
     "output_type": "stream",
     "text": [
      "https://digi.vatlib.it/iiifimage/MSS_Vat.sir.93/Vat.sir.93_0405_fa_0199r.jp2/full/full/0/native.jpg\n",
      "starting to scrape folio 199 r...\n"
     ]
    },
    {
     "name": "stderr",
     "output_type": "stream",
     "text": [
      "Some characters could not be decoded, and were replaced with REPLACEMENT CHARACTER.\n"
     ]
    },
    {
     "name": "stdout",
     "output_type": "stream",
     "text": [
      "https://digi.vatlib.it/iiifimage/MSS_Vat.sir.93/Vat.sir.93_0406_fa_0199v.jp2/full/full/0/native.jpg\n",
      "starting to scrape folio 199 v...\n"
     ]
    },
    {
     "name": "stderr",
     "output_type": "stream",
     "text": [
      "Some characters could not be decoded, and were replaced with REPLACEMENT CHARACTER.\n"
     ]
    },
    {
     "name": "stdout",
     "output_type": "stream",
     "text": [
      "https://digi.vatlib.it/iiifimage/MSS_Vat.sir.93/Vat.sir.93_0407_fa_0200r.jp2/full/full/0/native.jpg\n",
      "starting to scrape folio 200 r...\n"
     ]
    },
    {
     "name": "stderr",
     "output_type": "stream",
     "text": [
      "Some characters could not be decoded, and were replaced with REPLACEMENT CHARACTER.\n"
     ]
    },
    {
     "name": "stdout",
     "output_type": "stream",
     "text": [
      "https://digi.vatlib.it/iiifimage/MSS_Vat.sir.93/Vat.sir.93_0408_fa_0200v.jp2/full/full/0/native.jpg\n",
      "starting to scrape folio 200 v...\n"
     ]
    },
    {
     "name": "stderr",
     "output_type": "stream",
     "text": [
      "Some characters could not be decoded, and were replaced with REPLACEMENT CHARACTER.\n"
     ]
    },
    {
     "name": "stdout",
     "output_type": "stream",
     "text": [
      "https://digi.vatlib.it/iiifimage/MSS_Vat.sir.93/Vat.sir.93_0409_fa_0201r.jp2/full/full/0/native.jpg\n",
      "starting to scrape folio 201 r...\n"
     ]
    },
    {
     "name": "stderr",
     "output_type": "stream",
     "text": [
      "Some characters could not be decoded, and were replaced with REPLACEMENT CHARACTER.\n"
     ]
    },
    {
     "name": "stdout",
     "output_type": "stream",
     "text": [
      "https://digi.vatlib.it/iiifimage/MSS_Vat.sir.93/Vat.sir.93_0410_fa_0201v.jp2/full/full/0/native.jpg\n",
      "starting to scrape folio 201 v...\n"
     ]
    },
    {
     "name": "stderr",
     "output_type": "stream",
     "text": [
      "Some characters could not be decoded, and were replaced with REPLACEMENT CHARACTER.\n"
     ]
    },
    {
     "name": "stdout",
     "output_type": "stream",
     "text": [
      "https://digi.vatlib.it/iiifimage/MSS_Vat.sir.93/Vat.sir.93_0411_fa_0202r.jp2/full/full/0/native.jpg\n",
      "starting to scrape folio 202 r...\n"
     ]
    },
    {
     "name": "stderr",
     "output_type": "stream",
     "text": [
      "Some characters could not be decoded, and were replaced with REPLACEMENT CHARACTER.\n"
     ]
    },
    {
     "name": "stdout",
     "output_type": "stream",
     "text": [
      "https://digi.vatlib.it/iiifimage/MSS_Vat.sir.93/Vat.sir.93_0412_fa_0202v.jp2/full/full/0/native.jpg\n",
      "starting to scrape folio 202 v...\n"
     ]
    },
    {
     "name": "stderr",
     "output_type": "stream",
     "text": [
      "Some characters could not be decoded, and were replaced with REPLACEMENT CHARACTER.\n"
     ]
    },
    {
     "name": "stdout",
     "output_type": "stream",
     "text": [
      "https://digi.vatlib.it/iiifimage/MSS_Vat.sir.93/Vat.sir.93_0413_fa_0203r.jp2/full/full/0/native.jpg\n",
      "starting to scrape folio 203 r...\n"
     ]
    },
    {
     "name": "stderr",
     "output_type": "stream",
     "text": [
      "Some characters could not be decoded, and were replaced with REPLACEMENT CHARACTER.\n"
     ]
    },
    {
     "name": "stdout",
     "output_type": "stream",
     "text": [
      "https://digi.vatlib.it/iiifimage/MSS_Vat.sir.93/Vat.sir.93_0414_fa_0203v.jp2/full/full/0/native.jpg\n",
      "starting to scrape folio 203 v...\n"
     ]
    },
    {
     "name": "stderr",
     "output_type": "stream",
     "text": [
      "Some characters could not be decoded, and were replaced with REPLACEMENT CHARACTER.\n"
     ]
    },
    {
     "name": "stdout",
     "output_type": "stream",
     "text": [
      "https://digi.vatlib.it/iiifimage/MSS_Vat.sir.93/Vat.sir.93_0415_fa_0204r.jp2/full/full/0/native.jpg\n",
      "starting to scrape folio 204 r...\n"
     ]
    },
    {
     "name": "stderr",
     "output_type": "stream",
     "text": [
      "Some characters could not be decoded, and were replaced with REPLACEMENT CHARACTER.\n"
     ]
    },
    {
     "name": "stdout",
     "output_type": "stream",
     "text": [
      "https://digi.vatlib.it/iiifimage/MSS_Vat.sir.93/Vat.sir.93_0416_fa_0204v.jp2/full/full/0/native.jpg\n",
      "starting to scrape folio 204 v...\n"
     ]
    },
    {
     "name": "stderr",
     "output_type": "stream",
     "text": [
      "Some characters could not be decoded, and were replaced with REPLACEMENT CHARACTER.\n"
     ]
    },
    {
     "name": "stdout",
     "output_type": "stream",
     "text": [
      "https://digi.vatlib.it/iiifimage/MSS_Vat.sir.93/Vat.sir.93_0417_fa_0205r.jp2/full/full/0/native.jpg\n",
      "starting to scrape folio 205 r...\n"
     ]
    },
    {
     "name": "stderr",
     "output_type": "stream",
     "text": [
      "Some characters could not be decoded, and were replaced with REPLACEMENT CHARACTER.\n"
     ]
    },
    {
     "name": "stdout",
     "output_type": "stream",
     "text": [
      "https://digi.vatlib.it/iiifimage/MSS_Vat.sir.93/Vat.sir.93_0418_fa_0205v.jp2/full/full/0/native.jpg\n",
      "starting to scrape folio 205 v...\n"
     ]
    },
    {
     "name": "stderr",
     "output_type": "stream",
     "text": [
      "Some characters could not be decoded, and were replaced with REPLACEMENT CHARACTER.\n"
     ]
    },
    {
     "name": "stdout",
     "output_type": "stream",
     "text": [
      "https://digi.vatlib.it/iiifimage/MSS_Vat.sir.93/Vat.sir.93_0419_fa_0206r.jp2/full/full/0/native.jpg\n",
      "starting to scrape folio 206 r...\n",
      "status problem: 404\n",
      "https://digi.vatlib.it/iiifimage/MSS_Vat.sir.93/Vat.sir.93_0420_fa_0206v.jp2/full/full/0/native.jpg\n",
      "starting to scrape folio 206 v...\n",
      "status problem: 404\n",
      "https://digi.vatlib.it/iiifimage/MSS_Vat.sir.93/Vat.sir.93_0421_fa_0207r.jp2/full/full/0/native.jpg\n",
      "starting to scrape folio 207 r...\n",
      "status problem: 404\n",
      "https://digi.vatlib.it/iiifimage/MSS_Vat.sir.93/Vat.sir.93_0422_fa_0207v.jp2/full/full/0/native.jpg\n",
      "starting to scrape folio 207 v...\n",
      "status problem: 404\n",
      "https://digi.vatlib.it/iiifimage/MSS_Vat.sir.93/Vat.sir.93_0423_fa_0208r.jp2/full/full/0/native.jpg\n",
      "starting to scrape folio 208 r...\n",
      "status problem: 404\n",
      "https://digi.vatlib.it/iiifimage/MSS_Vat.sir.93/Vat.sir.93_0424_fa_0208v.jp2/full/full/0/native.jpg\n",
      "starting to scrape folio 208 v...\n",
      "status problem: 404\n",
      "https://digi.vatlib.it/iiifimage/MSS_Vat.sir.93/Vat.sir.93_0425_fa_0209r.jp2/full/full/0/native.jpg\n",
      "starting to scrape folio 209 r...\n",
      "status problem: 404\n",
      "https://digi.vatlib.it/iiifimage/MSS_Vat.sir.93/Vat.sir.93_0426_fa_0209v.jp2/full/full/0/native.jpg\n",
      "starting to scrape folio 209 v...\n",
      "status problem: 404\n",
      "https://digi.vatlib.it/iiifimage/MSS_Vat.sir.93/Vat.sir.93_0427_fa_0210r.jp2/full/full/0/native.jpg\n",
      "starting to scrape folio 210 r...\n",
      "status problem: 404\n",
      "https://digi.vatlib.it/iiifimage/MSS_Vat.sir.93/Vat.sir.93_0428_fa_0210v.jp2/full/full/0/native.jpg\n",
      "starting to scrape folio 210 v...\n",
      "status problem: 404\n",
      "https://digi.vatlib.it/iiifimage/MSS_Vat.sir.93/Vat.sir.93_0429_fa_0211r.jp2/full/full/0/native.jpg\n",
      "starting to scrape folio 211 r...\n",
      "status problem: 404\n",
      "https://digi.vatlib.it/iiifimage/MSS_Vat.sir.93/Vat.sir.93_0430_fa_0211v.jp2/full/full/0/native.jpg\n",
      "starting to scrape folio 211 v...\n",
      "status problem: 404\n",
      "https://digi.vatlib.it/iiifimage/MSS_Vat.sir.93/Vat.sir.93_0431_fa_0212r.jp2/full/full/0/native.jpg\n",
      "starting to scrape folio 212 r...\n",
      "status problem: 404\n",
      "https://digi.vatlib.it/iiifimage/MSS_Vat.sir.93/Vat.sir.93_0432_fa_0212v.jp2/full/full/0/native.jpg\n",
      "starting to scrape folio 212 v...\n",
      "status problem: 404\n",
      "https://digi.vatlib.it/iiifimage/MSS_Vat.sir.93/Vat.sir.93_0433_fa_0213r.jp2/full/full/0/native.jpg\n",
      "starting to scrape folio 213 r...\n",
      "status problem: 404\n",
      "https://digi.vatlib.it/iiifimage/MSS_Vat.sir.93/Vat.sir.93_0434_fa_0213v.jp2/full/full/0/native.jpg\n",
      "starting to scrape folio 213 v...\n",
      "status problem: 404\n",
      "https://digi.vatlib.it/iiifimage/MSS_Vat.sir.93/Vat.sir.93_0435_fa_0214r.jp2/full/full/0/native.jpg\n",
      "starting to scrape folio 214 r...\n",
      "status problem: 404\n",
      "https://digi.vatlib.it/iiifimage/MSS_Vat.sir.93/Vat.sir.93_0436_fa_0214v.jp2/full/full/0/native.jpg\n",
      "starting to scrape folio 214 v...\n",
      "status problem: 404\n",
      "https://digi.vatlib.it/iiifimage/MSS_Vat.sir.93/Vat.sir.93_0437_fa_0215r.jp2/full/full/0/native.jpg\n",
      "starting to scrape folio 215 r...\n",
      "status problem: 404\n",
      "https://digi.vatlib.it/iiifimage/MSS_Vat.sir.93/Vat.sir.93_0438_fa_0215v.jp2/full/full/0/native.jpg\n",
      "starting to scrape folio 215 v...\n",
      "status problem: 404\n",
      "https://digi.vatlib.it/iiifimage/MSS_Vat.sir.93/Vat.sir.93_0439_fa_0216r.jp2/full/full/0/native.jpg\n",
      "starting to scrape folio 216 r...\n",
      "status problem: 404\n",
      "https://digi.vatlib.it/iiifimage/MSS_Vat.sir.93/Vat.sir.93_0440_fa_0216v.jp2/full/full/0/native.jpg\n",
      "starting to scrape folio 216 v...\n",
      "status problem: 404\n",
      "https://digi.vatlib.it/iiifimage/MSS_Vat.sir.93/Vat.sir.93_0441_fa_0217r.jp2/full/full/0/native.jpg\n",
      "starting to scrape folio 217 r...\n",
      "status problem: 404\n",
      "https://digi.vatlib.it/iiifimage/MSS_Vat.sir.93/Vat.sir.93_0442_fa_0217v.jp2/full/full/0/native.jpg\n",
      "starting to scrape folio 217 v...\n",
      "status problem: 404\n",
      "https://digi.vatlib.it/iiifimage/MSS_Vat.sir.93/Vat.sir.93_0443_fa_0218r.jp2/full/full/0/native.jpg\n",
      "starting to scrape folio 218 r...\n",
      "status problem: 404\n",
      "https://digi.vatlib.it/iiifimage/MSS_Vat.sir.93/Vat.sir.93_0444_fa_0218v.jp2/full/full/0/native.jpg\n",
      "starting to scrape folio 218 v...\n",
      "status problem: 404\n",
      "https://digi.vatlib.it/iiifimage/MSS_Vat.sir.93/Vat.sir.93_0445_fa_0219r.jp2/full/full/0/native.jpg\n",
      "starting to scrape folio 219 r...\n",
      "status problem: 404\n",
      "https://digi.vatlib.it/iiifimage/MSS_Vat.sir.93/Vat.sir.93_0446_fa_0219v.jp2/full/full/0/native.jpg\n",
      "starting to scrape folio 219 v...\n",
      "status problem: 404\n",
      "https://digi.vatlib.it/iiifimage/MSS_Vat.sir.93/Vat.sir.93_0447_fa_0220r.jp2/full/full/0/native.jpg\n",
      "starting to scrape folio 220 r...\n",
      "status problem: 404\n",
      "https://digi.vatlib.it/iiifimage/MSS_Vat.sir.93/Vat.sir.93_0448_fa_0220v.jp2/full/full/0/native.jpg\n",
      "starting to scrape folio 220 v...\n",
      "status problem: 404\n",
      "https://digi.vatlib.it/iiifimage/MSS_Vat.sir.93/Vat.sir.93_0449_fa_0221r.jp2/full/full/0/native.jpg\n",
      "starting to scrape folio 221 r...\n",
      "status problem: 404\n",
      "https://digi.vatlib.it/iiifimage/MSS_Vat.sir.93/Vat.sir.93_0450_fa_0221v.jp2/full/full/0/native.jpg\n",
      "starting to scrape folio 221 v...\n",
      "status problem: 404\n",
      "https://digi.vatlib.it/iiifimage/MSS_Vat.sir.93/Vat.sir.93_0451_fa_0222r.jp2/full/full/0/native.jpg\n",
      "starting to scrape folio 222 r...\n",
      "status problem: 404\n",
      "https://digi.vatlib.it/iiifimage/MSS_Vat.sir.93/Vat.sir.93_0452_fa_0222v.jp2/full/full/0/native.jpg\n",
      "starting to scrape folio 222 v...\n",
      "status problem: 404\n",
      "https://digi.vatlib.it/iiifimage/MSS_Vat.sir.93/Vat.sir.93_0453_fa_0223r.jp2/full/full/0/native.jpg\n",
      "starting to scrape folio 223 r...\n",
      "status problem: 404\n",
      "https://digi.vatlib.it/iiifimage/MSS_Vat.sir.93/Vat.sir.93_0454_fa_0223v.jp2/full/full/0/native.jpg\n",
      "starting to scrape folio 223 v...\n",
      "status problem: 404\n",
      "https://digi.vatlib.it/iiifimage/MSS_Vat.sir.93/Vat.sir.93_0455_fa_0224r.jp2/full/full/0/native.jpg\n",
      "starting to scrape folio 224 r...\n",
      "status problem: 404\n",
      "https://digi.vatlib.it/iiifimage/MSS_Vat.sir.93/Vat.sir.93_0456_fa_0224v.jp2/full/full/0/native.jpg\n",
      "starting to scrape folio 224 v...\n",
      "status problem: 404\n",
      "https://digi.vatlib.it/iiifimage/MSS_Vat.sir.93/Vat.sir.93_0457_fa_0225r.jp2/full/full/0/native.jpg\n",
      "starting to scrape folio 225 r...\n",
      "status problem: 404\n",
      "https://digi.vatlib.it/iiifimage/MSS_Vat.sir.93/Vat.sir.93_0458_fa_0225v.jp2/full/full/0/native.jpg\n",
      "starting to scrape folio 225 v...\n",
      "status problem: 404\n",
      "https://digi.vatlib.it/iiifimage/MSS_Vat.sir.93/Vat.sir.93_0459_fa_0226r.jp2/full/full/0/native.jpg\n",
      "starting to scrape folio 226 r...\n",
      "status problem: 404\n",
      "https://digi.vatlib.it/iiifimage/MSS_Vat.sir.93/Vat.sir.93_0460_fa_0226v.jp2/full/full/0/native.jpg\n",
      "starting to scrape folio 226 v...\n",
      "status problem: 404\n",
      "https://digi.vatlib.it/iiifimage/MSS_Vat.sir.93/Vat.sir.93_0461_fa_0227r.jp2/full/full/0/native.jpg\n",
      "starting to scrape folio 227 r...\n",
      "status problem: 404\n",
      "https://digi.vatlib.it/iiifimage/MSS_Vat.sir.93/Vat.sir.93_0462_fa_0227v.jp2/full/full/0/native.jpg\n",
      "starting to scrape folio 227 v...\n",
      "status problem: 404\n",
      "https://digi.vatlib.it/iiifimage/MSS_Vat.sir.93/Vat.sir.93_0463_fa_0228r.jp2/full/full/0/native.jpg\n",
      "starting to scrape folio 228 r...\n",
      "status problem: 404\n",
      "https://digi.vatlib.it/iiifimage/MSS_Vat.sir.93/Vat.sir.93_0464_fa_0228v.jp2/full/full/0/native.jpg\n",
      "starting to scrape folio 228 v...\n",
      "status problem: 404\n",
      "https://digi.vatlib.it/iiifimage/MSS_Vat.sir.93/Vat.sir.93_0465_fa_0229r.jp2/full/full/0/native.jpg\n",
      "starting to scrape folio 229 r...\n",
      "status problem: 404\n",
      "https://digi.vatlib.it/iiifimage/MSS_Vat.sir.93/Vat.sir.93_0466_fa_0229v.jp2/full/full/0/native.jpg\n",
      "starting to scrape folio 229 v...\n",
      "status problem: 404\n",
      "https://digi.vatlib.it/iiifimage/MSS_Vat.sir.93/Vat.sir.93_0467_fa_0230r.jp2/full/full/0/native.jpg\n",
      "starting to scrape folio 230 r...\n",
      "status problem: 404\n",
      "https://digi.vatlib.it/iiifimage/MSS_Vat.sir.93/Vat.sir.93_0468_fa_0230v.jp2/full/full/0/native.jpg\n",
      "starting to scrape folio 230 v...\n",
      "status problem: 404\n",
      "https://digi.vatlib.it/iiifimage/MSS_Vat.sir.93/Vat.sir.93_0469_fa_0231r.jp2/full/full/0/native.jpg\n",
      "starting to scrape folio 231 r...\n",
      "status problem: 404\n",
      "https://digi.vatlib.it/iiifimage/MSS_Vat.sir.93/Vat.sir.93_0470_fa_0231v.jp2/full/full/0/native.jpg\n",
      "starting to scrape folio 231 v...\n",
      "status problem: 404\n",
      "https://digi.vatlib.it/iiifimage/MSS_Vat.sir.93/Vat.sir.93_0471_fa_0232r.jp2/full/full/0/native.jpg\n",
      "starting to scrape folio 232 r...\n",
      "status problem: 404\n",
      "https://digi.vatlib.it/iiifimage/MSS_Vat.sir.93/Vat.sir.93_0472_fa_0232v.jp2/full/full/0/native.jpg\n",
      "starting to scrape folio 232 v...\n",
      "status problem: 404\n",
      "https://digi.vatlib.it/iiifimage/MSS_Vat.sir.93/Vat.sir.93_0473_fa_0233r.jp2/full/full/0/native.jpg\n",
      "starting to scrape folio 233 r...\n"
     ]
    },
    {
     "name": "stdout",
     "output_type": "stream",
     "text": [
      "status problem: 404\n",
      "https://digi.vatlib.it/iiifimage/MSS_Vat.sir.93/Vat.sir.93_0474_fa_0233v.jp2/full/full/0/native.jpg\n",
      "starting to scrape folio 233 v...\n",
      "status problem: 404\n",
      "https://digi.vatlib.it/iiifimage/MSS_Vat.sir.93/Vat.sir.93_0475_fa_0234r.jp2/full/full/0/native.jpg\n",
      "starting to scrape folio 234 r...\n",
      "status problem: 404\n",
      "https://digi.vatlib.it/iiifimage/MSS_Vat.sir.93/Vat.sir.93_0476_fa_0234v.jp2/full/full/0/native.jpg\n",
      "starting to scrape folio 234 v...\n",
      "status problem: 404\n",
      "https://digi.vatlib.it/iiifimage/MSS_Vat.sir.93/Vat.sir.93_0477_fa_0235r.jp2/full/full/0/native.jpg\n",
      "starting to scrape folio 235 r...\n",
      "status problem: 404\n",
      "https://digi.vatlib.it/iiifimage/MSS_Vat.sir.93/Vat.sir.93_0478_fa_0235v.jp2/full/full/0/native.jpg\n",
      "starting to scrape folio 235 v...\n",
      "status problem: 404\n",
      "https://digi.vatlib.it/iiifimage/MSS_Vat.sir.93/Vat.sir.93_0479_fa_0236r.jp2/full/full/0/native.jpg\n",
      "starting to scrape folio 236 r...\n",
      "status problem: 404\n",
      "https://digi.vatlib.it/iiifimage/MSS_Vat.sir.93/Vat.sir.93_0480_fa_0236v.jp2/full/full/0/native.jpg\n",
      "starting to scrape folio 236 v...\n",
      "status problem: 404\n",
      "https://digi.vatlib.it/iiifimage/MSS_Vat.sir.93/Vat.sir.93_0481_fa_0237r.jp2/full/full/0/native.jpg\n",
      "starting to scrape folio 237 r...\n",
      "status problem: 404\n",
      "https://digi.vatlib.it/iiifimage/MSS_Vat.sir.93/Vat.sir.93_0482_fa_0237v.jp2/full/full/0/native.jpg\n",
      "starting to scrape folio 237 v...\n",
      "status problem: 404\n",
      "https://digi.vatlib.it/iiifimage/MSS_Vat.sir.93/Vat.sir.93_0483_fa_0238r.jp2/full/full/0/native.jpg\n",
      "starting to scrape folio 238 r...\n",
      "status problem: 404\n",
      "https://digi.vatlib.it/iiifimage/MSS_Vat.sir.93/Vat.sir.93_0484_fa_0238v.jp2/full/full/0/native.jpg\n",
      "starting to scrape folio 238 v...\n",
      "status problem: 404\n",
      "https://digi.vatlib.it/iiifimage/MSS_Vat.sir.93/Vat.sir.93_0485_fa_0239r.jp2/full/full/0/native.jpg\n",
      "starting to scrape folio 239 r...\n",
      "status problem: 404\n",
      "https://digi.vatlib.it/iiifimage/MSS_Vat.sir.93/Vat.sir.93_0486_fa_0239v.jp2/full/full/0/native.jpg\n",
      "starting to scrape folio 239 v...\n",
      "status problem: 404\n",
      "https://digi.vatlib.it/iiifimage/MSS_Vat.sir.93/Vat.sir.93_0487_fa_0240r.jp2/full/full/0/native.jpg\n",
      "starting to scrape folio 240 r...\n",
      "status problem: 404\n",
      "https://digi.vatlib.it/iiifimage/MSS_Vat.sir.93/Vat.sir.93_0488_fa_0240v.jp2/full/full/0/native.jpg\n",
      "starting to scrape folio 240 v...\n",
      "status problem: 404\n",
      "https://digi.vatlib.it/iiifimage/MSS_Vat.sir.93/Vat.sir.93_0489_fa_0241r.jp2/full/full/0/native.jpg\n",
      "starting to scrape folio 241 r...\n",
      "status problem: 404\n",
      "https://digi.vatlib.it/iiifimage/MSS_Vat.sir.93/Vat.sir.93_0490_fa_0241v.jp2/full/full/0/native.jpg\n",
      "starting to scrape folio 241 v...\n",
      "status problem: 404\n",
      "https://digi.vatlib.it/iiifimage/MSS_Vat.sir.93/Vat.sir.93_0491_fa_0242r.jp2/full/full/0/native.jpg\n",
      "starting to scrape folio 242 r...\n",
      "status problem: 404\n",
      "https://digi.vatlib.it/iiifimage/MSS_Vat.sir.93/Vat.sir.93_0492_fa_0242v.jp2/full/full/0/native.jpg\n",
      "starting to scrape folio 242 v...\n",
      "status problem: 404\n",
      "https://digi.vatlib.it/iiifimage/MSS_Vat.sir.93/Vat.sir.93_0493_fa_0243r.jp2/full/full/0/native.jpg\n",
      "starting to scrape folio 243 r...\n",
      "status problem: 404\n",
      "https://digi.vatlib.it/iiifimage/MSS_Vat.sir.93/Vat.sir.93_0494_fa_0243v.jp2/full/full/0/native.jpg\n",
      "starting to scrape folio 243 v...\n",
      "status problem: 404\n",
      "https://digi.vatlib.it/iiifimage/MSS_Vat.sir.93/Vat.sir.93_0495_fa_0244r.jp2/full/full/0/native.jpg\n",
      "starting to scrape folio 244 r...\n",
      "status problem: 404\n",
      "https://digi.vatlib.it/iiifimage/MSS_Vat.sir.93/Vat.sir.93_0496_fa_0244v.jp2/full/full/0/native.jpg\n",
      "starting to scrape folio 244 v...\n",
      "status problem: 404\n",
      "https://digi.vatlib.it/iiifimage/MSS_Vat.sir.93/Vat.sir.93_0497_fa_0245r.jp2/full/full/0/native.jpg\n",
      "starting to scrape folio 245 r...\n",
      "status problem: 404\n",
      "https://digi.vatlib.it/iiifimage/MSS_Vat.sir.93/Vat.sir.93_0498_fa_0245v.jp2/full/full/0/native.jpg\n",
      "starting to scrape folio 245 v...\n",
      "status problem: 404\n",
      "https://digi.vatlib.it/iiifimage/MSS_Vat.sir.93/Vat.sir.93_0499_fa_0246r.jp2/full/full/0/native.jpg\n",
      "starting to scrape folio 246 r...\n",
      "status problem: 404\n",
      "https://digi.vatlib.it/iiifimage/MSS_Vat.sir.93/Vat.sir.93_0500_fa_0246v.jp2/full/full/0/native.jpg\n",
      "starting to scrape folio 246 v...\n",
      "status problem: 404\n",
      "https://digi.vatlib.it/iiifimage/MSS_Vat.sir.93/Vat.sir.93_0501_fa_0247r.jp2/full/full/0/native.jpg\n",
      "starting to scrape folio 247 r...\n",
      "status problem: 404\n",
      "https://digi.vatlib.it/iiifimage/MSS_Vat.sir.93/Vat.sir.93_0502_fa_0247v.jp2/full/full/0/native.jpg\n",
      "starting to scrape folio 247 v...\n",
      "status problem: 404\n",
      "https://digi.vatlib.it/iiifimage/MSS_Vat.sir.93/Vat.sir.93_0503_fa_0248r.jp2/full/full/0/native.jpg\n",
      "starting to scrape folio 248 r...\n",
      "status problem: 404\n",
      "https://digi.vatlib.it/iiifimage/MSS_Vat.sir.93/Vat.sir.93_0504_fa_0248v.jp2/full/full/0/native.jpg\n",
      "starting to scrape folio 248 v...\n",
      "status problem: 404\n",
      "https://digi.vatlib.it/iiifimage/MSS_Vat.sir.93/Vat.sir.93_0505_fa_0249r.jp2/full/full/0/native.jpg\n",
      "starting to scrape folio 249 r...\n",
      "status problem: 404\n",
      "https://digi.vatlib.it/iiifimage/MSS_Vat.sir.93/Vat.sir.93_0506_fa_0249v.jp2/full/full/0/native.jpg\n",
      "starting to scrape folio 249 v...\n",
      "status problem: 404\n",
      "https://digi.vatlib.it/iiifimage/MSS_Vat.sir.93/Vat.sir.93_0507_fa_0250r.jp2/full/full/0/native.jpg\n",
      "starting to scrape folio 250 r...\n",
      "status problem: 404\n",
      "https://digi.vatlib.it/iiifimage/MSS_Vat.sir.93/Vat.sir.93_0508_fa_0250v.jp2/full/full/0/native.jpg\n",
      "starting to scrape folio 250 v...\n",
      "status problem: 404\n",
      "https://digi.vatlib.it/iiifimage/MSS_Vat.sir.93/Vat.sir.93_0509_fa_0251r.jp2/full/full/0/native.jpg\n",
      "starting to scrape folio 251 r...\n",
      "status problem: 404\n",
      "https://digi.vatlib.it/iiifimage/MSS_Vat.sir.93/Vat.sir.93_0510_fa_0251v.jp2/full/full/0/native.jpg\n",
      "starting to scrape folio 251 v...\n",
      "status problem: 404\n",
      "https://digi.vatlib.it/iiifimage/MSS_Vat.sir.93/Vat.sir.93_0511_fa_0252r.jp2/full/full/0/native.jpg\n",
      "starting to scrape folio 252 r...\n",
      "status problem: 404\n",
      "https://digi.vatlib.it/iiifimage/MSS_Vat.sir.93/Vat.sir.93_0512_fa_0252v.jp2/full/full/0/native.jpg\n",
      "starting to scrape folio 252 v...\n",
      "status problem: 404\n",
      "https://digi.vatlib.it/iiifimage/MSS_Vat.sir.93/Vat.sir.93_0513_fa_0253r.jp2/full/full/0/native.jpg\n",
      "starting to scrape folio 253 r...\n",
      "status problem: 404\n",
      "https://digi.vatlib.it/iiifimage/MSS_Vat.sir.93/Vat.sir.93_0514_fa_0253v.jp2/full/full/0/native.jpg\n",
      "starting to scrape folio 253 v...\n",
      "status problem: 404\n",
      "https://digi.vatlib.it/iiifimage/MSS_Vat.sir.93/Vat.sir.93_0515_fa_0254r.jp2/full/full/0/native.jpg\n",
      "starting to scrape folio 254 r...\n",
      "status problem: 404\n",
      "https://digi.vatlib.it/iiifimage/MSS_Vat.sir.93/Vat.sir.93_0516_fa_0254v.jp2/full/full/0/native.jpg\n",
      "starting to scrape folio 254 v...\n",
      "status problem: 404\n",
      "https://digi.vatlib.it/iiifimage/MSS_Vat.sir.93/Vat.sir.93_0517_fa_0255r.jp2/full/full/0/native.jpg\n",
      "starting to scrape folio 255 r...\n",
      "status problem: 404\n",
      "https://digi.vatlib.it/iiifimage/MSS_Vat.sir.93/Vat.sir.93_0518_fa_0255v.jp2/full/full/0/native.jpg\n",
      "starting to scrape folio 255 v...\n",
      "status problem: 404\n",
      "https://digi.vatlib.it/iiifimage/MSS_Vat.sir.93/Vat.sir.93_0519_fa_0256r.jp2/full/full/0/native.jpg\n",
      "starting to scrape folio 256 r...\n",
      "status problem: 404\n",
      "https://digi.vatlib.it/iiifimage/MSS_Vat.sir.93/Vat.sir.93_0520_fa_0256v.jp2/full/full/0/native.jpg\n",
      "starting to scrape folio 256 v...\n",
      "status problem: 404\n",
      "https://digi.vatlib.it/iiifimage/MSS_Vat.sir.93/Vat.sir.93_0521_fa_0257r.jp2/full/full/0/native.jpg\n",
      "starting to scrape folio 257 r...\n",
      "status problem: 404\n",
      "https://digi.vatlib.it/iiifimage/MSS_Vat.sir.93/Vat.sir.93_0522_fa_0257v.jp2/full/full/0/native.jpg\n",
      "starting to scrape folio 257 v...\n",
      "status problem: 404\n",
      "https://digi.vatlib.it/iiifimage/MSS_Vat.sir.93/Vat.sir.93_0523_fa_0258r.jp2/full/full/0/native.jpg\n",
      "starting to scrape folio 258 r...\n",
      "status problem: 404\n",
      "https://digi.vatlib.it/iiifimage/MSS_Vat.sir.93/Vat.sir.93_0524_fa_0258v.jp2/full/full/0/native.jpg\n",
      "starting to scrape folio 258 v...\n",
      "status problem: 404\n",
      "https://digi.vatlib.it/iiifimage/MSS_Vat.sir.93/Vat.sir.93_0525_fa_0259r.jp2/full/full/0/native.jpg\n",
      "starting to scrape folio 259 r...\n",
      "status problem: 404\n",
      "https://digi.vatlib.it/iiifimage/MSS_Vat.sir.93/Vat.sir.93_0526_fa_0259v.jp2/full/full/0/native.jpg\n",
      "starting to scrape folio 259 v...\n",
      "status problem: 404\n",
      "https://digi.vatlib.it/iiifimage/MSS_Vat.sir.93/Vat.sir.93_0527_fa_0260r.jp2/full/full/0/native.jpg\n",
      "starting to scrape folio 260 r...\n"
     ]
    },
    {
     "name": "stdout",
     "output_type": "stream",
     "text": [
      "status problem: 404\n",
      "https://digi.vatlib.it/iiifimage/MSS_Vat.sir.93/Vat.sir.93_0528_fa_0260v.jp2/full/full/0/native.jpg\n",
      "starting to scrape folio 260 v...\n",
      "status problem: 404\n",
      "https://digi.vatlib.it/iiifimage/MSS_Vat.sir.93/Vat.sir.93_0529_fa_0261r.jp2/full/full/0/native.jpg\n",
      "starting to scrape folio 261 r...\n",
      "status problem: 404\n",
      "https://digi.vatlib.it/iiifimage/MSS_Vat.sir.93/Vat.sir.93_0530_fa_0261v.jp2/full/full/0/native.jpg\n",
      "starting to scrape folio 261 v...\n",
      "status problem: 404\n",
      "https://digi.vatlib.it/iiifimage/MSS_Vat.sir.93/Vat.sir.93_0531_fa_0262r.jp2/full/full/0/native.jpg\n",
      "starting to scrape folio 262 r...\n",
      "status problem: 404\n",
      "https://digi.vatlib.it/iiifimage/MSS_Vat.sir.93/Vat.sir.93_0532_fa_0262v.jp2/full/full/0/native.jpg\n",
      "starting to scrape folio 262 v...\n",
      "status problem: 404\n",
      "https://digi.vatlib.it/iiifimage/MSS_Vat.sir.93/Vat.sir.93_0533_fa_0263r.jp2/full/full/0/native.jpg\n",
      "starting to scrape folio 263 r...\n",
      "status problem: 404\n",
      "https://digi.vatlib.it/iiifimage/MSS_Vat.sir.93/Vat.sir.93_0534_fa_0263v.jp2/full/full/0/native.jpg\n",
      "starting to scrape folio 263 v...\n",
      "status problem: 404\n",
      "https://digi.vatlib.it/iiifimage/MSS_Vat.sir.93/Vat.sir.93_0535_fa_0264r.jp2/full/full/0/native.jpg\n",
      "starting to scrape folio 264 r...\n",
      "status problem: 404\n",
      "https://digi.vatlib.it/iiifimage/MSS_Vat.sir.93/Vat.sir.93_0536_fa_0264v.jp2/full/full/0/native.jpg\n",
      "starting to scrape folio 264 v...\n",
      "status problem: 404\n",
      "https://digi.vatlib.it/iiifimage/MSS_Vat.sir.93/Vat.sir.93_0537_fa_0265r.jp2/full/full/0/native.jpg\n",
      "starting to scrape folio 265 r...\n",
      "status problem: 404\n",
      "https://digi.vatlib.it/iiifimage/MSS_Vat.sir.93/Vat.sir.93_0538_fa_0265v.jp2/full/full/0/native.jpg\n",
      "starting to scrape folio 265 v...\n",
      "status problem: 404\n",
      "https://digi.vatlib.it/iiifimage/MSS_Vat.sir.93/Vat.sir.93_0539_fa_0266r.jp2/full/full/0/native.jpg\n",
      "starting to scrape folio 266 r...\n",
      "status problem: 404\n",
      "https://digi.vatlib.it/iiifimage/MSS_Vat.sir.93/Vat.sir.93_0540_fa_0266v.jp2/full/full/0/native.jpg\n",
      "starting to scrape folio 266 v...\n",
      "status problem: 404\n",
      "https://digi.vatlib.it/iiifimage/MSS_Vat.sir.93/Vat.sir.93_0541_fa_0267r.jp2/full/full/0/native.jpg\n",
      "starting to scrape folio 267 r...\n",
      "status problem: 404\n",
      "https://digi.vatlib.it/iiifimage/MSS_Vat.sir.93/Vat.sir.93_0542_fa_0267v.jp2/full/full/0/native.jpg\n",
      "starting to scrape folio 267 v...\n",
      "status problem: 404\n",
      "https://digi.vatlib.it/iiifimage/MSS_Vat.sir.93/Vat.sir.93_0543_fa_0268r.jp2/full/full/0/native.jpg\n",
      "starting to scrape folio 268 r...\n",
      "status problem: 404\n",
      "https://digi.vatlib.it/iiifimage/MSS_Vat.sir.93/Vat.sir.93_0544_fa_0268v.jp2/full/full/0/native.jpg\n",
      "starting to scrape folio 268 v...\n",
      "status problem: 404\n",
      "https://digi.vatlib.it/iiifimage/MSS_Vat.sir.93/Vat.sir.93_0545_fa_0269r.jp2/full/full/0/native.jpg\n",
      "starting to scrape folio 269 r...\n",
      "status problem: 404\n",
      "https://digi.vatlib.it/iiifimage/MSS_Vat.sir.93/Vat.sir.93_0546_fa_0269v.jp2/full/full/0/native.jpg\n",
      "starting to scrape folio 269 v...\n",
      "status problem: 404\n",
      "https://digi.vatlib.it/iiifimage/MSS_Vat.sir.93/Vat.sir.93_0547_fa_0270r.jp2/full/full/0/native.jpg\n",
      "starting to scrape folio 270 r...\n",
      "status problem: 404\n",
      "https://digi.vatlib.it/iiifimage/MSS_Vat.sir.93/Vat.sir.93_0548_fa_0270v.jp2/full/full/0/native.jpg\n",
      "starting to scrape folio 270 v...\n",
      "status problem: 404\n",
      "https://digi.vatlib.it/iiifimage/MSS_Vat.sir.93/Vat.sir.93_0549_fa_0271r.jp2/full/full/0/native.jpg\n",
      "starting to scrape folio 271 r...\n",
      "status problem: 404\n",
      "https://digi.vatlib.it/iiifimage/MSS_Vat.sir.93/Vat.sir.93_0550_fa_0271v.jp2/full/full/0/native.jpg\n",
      "starting to scrape folio 271 v...\n",
      "status problem: 404\n",
      "https://digi.vatlib.it/iiifimage/MSS_Vat.sir.93/Vat.sir.93_0551_fa_0272r.jp2/full/full/0/native.jpg\n",
      "starting to scrape folio 272 r...\n",
      "status problem: 404\n",
      "https://digi.vatlib.it/iiifimage/MSS_Vat.sir.93/Vat.sir.93_0552_fa_0272v.jp2/full/full/0/native.jpg\n",
      "starting to scrape folio 272 v...\n",
      "status problem: 404\n",
      "https://digi.vatlib.it/iiifimage/MSS_Vat.sir.93/Vat.sir.93_0553_fa_0273r.jp2/full/full/0/native.jpg\n",
      "starting to scrape folio 273 r...\n",
      "status problem: 404\n",
      "https://digi.vatlib.it/iiifimage/MSS_Vat.sir.93/Vat.sir.93_0554_fa_0273v.jp2/full/full/0/native.jpg\n",
      "starting to scrape folio 273 v...\n",
      "status problem: 404\n",
      "https://digi.vatlib.it/iiifimage/MSS_Vat.sir.93/Vat.sir.93_0555_fa_0274r.jp2/full/full/0/native.jpg\n",
      "starting to scrape folio 274 r...\n",
      "status problem: 404\n",
      "https://digi.vatlib.it/iiifimage/MSS_Vat.sir.93/Vat.sir.93_0556_fa_0274v.jp2/full/full/0/native.jpg\n",
      "starting to scrape folio 274 v...\n",
      "status problem: 404\n",
      "https://digi.vatlib.it/iiifimage/MSS_Vat.sir.93/Vat.sir.93_0557_fa_0275r.jp2/full/full/0/native.jpg\n",
      "starting to scrape folio 275 r...\n",
      "status problem: 404\n",
      "https://digi.vatlib.it/iiifimage/MSS_Vat.sir.93/Vat.sir.93_0558_fa_0275v.jp2/full/full/0/native.jpg\n",
      "starting to scrape folio 275 v...\n",
      "status problem: 404\n",
      "https://digi.vatlib.it/iiifimage/MSS_Vat.sir.93/Vat.sir.93_0559_fa_0276r.jp2/full/full/0/native.jpg\n",
      "starting to scrape folio 276 r...\n",
      "status problem: 404\n",
      "https://digi.vatlib.it/iiifimage/MSS_Vat.sir.93/Vat.sir.93_0560_fa_0276v.jp2/full/full/0/native.jpg\n",
      "starting to scrape folio 276 v...\n",
      "status problem: 404\n",
      "https://digi.vatlib.it/iiifimage/MSS_Vat.sir.93/Vat.sir.93_0561_fa_0277r.jp2/full/full/0/native.jpg\n",
      "starting to scrape folio 277 r...\n",
      "status problem: 404\n",
      "https://digi.vatlib.it/iiifimage/MSS_Vat.sir.93/Vat.sir.93_0562_fa_0277v.jp2/full/full/0/native.jpg\n",
      "starting to scrape folio 277 v...\n",
      "status problem: 404\n",
      "https://digi.vatlib.it/iiifimage/MSS_Vat.sir.93/Vat.sir.93_0563_fa_0278r.jp2/full/full/0/native.jpg\n",
      "starting to scrape folio 278 r...\n",
      "status problem: 404\n",
      "https://digi.vatlib.it/iiifimage/MSS_Vat.sir.93/Vat.sir.93_0564_fa_0278v.jp2/full/full/0/native.jpg\n",
      "starting to scrape folio 278 v...\n",
      "status problem: 404\n",
      "https://digi.vatlib.it/iiifimage/MSS_Vat.sir.93/Vat.sir.93_0565_fa_0279r.jp2/full/full/0/native.jpg\n",
      "starting to scrape folio 279 r...\n",
      "status problem: 404\n",
      "https://digi.vatlib.it/iiifimage/MSS_Vat.sir.93/Vat.sir.93_0566_fa_0279v.jp2/full/full/0/native.jpg\n",
      "starting to scrape folio 279 v...\n",
      "status problem: 404\n",
      "https://digi.vatlib.it/iiifimage/MSS_Vat.sir.93/Vat.sir.93_0567_fa_0280r.jp2/full/full/0/native.jpg\n",
      "starting to scrape folio 280 r...\n",
      "status problem: 404\n",
      "https://digi.vatlib.it/iiifimage/MSS_Vat.sir.93/Vat.sir.93_0568_fa_0280v.jp2/full/full/0/native.jpg\n",
      "starting to scrape folio 280 v...\n",
      "status problem: 404\n",
      "https://digi.vatlib.it/iiifimage/MSS_Vat.sir.93/Vat.sir.93_0569_fa_0281r.jp2/full/full/0/native.jpg\n",
      "starting to scrape folio 281 r...\n",
      "status problem: 404\n",
      "https://digi.vatlib.it/iiifimage/MSS_Vat.sir.93/Vat.sir.93_0570_fa_0281v.jp2/full/full/0/native.jpg\n",
      "starting to scrape folio 281 v...\n",
      "status problem: 404\n",
      "https://digi.vatlib.it/iiifimage/MSS_Vat.sir.93/Vat.sir.93_0571_fa_0282r.jp2/full/full/0/native.jpg\n",
      "starting to scrape folio 282 r...\n",
      "status problem: 404\n",
      "https://digi.vatlib.it/iiifimage/MSS_Vat.sir.93/Vat.sir.93_0572_fa_0282v.jp2/full/full/0/native.jpg\n",
      "starting to scrape folio 282 v...\n",
      "status problem: 404\n",
      "https://digi.vatlib.it/iiifimage/MSS_Vat.sir.93/Vat.sir.93_0573_fa_0283r.jp2/full/full/0/native.jpg\n",
      "starting to scrape folio 283 r...\n",
      "status problem: 404\n",
      "https://digi.vatlib.it/iiifimage/MSS_Vat.sir.93/Vat.sir.93_0574_fa_0283v.jp2/full/full/0/native.jpg\n",
      "starting to scrape folio 283 v...\n",
      "status problem: 404\n",
      "https://digi.vatlib.it/iiifimage/MSS_Vat.sir.93/Vat.sir.93_0575_fa_0284r.jp2/full/full/0/native.jpg\n",
      "starting to scrape folio 284 r...\n",
      "status problem: 404\n",
      "https://digi.vatlib.it/iiifimage/MSS_Vat.sir.93/Vat.sir.93_0576_fa_0284v.jp2/full/full/0/native.jpg\n",
      "starting to scrape folio 284 v...\n",
      "status problem: 404\n",
      "https://digi.vatlib.it/iiifimage/MSS_Vat.sir.93/Vat.sir.93_0577_fa_0285r.jp2/full/full/0/native.jpg\n",
      "starting to scrape folio 285 r...\n",
      "status problem: 404\n",
      "https://digi.vatlib.it/iiifimage/MSS_Vat.sir.93/Vat.sir.93_0578_fa_0285v.jp2/full/full/0/native.jpg\n",
      "starting to scrape folio 285 v...\n",
      "status problem: 404\n",
      "https://digi.vatlib.it/iiifimage/MSS_Vat.sir.93/Vat.sir.93_0579_fa_0286r.jp2/full/full/0/native.jpg\n",
      "starting to scrape folio 286 r...\n",
      "status problem: 404\n",
      "https://digi.vatlib.it/iiifimage/MSS_Vat.sir.93/Vat.sir.93_0580_fa_0286v.jp2/full/full/0/native.jpg\n",
      "starting to scrape folio 286 v...\n",
      "status problem: 404\n",
      "https://digi.vatlib.it/iiifimage/MSS_Vat.sir.93/Vat.sir.93_0581_fa_0287r.jp2/full/full/0/native.jpg\n",
      "starting to scrape folio 287 r...\n"
     ]
    },
    {
     "name": "stdout",
     "output_type": "stream",
     "text": [
      "status problem: 404\n",
      "https://digi.vatlib.it/iiifimage/MSS_Vat.sir.93/Vat.sir.93_0582_fa_0287v.jp2/full/full/0/native.jpg\n",
      "starting to scrape folio 287 v...\n",
      "status problem: 404\n",
      "https://digi.vatlib.it/iiifimage/MSS_Vat.sir.93/Vat.sir.93_0583_fa_0288r.jp2/full/full/0/native.jpg\n",
      "starting to scrape folio 288 r...\n",
      "status problem: 404\n",
      "https://digi.vatlib.it/iiifimage/MSS_Vat.sir.93/Vat.sir.93_0584_fa_0288v.jp2/full/full/0/native.jpg\n",
      "starting to scrape folio 288 v...\n",
      "status problem: 404\n",
      "https://digi.vatlib.it/iiifimage/MSS_Vat.sir.93/Vat.sir.93_0585_fa_0289r.jp2/full/full/0/native.jpg\n",
      "starting to scrape folio 289 r...\n",
      "status problem: 404\n",
      "https://digi.vatlib.it/iiifimage/MSS_Vat.sir.93/Vat.sir.93_0586_fa_0289v.jp2/full/full/0/native.jpg\n",
      "starting to scrape folio 289 v...\n",
      "status problem: 404\n",
      "https://digi.vatlib.it/iiifimage/MSS_Vat.sir.93/Vat.sir.93_0587_fa_0290r.jp2/full/full/0/native.jpg\n",
      "starting to scrape folio 290 r...\n",
      "status problem: 404\n",
      "https://digi.vatlib.it/iiifimage/MSS_Vat.sir.93/Vat.sir.93_0588_fa_0290v.jp2/full/full/0/native.jpg\n",
      "starting to scrape folio 290 v...\n",
      "status problem: 404\n",
      "https://digi.vatlib.it/iiifimage/MSS_Vat.sir.93/Vat.sir.93_0589_fa_0291r.jp2/full/full/0/native.jpg\n",
      "starting to scrape folio 291 r...\n",
      "status problem: 404\n",
      "https://digi.vatlib.it/iiifimage/MSS_Vat.sir.93/Vat.sir.93_0590_fa_0291v.jp2/full/full/0/native.jpg\n",
      "starting to scrape folio 291 v...\n",
      "status problem: 404\n",
      "https://digi.vatlib.it/iiifimage/MSS_Vat.sir.93/Vat.sir.93_0591_fa_0292r.jp2/full/full/0/native.jpg\n",
      "starting to scrape folio 292 r...\n",
      "status problem: 404\n",
      "https://digi.vatlib.it/iiifimage/MSS_Vat.sir.93/Vat.sir.93_0592_fa_0292v.jp2/full/full/0/native.jpg\n",
      "starting to scrape folio 292 v...\n",
      "status problem: 404\n",
      "https://digi.vatlib.it/iiifimage/MSS_Vat.sir.93/Vat.sir.93_0593_fa_0293r.jp2/full/full/0/native.jpg\n",
      "starting to scrape folio 293 r...\n",
      "status problem: 404\n",
      "https://digi.vatlib.it/iiifimage/MSS_Vat.sir.93/Vat.sir.93_0594_fa_0293v.jp2/full/full/0/native.jpg\n",
      "starting to scrape folio 293 v...\n",
      "status problem: 404\n",
      "https://digi.vatlib.it/iiifimage/MSS_Vat.sir.93/Vat.sir.93_0595_fa_0294r.jp2/full/full/0/native.jpg\n",
      "starting to scrape folio 294 r...\n",
      "status problem: 404\n",
      "https://digi.vatlib.it/iiifimage/MSS_Vat.sir.93/Vat.sir.93_0596_fa_0294v.jp2/full/full/0/native.jpg\n",
      "starting to scrape folio 294 v...\n",
      "status problem: 404\n",
      "https://digi.vatlib.it/iiifimage/MSS_Vat.sir.93/Vat.sir.93_0597_fa_0295r.jp2/full/full/0/native.jpg\n",
      "starting to scrape folio 295 r...\n",
      "status problem: 404\n",
      "https://digi.vatlib.it/iiifimage/MSS_Vat.sir.93/Vat.sir.93_0598_fa_0295v.jp2/full/full/0/native.jpg\n",
      "starting to scrape folio 295 v...\n",
      "status problem: 404\n",
      "https://digi.vatlib.it/iiifimage/MSS_Vat.sir.93/Vat.sir.93_0599_fa_0296r.jp2/full/full/0/native.jpg\n",
      "starting to scrape folio 296 r...\n",
      "status problem: 404\n",
      "https://digi.vatlib.it/iiifimage/MSS_Vat.sir.93/Vat.sir.93_0600_fa_0296v.jp2/full/full/0/native.jpg\n",
      "starting to scrape folio 296 v...\n",
      "status problem: 404\n",
      "https://digi.vatlib.it/iiifimage/MSS_Vat.sir.93/Vat.sir.93_0601_fa_0297r.jp2/full/full/0/native.jpg\n",
      "starting to scrape folio 297 r...\n",
      "status problem: 404\n",
      "https://digi.vatlib.it/iiifimage/MSS_Vat.sir.93/Vat.sir.93_0602_fa_0297v.jp2/full/full/0/native.jpg\n",
      "starting to scrape folio 297 v...\n",
      "status problem: 404\n",
      "https://digi.vatlib.it/iiifimage/MSS_Vat.sir.93/Vat.sir.93_0603_fa_0298r.jp2/full/full/0/native.jpg\n",
      "starting to scrape folio 298 r...\n",
      "status problem: 404\n",
      "https://digi.vatlib.it/iiifimage/MSS_Vat.sir.93/Vat.sir.93_0604_fa_0298v.jp2/full/full/0/native.jpg\n",
      "starting to scrape folio 298 v...\n",
      "status problem: 404\n",
      "https://digi.vatlib.it/iiifimage/MSS_Vat.sir.93/Vat.sir.93_0605_fa_0299r.jp2/full/full/0/native.jpg\n",
      "starting to scrape folio 299 r...\n",
      "status problem: 404\n",
      "https://digi.vatlib.it/iiifimage/MSS_Vat.sir.93/Vat.sir.93_0606_fa_0299v.jp2/full/full/0/native.jpg\n",
      "starting to scrape folio 299 v...\n",
      "status problem: 404\n",
      "https://digi.vatlib.it/iiifimage/MSS_Vat.sir.93/Vat.sir.93_0607_fa_0300r.jp2/full/full/0/native.jpg\n",
      "starting to scrape folio 300 r...\n",
      "status problem: 404\n",
      "https://digi.vatlib.it/iiifimage/MSS_Vat.sir.93/Vat.sir.93_0608_fa_0300v.jp2/full/full/0/native.jpg\n",
      "starting to scrape folio 300 v...\n",
      "status problem: 404\n",
      "https://digi.vatlib.it/iiifimage/MSS_Vat.sir.93/Vat.sir.93_0609_fa_0301r.jp2/full/full/0/native.jpg\n",
      "starting to scrape folio 301 r...\n",
      "status problem: 404\n",
      "https://digi.vatlib.it/iiifimage/MSS_Vat.sir.93/Vat.sir.93_0610_fa_0301v.jp2/full/full/0/native.jpg\n",
      "starting to scrape folio 301 v...\n",
      "status problem: 404\n",
      "https://digi.vatlib.it/iiifimage/MSS_Vat.sir.93/Vat.sir.93_0611_fa_0302r.jp2/full/full/0/native.jpg\n",
      "starting to scrape folio 302 r...\n",
      "status problem: 404\n",
      "https://digi.vatlib.it/iiifimage/MSS_Vat.sir.93/Vat.sir.93_0612_fa_0302v.jp2/full/full/0/native.jpg\n",
      "starting to scrape folio 302 v...\n",
      "status problem: 404\n",
      "https://digi.vatlib.it/iiifimage/MSS_Vat.sir.93/Vat.sir.93_0613_fa_0303r.jp2/full/full/0/native.jpg\n",
      "starting to scrape folio 303 r...\n",
      "status problem: 404\n",
      "https://digi.vatlib.it/iiifimage/MSS_Vat.sir.93/Vat.sir.93_0614_fa_0303v.jp2/full/full/0/native.jpg\n",
      "starting to scrape folio 303 v...\n",
      "status problem: 404\n",
      "https://digi.vatlib.it/iiifimage/MSS_Vat.sir.93/Vat.sir.93_0615_fa_0304r.jp2/full/full/0/native.jpg\n",
      "starting to scrape folio 304 r...\n",
      "status problem: 404\n",
      "https://digi.vatlib.it/iiifimage/MSS_Vat.sir.93/Vat.sir.93_0616_fa_0304v.jp2/full/full/0/native.jpg\n",
      "starting to scrape folio 304 v...\n",
      "status problem: 404\n",
      "https://digi.vatlib.it/iiifimage/MSS_Vat.sir.93/Vat.sir.93_0617_fa_0305r.jp2/full/full/0/native.jpg\n",
      "starting to scrape folio 305 r...\n",
      "status problem: 404\n",
      "https://digi.vatlib.it/iiifimage/MSS_Vat.sir.93/Vat.sir.93_0618_fa_0305v.jp2/full/full/0/native.jpg\n",
      "starting to scrape folio 305 v...\n",
      "status problem: 404\n",
      "https://digi.vatlib.it/iiifimage/MSS_Vat.sir.93/Vat.sir.93_0619_fa_0306r.jp2/full/full/0/native.jpg\n",
      "starting to scrape folio 306 r...\n",
      "status problem: 404\n",
      "https://digi.vatlib.it/iiifimage/MSS_Vat.sir.93/Vat.sir.93_0620_fa_0306v.jp2/full/full/0/native.jpg\n",
      "starting to scrape folio 306 v...\n",
      "status problem: 404\n",
      "https://digi.vatlib.it/iiifimage/MSS_Vat.sir.93/Vat.sir.93_0621_fa_0307r.jp2/full/full/0/native.jpg\n",
      "starting to scrape folio 307 r...\n",
      "status problem: 404\n",
      "https://digi.vatlib.it/iiifimage/MSS_Vat.sir.93/Vat.sir.93_0622_fa_0307v.jp2/full/full/0/native.jpg\n",
      "starting to scrape folio 307 v...\n",
      "status problem: 404\n",
      "https://digi.vatlib.it/iiifimage/MSS_Vat.sir.93/Vat.sir.93_0623_fa_0308r.jp2/full/full/0/native.jpg\n",
      "starting to scrape folio 308 r...\n",
      "status problem: 404\n",
      "https://digi.vatlib.it/iiifimage/MSS_Vat.sir.93/Vat.sir.93_0624_fa_0308v.jp2/full/full/0/native.jpg\n",
      "starting to scrape folio 308 v...\n",
      "status problem: 404\n",
      "https://digi.vatlib.it/iiifimage/MSS_Vat.sir.93/Vat.sir.93_0625_fa_0309r.jp2/full/full/0/native.jpg\n",
      "starting to scrape folio 309 r...\n",
      "status problem: 404\n",
      "https://digi.vatlib.it/iiifimage/MSS_Vat.sir.93/Vat.sir.93_0626_fa_0309v.jp2/full/full/0/native.jpg\n",
      "starting to scrape folio 309 v...\n",
      "status problem: 404\n",
      "https://digi.vatlib.it/iiifimage/MSS_Vat.sir.93/Vat.sir.93_0627_fa_0310r.jp2/full/full/0/native.jpg\n",
      "starting to scrape folio 310 r...\n",
      "status problem: 404\n",
      "https://digi.vatlib.it/iiifimage/MSS_Vat.sir.93/Vat.sir.93_0628_fa_0310v.jp2/full/full/0/native.jpg\n",
      "starting to scrape folio 310 v...\n",
      "status problem: 404\n",
      "https://digi.vatlib.it/iiifimage/MSS_Vat.sir.93/Vat.sir.93_0629_fa_0311r.jp2/full/full/0/native.jpg\n",
      "starting to scrape folio 311 r...\n",
      "status problem: 404\n",
      "https://digi.vatlib.it/iiifimage/MSS_Vat.sir.93/Vat.sir.93_0630_fa_0311v.jp2/full/full/0/native.jpg\n",
      "starting to scrape folio 311 v...\n",
      "status problem: 404\n",
      "https://digi.vatlib.it/iiifimage/MSS_Vat.sir.93/Vat.sir.93_0631_fa_0312r.jp2/full/full/0/native.jpg\n",
      "starting to scrape folio 312 r...\n",
      "status problem: 404\n",
      "https://digi.vatlib.it/iiifimage/MSS_Vat.sir.93/Vat.sir.93_0632_fa_0312v.jp2/full/full/0/native.jpg\n",
      "starting to scrape folio 312 v...\n",
      "status problem: 404\n",
      "https://digi.vatlib.it/iiifimage/MSS_Vat.sir.93/Vat.sir.93_0633_fa_0313r.jp2/full/full/0/native.jpg\n",
      "starting to scrape folio 313 r...\n",
      "status problem: 404\n",
      "https://digi.vatlib.it/iiifimage/MSS_Vat.sir.93/Vat.sir.93_0634_fa_0313v.jp2/full/full/0/native.jpg\n",
      "starting to scrape folio 313 v...\n",
      "status problem: 404\n",
      "https://digi.vatlib.it/iiifimage/MSS_Vat.sir.93/Vat.sir.93_0635_fa_0314r.jp2/full/full/0/native.jpg\n",
      "starting to scrape folio 314 r...\n"
     ]
    },
    {
     "name": "stdout",
     "output_type": "stream",
     "text": [
      "status problem: 404\n",
      "https://digi.vatlib.it/iiifimage/MSS_Vat.sir.93/Vat.sir.93_0636_fa_0314v.jp2/full/full/0/native.jpg\n",
      "starting to scrape folio 314 v...\n",
      "status problem: 404\n",
      "https://digi.vatlib.it/iiifimage/MSS_Vat.sir.93/Vat.sir.93_0637_fa_0315r.jp2/full/full/0/native.jpg\n",
      "starting to scrape folio 315 r...\n",
      "status problem: 404\n",
      "https://digi.vatlib.it/iiifimage/MSS_Vat.sir.93/Vat.sir.93_0638_fa_0315v.jp2/full/full/0/native.jpg\n",
      "starting to scrape folio 315 v...\n",
      "status problem: 404\n",
      "https://digi.vatlib.it/iiifimage/MSS_Vat.sir.93/Vat.sir.93_0639_fa_0316r.jp2/full/full/0/native.jpg\n",
      "starting to scrape folio 316 r...\n",
      "status problem: 404\n",
      "https://digi.vatlib.it/iiifimage/MSS_Vat.sir.93/Vat.sir.93_0640_fa_0316v.jp2/full/full/0/native.jpg\n",
      "starting to scrape folio 316 v...\n",
      "status problem: 404\n",
      "https://digi.vatlib.it/iiifimage/MSS_Vat.sir.93/Vat.sir.93_0641_fa_0317r.jp2/full/full/0/native.jpg\n",
      "starting to scrape folio 317 r...\n",
      "status problem: 404\n",
      "https://digi.vatlib.it/iiifimage/MSS_Vat.sir.93/Vat.sir.93_0642_fa_0317v.jp2/full/full/0/native.jpg\n",
      "starting to scrape folio 317 v...\n",
      "status problem: 404\n",
      "https://digi.vatlib.it/iiifimage/MSS_Vat.sir.93/Vat.sir.93_0643_fa_0318r.jp2/full/full/0/native.jpg\n",
      "starting to scrape folio 318 r...\n",
      "status problem: 404\n",
      "https://digi.vatlib.it/iiifimage/MSS_Vat.sir.93/Vat.sir.93_0644_fa_0318v.jp2/full/full/0/native.jpg\n",
      "starting to scrape folio 318 v...\n",
      "status problem: 404\n",
      "https://digi.vatlib.it/iiifimage/MSS_Vat.sir.93/Vat.sir.93_0645_fa_0319r.jp2/full/full/0/native.jpg\n",
      "starting to scrape folio 319 r...\n",
      "status problem: 404\n",
      "https://digi.vatlib.it/iiifimage/MSS_Vat.sir.93/Vat.sir.93_0646_fa_0319v.jp2/full/full/0/native.jpg\n",
      "starting to scrape folio 319 v...\n",
      "status problem: 404\n",
      "https://digi.vatlib.it/iiifimage/MSS_Vat.sir.93/Vat.sir.93_0647_fa_0320r.jp2/full/full/0/native.jpg\n",
      "starting to scrape folio 320 r...\n",
      "status problem: 404\n",
      "https://digi.vatlib.it/iiifimage/MSS_Vat.sir.93/Vat.sir.93_0648_fa_0320v.jp2/full/full/0/native.jpg\n",
      "starting to scrape folio 320 v...\n",
      "status problem: 404\n",
      "https://digi.vatlib.it/iiifimage/MSS_Vat.sir.93/Vat.sir.93_0649_fa_0321r.jp2/full/full/0/native.jpg\n",
      "starting to scrape folio 321 r...\n",
      "status problem: 404\n",
      "https://digi.vatlib.it/iiifimage/MSS_Vat.sir.93/Vat.sir.93_0650_fa_0321v.jp2/full/full/0/native.jpg\n",
      "starting to scrape folio 321 v...\n",
      "status problem: 404\n",
      "https://digi.vatlib.it/iiifimage/MSS_Vat.sir.93/Vat.sir.93_0651_fa_0322r.jp2/full/full/0/native.jpg\n",
      "starting to scrape folio 322 r...\n",
      "status problem: 404\n",
      "https://digi.vatlib.it/iiifimage/MSS_Vat.sir.93/Vat.sir.93_0652_fa_0322v.jp2/full/full/0/native.jpg\n",
      "starting to scrape folio 322 v...\n",
      "status problem: 404\n",
      "https://digi.vatlib.it/iiifimage/MSS_Vat.sir.93/Vat.sir.93_0653_fa_0323r.jp2/full/full/0/native.jpg\n",
      "starting to scrape folio 323 r...\n",
      "status problem: 404\n",
      "https://digi.vatlib.it/iiifimage/MSS_Vat.sir.93/Vat.sir.93_0654_fa_0323v.jp2/full/full/0/native.jpg\n",
      "starting to scrape folio 323 v...\n",
      "status problem: 404\n",
      "https://digi.vatlib.it/iiifimage/MSS_Vat.sir.93/Vat.sir.93_0655_fa_0324r.jp2/full/full/0/native.jpg\n",
      "starting to scrape folio 324 r...\n",
      "status problem: 404\n",
      "https://digi.vatlib.it/iiifimage/MSS_Vat.sir.93/Vat.sir.93_0656_fa_0324v.jp2/full/full/0/native.jpg\n",
      "starting to scrape folio 324 v...\n",
      "status problem: 404\n",
      "https://digi.vatlib.it/iiifimage/MSS_Vat.sir.93/Vat.sir.93_0657_fa_0325r.jp2/full/full/0/native.jpg\n",
      "starting to scrape folio 325 r...\n",
      "status problem: 404\n",
      "https://digi.vatlib.it/iiifimage/MSS_Vat.sir.93/Vat.sir.93_0658_fa_0325v.jp2/full/full/0/native.jpg\n",
      "starting to scrape folio 325 v...\n",
      "status problem: 404\n",
      "https://digi.vatlib.it/iiifimage/MSS_Vat.sir.93/Vat.sir.93_0659_fa_0326r.jp2/full/full/0/native.jpg\n",
      "starting to scrape folio 326 r...\n",
      "status problem: 404\n",
      "https://digi.vatlib.it/iiifimage/MSS_Vat.sir.93/Vat.sir.93_0660_fa_0326v.jp2/full/full/0/native.jpg\n",
      "starting to scrape folio 326 v...\n",
      "status problem: 404\n",
      "https://digi.vatlib.it/iiifimage/MSS_Vat.sir.93/Vat.sir.93_0661_fa_0327r.jp2/full/full/0/native.jpg\n",
      "starting to scrape folio 327 r...\n",
      "status problem: 404\n",
      "https://digi.vatlib.it/iiifimage/MSS_Vat.sir.93/Vat.sir.93_0662_fa_0327v.jp2/full/full/0/native.jpg\n",
      "starting to scrape folio 327 v...\n",
      "status problem: 404\n",
      "https://digi.vatlib.it/iiifimage/MSS_Vat.sir.93/Vat.sir.93_0663_fa_0328r.jp2/full/full/0/native.jpg\n",
      "starting to scrape folio 328 r...\n",
      "status problem: 404\n",
      "https://digi.vatlib.it/iiifimage/MSS_Vat.sir.93/Vat.sir.93_0664_fa_0328v.jp2/full/full/0/native.jpg\n",
      "starting to scrape folio 328 v...\n",
      "status problem: 404\n",
      "https://digi.vatlib.it/iiifimage/MSS_Vat.sir.93/Vat.sir.93_0665_fa_0329r.jp2/full/full/0/native.jpg\n",
      "starting to scrape folio 329 r...\n",
      "status problem: 404\n",
      "https://digi.vatlib.it/iiifimage/MSS_Vat.sir.93/Vat.sir.93_0666_fa_0329v.jp2/full/full/0/native.jpg\n",
      "starting to scrape folio 329 v...\n",
      "status problem: 404\n",
      "https://digi.vatlib.it/iiifimage/MSS_Vat.sir.93/Vat.sir.93_0667_fa_0330r.jp2/full/full/0/native.jpg\n",
      "starting to scrape folio 330 r...\n",
      "status problem: 404\n",
      "https://digi.vatlib.it/iiifimage/MSS_Vat.sir.93/Vat.sir.93_0668_fa_0330v.jp2/full/full/0/native.jpg\n",
      "starting to scrape folio 330 v...\n",
      "status problem: 404\n",
      "https://digi.vatlib.it/iiifimage/MSS_Vat.sir.93/Vat.sir.93_0669_fa_0331r.jp2/full/full/0/native.jpg\n",
      "starting to scrape folio 331 r...\n",
      "status problem: 404\n",
      "https://digi.vatlib.it/iiifimage/MSS_Vat.sir.93/Vat.sir.93_0670_fa_0331v.jp2/full/full/0/native.jpg\n",
      "starting to scrape folio 331 v...\n",
      "status problem: 404\n",
      "https://digi.vatlib.it/iiifimage/MSS_Vat.sir.93/Vat.sir.93_0671_fa_0332r.jp2/full/full/0/native.jpg\n",
      "starting to scrape folio 332 r...\n",
      "status problem: 404\n",
      "https://digi.vatlib.it/iiifimage/MSS_Vat.sir.93/Vat.sir.93_0672_fa_0332v.jp2/full/full/0/native.jpg\n",
      "starting to scrape folio 332 v...\n",
      "status problem: 404\n",
      "https://digi.vatlib.it/iiifimage/MSS_Vat.sir.93/Vat.sir.93_0673_fa_0333r.jp2/full/full/0/native.jpg\n",
      "starting to scrape folio 333 r...\n",
      "status problem: 404\n",
      "https://digi.vatlib.it/iiifimage/MSS_Vat.sir.93/Vat.sir.93_0674_fa_0333v.jp2/full/full/0/native.jpg\n",
      "starting to scrape folio 333 v...\n",
      "status problem: 404\n",
      "https://digi.vatlib.it/iiifimage/MSS_Vat.sir.93/Vat.sir.93_0675_fa_0334r.jp2/full/full/0/native.jpg\n",
      "starting to scrape folio 334 r...\n",
      "status problem: 404\n",
      "https://digi.vatlib.it/iiifimage/MSS_Vat.sir.93/Vat.sir.93_0676_fa_0334v.jp2/full/full/0/native.jpg\n",
      "starting to scrape folio 334 v...\n",
      "status problem: 404\n",
      "https://digi.vatlib.it/iiifimage/MSS_Vat.sir.93/Vat.sir.93_0677_fa_0335r.jp2/full/full/0/native.jpg\n",
      "starting to scrape folio 335 r...\n",
      "status problem: 404\n",
      "https://digi.vatlib.it/iiifimage/MSS_Vat.sir.93/Vat.sir.93_0678_fa_0335v.jp2/full/full/0/native.jpg\n",
      "starting to scrape folio 335 v...\n",
      "status problem: 404\n",
      "https://digi.vatlib.it/iiifimage/MSS_Vat.sir.93/Vat.sir.93_0679_fa_0336r.jp2/full/full/0/native.jpg\n",
      "starting to scrape folio 336 r...\n",
      "status problem: 404\n",
      "https://digi.vatlib.it/iiifimage/MSS_Vat.sir.93/Vat.sir.93_0680_fa_0336v.jp2/full/full/0/native.jpg\n",
      "starting to scrape folio 336 v...\n",
      "status problem: 404\n",
      "https://digi.vatlib.it/iiifimage/MSS_Vat.sir.93/Vat.sir.93_0681_fa_0337r.jp2/full/full/0/native.jpg\n",
      "starting to scrape folio 337 r...\n",
      "status problem: 404\n",
      "https://digi.vatlib.it/iiifimage/MSS_Vat.sir.93/Vat.sir.93_0682_fa_0337v.jp2/full/full/0/native.jpg\n",
      "starting to scrape folio 337 v...\n",
      "status problem: 404\n",
      "https://digi.vatlib.it/iiifimage/MSS_Vat.sir.93/Vat.sir.93_0683_fa_0338r.jp2/full/full/0/native.jpg\n",
      "starting to scrape folio 338 r...\n",
      "status problem: 404\n",
      "https://digi.vatlib.it/iiifimage/MSS_Vat.sir.93/Vat.sir.93_0684_fa_0338v.jp2/full/full/0/native.jpg\n",
      "starting to scrape folio 338 v...\n",
      "status problem: 404\n",
      "https://digi.vatlib.it/iiifimage/MSS_Vat.sir.93/Vat.sir.93_0685_fa_0339r.jp2/full/full/0/native.jpg\n",
      "starting to scrape folio 339 r...\n",
      "status problem: 404\n",
      "https://digi.vatlib.it/iiifimage/MSS_Vat.sir.93/Vat.sir.93_0686_fa_0339v.jp2/full/full/0/native.jpg\n",
      "starting to scrape folio 339 v...\n",
      "status problem: 404\n",
      "https://digi.vatlib.it/iiifimage/MSS_Vat.sir.93/Vat.sir.93_0687_fa_0340r.jp2/full/full/0/native.jpg\n",
      "starting to scrape folio 340 r...\n",
      "status problem: 404\n",
      "https://digi.vatlib.it/iiifimage/MSS_Vat.sir.93/Vat.sir.93_0688_fa_0340v.jp2/full/full/0/native.jpg\n",
      "starting to scrape folio 340 v...\n",
      "status problem: 404\n",
      "https://digi.vatlib.it/iiifimage/MSS_Vat.sir.93/Vat.sir.93_0689_fa_0341r.jp2/full/full/0/native.jpg\n",
      "starting to scrape folio 341 r...\n",
      "status problem: 404\n",
      "https://digi.vatlib.it/iiifimage/MSS_Vat.sir.93/Vat.sir.93_0690_fa_0341v.jp2/full/full/0/native.jpg\n",
      "starting to scrape folio 341 v...\n"
     ]
    },
    {
     "name": "stdout",
     "output_type": "stream",
     "text": [
      "status problem: 404\n",
      "https://digi.vatlib.it/iiifimage/MSS_Vat.sir.93/Vat.sir.93_0691_fa_0342r.jp2/full/full/0/native.jpg\n",
      "starting to scrape folio 342 r...\n",
      "status problem: 404\n",
      "https://digi.vatlib.it/iiifimage/MSS_Vat.sir.93/Vat.sir.93_0692_fa_0342v.jp2/full/full/0/native.jpg\n",
      "starting to scrape folio 342 v...\n",
      "status problem: 404\n",
      "https://digi.vatlib.it/iiifimage/MSS_Vat.sir.93/Vat.sir.93_0693_fa_0343r.jp2/full/full/0/native.jpg\n",
      "starting to scrape folio 343 r...\n",
      "status problem: 404\n",
      "https://digi.vatlib.it/iiifimage/MSS_Vat.sir.93/Vat.sir.93_0694_fa_0343v.jp2/full/full/0/native.jpg\n",
      "starting to scrape folio 343 v...\n",
      "status problem: 404\n",
      "https://digi.vatlib.it/iiifimage/MSS_Vat.sir.93/Vat.sir.93_0695_fa_0344r.jp2/full/full/0/native.jpg\n",
      "starting to scrape folio 344 r...\n",
      "status problem: 404\n",
      "https://digi.vatlib.it/iiifimage/MSS_Vat.sir.93/Vat.sir.93_0696_fa_0344v.jp2/full/full/0/native.jpg\n",
      "starting to scrape folio 344 v...\n",
      "status problem: 404\n",
      "https://digi.vatlib.it/iiifimage/MSS_Vat.sir.93/Vat.sir.93_0697_fa_0345r.jp2/full/full/0/native.jpg\n",
      "starting to scrape folio 345 r...\n",
      "status problem: 404\n",
      "https://digi.vatlib.it/iiifimage/MSS_Vat.sir.93/Vat.sir.93_0698_fa_0345v.jp2/full/full/0/native.jpg\n",
      "starting to scrape folio 345 v...\n",
      "status problem: 404\n",
      "https://digi.vatlib.it/iiifimage/MSS_Vat.sir.93/Vat.sir.93_0699_fa_0346r.jp2/full/full/0/native.jpg\n",
      "starting to scrape folio 346 r...\n",
      "status problem: 404\n",
      "https://digi.vatlib.it/iiifimage/MSS_Vat.sir.93/Vat.sir.93_0700_fa_0346v.jp2/full/full/0/native.jpg\n",
      "starting to scrape folio 346 v...\n",
      "status problem: 404\n",
      "https://digi.vatlib.it/iiifimage/MSS_Vat.sir.93/Vat.sir.93_0701_fa_0347r.jp2/full/full/0/native.jpg\n",
      "starting to scrape folio 347 r...\n",
      "status problem: 404\n",
      "https://digi.vatlib.it/iiifimage/MSS_Vat.sir.93/Vat.sir.93_0702_fa_0347v.jp2/full/full/0/native.jpg\n",
      "starting to scrape folio 347 v...\n",
      "status problem: 404\n",
      "https://digi.vatlib.it/iiifimage/MSS_Vat.sir.93/Vat.sir.93_0703_fa_0348r.jp2/full/full/0/native.jpg\n",
      "starting to scrape folio 348 r...\n",
      "status problem: 404\n",
      "https://digi.vatlib.it/iiifimage/MSS_Vat.sir.93/Vat.sir.93_0704_fa_0348v.jp2/full/full/0/native.jpg\n",
      "starting to scrape folio 348 v...\n",
      "status problem: 404\n",
      "https://digi.vatlib.it/iiifimage/MSS_Vat.sir.93/Vat.sir.93_0705_fa_0349r.jp2/full/full/0/native.jpg\n",
      "starting to scrape folio 349 r...\n",
      "status problem: 404\n",
      "https://digi.vatlib.it/iiifimage/MSS_Vat.sir.93/Vat.sir.93_0706_fa_0349v.jp2/full/full/0/native.jpg\n",
      "starting to scrape folio 349 v...\n",
      "status problem: 404\n",
      "https://digi.vatlib.it/iiifimage/MSS_Vat.sir.93/Vat.sir.93_0707_fa_0350r.jp2/full/full/0/native.jpg\n",
      "starting to scrape folio 350 r...\n",
      "status problem: 404\n",
      "https://digi.vatlib.it/iiifimage/MSS_Vat.sir.93/Vat.sir.93_0708_fa_0350v.jp2/full/full/0/native.jpg\n",
      "starting to scrape folio 350 v...\n",
      "status problem: 404\n",
      "https://digi.vatlib.it/iiifimage/MSS_Vat.sir.93/Vat.sir.93_0709_fa_0351r.jp2/full/full/0/native.jpg\n",
      "starting to scrape folio 351 r...\n",
      "status problem: 404\n",
      "https://digi.vatlib.it/iiifimage/MSS_Vat.sir.93/Vat.sir.93_0710_fa_0351v.jp2/full/full/0/native.jpg\n",
      "starting to scrape folio 351 v...\n",
      "status problem: 404\n",
      "https://digi.vatlib.it/iiifimage/MSS_Vat.sir.93/Vat.sir.93_0711_fa_0352r.jp2/full/full/0/native.jpg\n",
      "starting to scrape folio 352 r...\n",
      "status problem: 404\n",
      "https://digi.vatlib.it/iiifimage/MSS_Vat.sir.93/Vat.sir.93_0712_fa_0352v.jp2/full/full/0/native.jpg\n",
      "starting to scrape folio 352 v...\n",
      "status problem: 404\n",
      "https://digi.vatlib.it/iiifimage/MSS_Vat.sir.93/Vat.sir.93_0713_fa_0353r.jp2/full/full/0/native.jpg\n",
      "starting to scrape folio 353 r...\n",
      "status problem: 404\n",
      "https://digi.vatlib.it/iiifimage/MSS_Vat.sir.93/Vat.sir.93_0714_fa_0353v.jp2/full/full/0/native.jpg\n",
      "starting to scrape folio 353 v...\n",
      "status problem: 404\n",
      "https://digi.vatlib.it/iiifimage/MSS_Vat.sir.93/Vat.sir.93_0715_fa_0354r.jp2/full/full/0/native.jpg\n",
      "starting to scrape folio 354 r...\n",
      "status problem: 404\n",
      "https://digi.vatlib.it/iiifimage/MSS_Vat.sir.93/Vat.sir.93_0716_fa_0354v.jp2/full/full/0/native.jpg\n",
      "starting to scrape folio 354 v...\n",
      "status problem: 404\n",
      "https://digi.vatlib.it/iiifimage/MSS_Vat.sir.93/Vat.sir.93_0717_fa_0355r.jp2/full/full/0/native.jpg\n",
      "starting to scrape folio 355 r...\n",
      "status problem: 404\n",
      "https://digi.vatlib.it/iiifimage/MSS_Vat.sir.93/Vat.sir.93_0718_fa_0355v.jp2/full/full/0/native.jpg\n",
      "starting to scrape folio 355 v...\n",
      "status problem: 404\n",
      "https://digi.vatlib.it/iiifimage/MSS_Vat.sir.93/Vat.sir.93_0719_fa_0356r.jp2/full/full/0/native.jpg\n",
      "starting to scrape folio 356 r...\n",
      "status problem: 404\n",
      "https://digi.vatlib.it/iiifimage/MSS_Vat.sir.93/Vat.sir.93_0720_fa_0356v.jp2/full/full/0/native.jpg\n",
      "starting to scrape folio 356 v...\n",
      "status problem: 404\n",
      "https://digi.vatlib.it/iiifimage/MSS_Vat.sir.93/Vat.sir.93_0721_fa_0357r.jp2/full/full/0/native.jpg\n",
      "starting to scrape folio 357 r...\n",
      "status problem: 404\n",
      "https://digi.vatlib.it/iiifimage/MSS_Vat.sir.93/Vat.sir.93_0722_fa_0357v.jp2/full/full/0/native.jpg\n",
      "starting to scrape folio 357 v...\n",
      "status problem: 404\n",
      "https://digi.vatlib.it/iiifimage/MSS_Vat.sir.93/Vat.sir.93_0723_fa_0358r.jp2/full/full/0/native.jpg\n",
      "starting to scrape folio 358 r...\n",
      "status problem: 404\n",
      "https://digi.vatlib.it/iiifimage/MSS_Vat.sir.93/Vat.sir.93_0724_fa_0358v.jp2/full/full/0/native.jpg\n",
      "starting to scrape folio 358 v...\n",
      "status problem: 404\n",
      "https://digi.vatlib.it/iiifimage/MSS_Vat.sir.93/Vat.sir.93_0725_fa_0359r.jp2/full/full/0/native.jpg\n",
      "starting to scrape folio 359 r...\n",
      "status problem: 404\n",
      "https://digi.vatlib.it/iiifimage/MSS_Vat.sir.93/Vat.sir.93_0726_fa_0359v.jp2/full/full/0/native.jpg\n",
      "starting to scrape folio 359 v...\n",
      "status problem: 404\n",
      "https://digi.vatlib.it/iiifimage/MSS_Vat.sir.93/Vat.sir.93_0727_fa_0360r.jp2/full/full/0/native.jpg\n",
      "starting to scrape folio 360 r...\n",
      "status problem: 404\n",
      "https://digi.vatlib.it/iiifimage/MSS_Vat.sir.93/Vat.sir.93_0728_fa_0360v.jp2/full/full/0/native.jpg\n",
      "starting to scrape folio 360 v...\n",
      "status problem: 404\n",
      "https://digi.vatlib.it/iiifimage/MSS_Vat.sir.93/Vat.sir.93_0729_fa_0361r.jp2/full/full/0/native.jpg\n",
      "starting to scrape folio 361 r...\n",
      "status problem: 404\n",
      "https://digi.vatlib.it/iiifimage/MSS_Vat.sir.93/Vat.sir.93_0730_fa_0361v.jp2/full/full/0/native.jpg\n",
      "starting to scrape folio 361 v...\n",
      "status problem: 404\n",
      "https://digi.vatlib.it/iiifimage/MSS_Vat.sir.93/Vat.sir.93_0731_fa_0362r.jp2/full/full/0/native.jpg\n",
      "starting to scrape folio 362 r...\n",
      "status problem: 404\n",
      "https://digi.vatlib.it/iiifimage/MSS_Vat.sir.93/Vat.sir.93_0732_fa_0362v.jp2/full/full/0/native.jpg\n",
      "starting to scrape folio 362 v...\n",
      "status problem: 404\n",
      "https://digi.vatlib.it/iiifimage/MSS_Vat.sir.93/Vat.sir.93_0733_fa_0363r.jp2/full/full/0/native.jpg\n",
      "starting to scrape folio 363 r...\n",
      "status problem: 404\n",
      "https://digi.vatlib.it/iiifimage/MSS_Vat.sir.93/Vat.sir.93_0734_fa_0363v.jp2/full/full/0/native.jpg\n",
      "starting to scrape folio 363 v...\n",
      "status problem: 404\n",
      "https://digi.vatlib.it/iiifimage/MSS_Vat.sir.93/Vat.sir.93_0735_fa_0364r.jp2/full/full/0/native.jpg\n",
      "starting to scrape folio 364 r...\n",
      "status problem: 404\n",
      "https://digi.vatlib.it/iiifimage/MSS_Vat.sir.93/Vat.sir.93_0736_fa_0364v.jp2/full/full/0/native.jpg\n",
      "starting to scrape folio 364 v...\n",
      "status problem: 404\n",
      "https://digi.vatlib.it/iiifimage/MSS_Vat.sir.93/Vat.sir.93_0737_fa_0365r.jp2/full/full/0/native.jpg\n",
      "starting to scrape folio 365 r...\n",
      "status problem: 404\n",
      "https://digi.vatlib.it/iiifimage/MSS_Vat.sir.93/Vat.sir.93_0738_fa_0365v.jp2/full/full/0/native.jpg\n",
      "starting to scrape folio 365 v...\n",
      "status problem: 404\n",
      "https://digi.vatlib.it/iiifimage/MSS_Vat.sir.93/Vat.sir.93_0739_fa_0366r.jp2/full/full/0/native.jpg\n",
      "starting to scrape folio 366 r...\n",
      "status problem: 404\n",
      "https://digi.vatlib.it/iiifimage/MSS_Vat.sir.93/Vat.sir.93_0740_fa_0366v.jp2/full/full/0/native.jpg\n",
      "starting to scrape folio 366 v...\n",
      "status problem: 404\n",
      "https://digi.vatlib.it/iiifimage/MSS_Vat.sir.93/Vat.sir.93_0741_fa_0367r.jp2/full/full/0/native.jpg\n",
      "starting to scrape folio 367 r...\n",
      "status problem: 404\n",
      "https://digi.vatlib.it/iiifimage/MSS_Vat.sir.93/Vat.sir.93_0742_fa_0367v.jp2/full/full/0/native.jpg\n",
      "starting to scrape folio 367 v...\n",
      "status problem: 404\n",
      "https://digi.vatlib.it/iiifimage/MSS_Vat.sir.93/Vat.sir.93_0743_fa_0368r.jp2/full/full/0/native.jpg\n",
      "starting to scrape folio 368 r...\n",
      "status problem: 404\n",
      "https://digi.vatlib.it/iiifimage/MSS_Vat.sir.93/Vat.sir.93_0744_fa_0368v.jp2/full/full/0/native.jpg\n",
      "starting to scrape folio 368 v...\n"
     ]
    },
    {
     "name": "stdout",
     "output_type": "stream",
     "text": [
      "status problem: 404\n",
      "https://digi.vatlib.it/iiifimage/MSS_Vat.sir.93/Vat.sir.93_0745_fa_0369r.jp2/full/full/0/native.jpg\n",
      "starting to scrape folio 369 r...\n",
      "status problem: 404\n",
      "https://digi.vatlib.it/iiifimage/MSS_Vat.sir.93/Vat.sir.93_0746_fa_0369v.jp2/full/full/0/native.jpg\n",
      "starting to scrape folio 369 v...\n",
      "status problem: 404\n",
      "https://digi.vatlib.it/iiifimage/MSS_Vat.sir.93/Vat.sir.93_0747_fa_0370r.jp2/full/full/0/native.jpg\n",
      "starting to scrape folio 370 r...\n",
      "status problem: 404\n",
      "https://digi.vatlib.it/iiifimage/MSS_Vat.sir.93/Vat.sir.93_0748_fa_0370v.jp2/full/full/0/native.jpg\n",
      "starting to scrape folio 370 v...\n",
      "status problem: 404\n",
      "https://digi.vatlib.it/iiifimage/MSS_Vat.sir.93/Vat.sir.93_0749_fa_0371r.jp2/full/full/0/native.jpg\n",
      "starting to scrape folio 371 r...\n",
      "status problem: 404\n",
      "https://digi.vatlib.it/iiifimage/MSS_Vat.sir.93/Vat.sir.93_0750_fa_0371v.jp2/full/full/0/native.jpg\n",
      "starting to scrape folio 371 v...\n",
      "status problem: 404\n",
      "https://digi.vatlib.it/iiifimage/MSS_Vat.sir.93/Vat.sir.93_0751_fa_0372r.jp2/full/full/0/native.jpg\n",
      "starting to scrape folio 372 r...\n",
      "status problem: 404\n",
      "https://digi.vatlib.it/iiifimage/MSS_Vat.sir.93/Vat.sir.93_0752_fa_0372v.jp2/full/full/0/native.jpg\n",
      "starting to scrape folio 372 v...\n",
      "status problem: 404\n",
      "https://digi.vatlib.it/iiifimage/MSS_Vat.sir.93/Vat.sir.93_0753_fa_0373r.jp2/full/full/0/native.jpg\n",
      "starting to scrape folio 373 r...\n",
      "status problem: 404\n",
      "https://digi.vatlib.it/iiifimage/MSS_Vat.sir.93/Vat.sir.93_0754_fa_0373v.jp2/full/full/0/native.jpg\n",
      "starting to scrape folio 373 v...\n",
      "status problem: 404\n",
      "https://digi.vatlib.it/iiifimage/MSS_Vat.sir.93/Vat.sir.93_0755_fa_0374r.jp2/full/full/0/native.jpg\n",
      "starting to scrape folio 374 r...\n",
      "status problem: 404\n",
      "https://digi.vatlib.it/iiifimage/MSS_Vat.sir.93/Vat.sir.93_0756_fa_0374v.jp2/full/full/0/native.jpg\n",
      "starting to scrape folio 374 v...\n",
      "status problem: 404\n",
      "https://digi.vatlib.it/iiifimage/MSS_Vat.sir.93/Vat.sir.93_0757_fa_0375r.jp2/full/full/0/native.jpg\n",
      "starting to scrape folio 375 r...\n",
      "status problem: 404\n",
      "https://digi.vatlib.it/iiifimage/MSS_Vat.sir.93/Vat.sir.93_0758_fa_0375v.jp2/full/full/0/native.jpg\n",
      "starting to scrape folio 375 v...\n",
      "status problem: 404\n",
      "https://digi.vatlib.it/iiifimage/MSS_Vat.sir.93/Vat.sir.93_0759_fa_0376r.jp2/full/full/0/native.jpg\n",
      "starting to scrape folio 376 r...\n",
      "status problem: 404\n",
      "https://digi.vatlib.it/iiifimage/MSS_Vat.sir.93/Vat.sir.93_0760_fa_0376v.jp2/full/full/0/native.jpg\n",
      "starting to scrape folio 376 v...\n",
      "status problem: 404\n",
      "https://digi.vatlib.it/iiifimage/MSS_Vat.sir.93/Vat.sir.93_0761_fa_0377r.jp2/full/full/0/native.jpg\n",
      "starting to scrape folio 377 r...\n",
      "status problem: 404\n",
      "https://digi.vatlib.it/iiifimage/MSS_Vat.sir.93/Vat.sir.93_0762_fa_0377v.jp2/full/full/0/native.jpg\n",
      "starting to scrape folio 377 v...\n",
      "status problem: 404\n",
      "https://digi.vatlib.it/iiifimage/MSS_Vat.sir.93/Vat.sir.93_0763_fa_0378r.jp2/full/full/0/native.jpg\n",
      "starting to scrape folio 378 r...\n",
      "status problem: 404\n",
      "https://digi.vatlib.it/iiifimage/MSS_Vat.sir.93/Vat.sir.93_0764_fa_0378v.jp2/full/full/0/native.jpg\n",
      "starting to scrape folio 378 v...\n",
      "status problem: 404\n",
      "https://digi.vatlib.it/iiifimage/MSS_Vat.sir.93/Vat.sir.93_0765_fa_0379r.jp2/full/full/0/native.jpg\n",
      "starting to scrape folio 379 r...\n",
      "status problem: 404\n",
      "https://digi.vatlib.it/iiifimage/MSS_Vat.sir.93/Vat.sir.93_0766_fa_0379v.jp2/full/full/0/native.jpg\n",
      "starting to scrape folio 379 v...\n",
      "status problem: 404\n",
      "https://digi.vatlib.it/iiifimage/MSS_Vat.sir.93/Vat.sir.93_0767_fa_0380r.jp2/full/full/0/native.jpg\n",
      "starting to scrape folio 380 r...\n",
      "status problem: 404\n",
      "https://digi.vatlib.it/iiifimage/MSS_Vat.sir.93/Vat.sir.93_0768_fa_0380v.jp2/full/full/0/native.jpg\n",
      "starting to scrape folio 380 v...\n",
      "status problem: 404\n",
      "https://digi.vatlib.it/iiifimage/MSS_Vat.sir.93/Vat.sir.93_0769_fa_0381r.jp2/full/full/0/native.jpg\n",
      "starting to scrape folio 381 r...\n",
      "status problem: 404\n",
      "https://digi.vatlib.it/iiifimage/MSS_Vat.sir.93/Vat.sir.93_0770_fa_0381v.jp2/full/full/0/native.jpg\n",
      "starting to scrape folio 381 v...\n",
      "status problem: 404\n",
      "https://digi.vatlib.it/iiifimage/MSS_Vat.sir.93/Vat.sir.93_0771_fa_0382r.jp2/full/full/0/native.jpg\n",
      "starting to scrape folio 382 r...\n",
      "status problem: 404\n",
      "https://digi.vatlib.it/iiifimage/MSS_Vat.sir.93/Vat.sir.93_0772_fa_0382v.jp2/full/full/0/native.jpg\n",
      "starting to scrape folio 382 v...\n",
      "status problem: 404\n",
      "https://digi.vatlib.it/iiifimage/MSS_Vat.sir.93/Vat.sir.93_0773_fa_0383r.jp2/full/full/0/native.jpg\n",
      "starting to scrape folio 383 r...\n",
      "status problem: 404\n",
      "https://digi.vatlib.it/iiifimage/MSS_Vat.sir.93/Vat.sir.93_0774_fa_0383v.jp2/full/full/0/native.jpg\n",
      "starting to scrape folio 383 v...\n",
      "status problem: 404\n",
      "https://digi.vatlib.it/iiifimage/MSS_Vat.sir.93/Vat.sir.93_0775_fa_0384r.jp2/full/full/0/native.jpg\n",
      "starting to scrape folio 384 r...\n",
      "status problem: 404\n",
      "https://digi.vatlib.it/iiifimage/MSS_Vat.sir.93/Vat.sir.93_0776_fa_0384v.jp2/full/full/0/native.jpg\n",
      "starting to scrape folio 384 v...\n",
      "status problem: 404\n",
      "https://digi.vatlib.it/iiifimage/MSS_Vat.sir.93/Vat.sir.93_0777_fa_0385r.jp2/full/full/0/native.jpg\n",
      "starting to scrape folio 385 r...\n",
      "status problem: 404\n",
      "https://digi.vatlib.it/iiifimage/MSS_Vat.sir.93/Vat.sir.93_0778_fa_0385v.jp2/full/full/0/native.jpg\n",
      "starting to scrape folio 385 v...\n",
      "status problem: 404\n",
      "https://digi.vatlib.it/iiifimage/MSS_Vat.sir.93/Vat.sir.93_0779_fa_0386r.jp2/full/full/0/native.jpg\n",
      "starting to scrape folio 386 r...\n",
      "status problem: 404\n",
      "https://digi.vatlib.it/iiifimage/MSS_Vat.sir.93/Vat.sir.93_0780_fa_0386v.jp2/full/full/0/native.jpg\n",
      "starting to scrape folio 386 v...\n",
      "status problem: 404\n",
      "https://digi.vatlib.it/iiifimage/MSS_Vat.sir.93/Vat.sir.93_0781_fa_0387r.jp2/full/full/0/native.jpg\n",
      "starting to scrape folio 387 r...\n",
      "status problem: 404\n",
      "https://digi.vatlib.it/iiifimage/MSS_Vat.sir.93/Vat.sir.93_0782_fa_0387v.jp2/full/full/0/native.jpg\n",
      "starting to scrape folio 387 v...\n",
      "status problem: 404\n",
      "https://digi.vatlib.it/iiifimage/MSS_Vat.sir.93/Vat.sir.93_0783_fa_0388r.jp2/full/full/0/native.jpg\n",
      "starting to scrape folio 388 r...\n",
      "status problem: 404\n",
      "https://digi.vatlib.it/iiifimage/MSS_Vat.sir.93/Vat.sir.93_0784_fa_0388v.jp2/full/full/0/native.jpg\n",
      "starting to scrape folio 388 v...\n",
      "status problem: 404\n",
      "https://digi.vatlib.it/iiifimage/MSS_Vat.sir.93/Vat.sir.93_0785_fa_0389r.jp2/full/full/0/native.jpg\n",
      "starting to scrape folio 389 r...\n",
      "status problem: 404\n",
      "https://digi.vatlib.it/iiifimage/MSS_Vat.sir.93/Vat.sir.93_0786_fa_0389v.jp2/full/full/0/native.jpg\n",
      "starting to scrape folio 389 v...\n",
      "status problem: 404\n",
      "https://digi.vatlib.it/iiifimage/MSS_Vat.sir.93/Vat.sir.93_0787_fa_0390r.jp2/full/full/0/native.jpg\n",
      "starting to scrape folio 390 r...\n",
      "status problem: 404\n",
      "https://digi.vatlib.it/iiifimage/MSS_Vat.sir.93/Vat.sir.93_0788_fa_0390v.jp2/full/full/0/native.jpg\n",
      "starting to scrape folio 390 v...\n",
      "status problem: 404\n",
      "https://digi.vatlib.it/iiifimage/MSS_Vat.sir.93/Vat.sir.93_0789_fa_0391r.jp2/full/full/0/native.jpg\n",
      "starting to scrape folio 391 r...\n",
      "status problem: 404\n",
      "https://digi.vatlib.it/iiifimage/MSS_Vat.sir.93/Vat.sir.93_0790_fa_0391v.jp2/full/full/0/native.jpg\n",
      "starting to scrape folio 391 v...\n",
      "status problem: 404\n",
      "https://digi.vatlib.it/iiifimage/MSS_Vat.sir.93/Vat.sir.93_0791_fa_0392r.jp2/full/full/0/native.jpg\n",
      "starting to scrape folio 392 r...\n",
      "status problem: 404\n",
      "https://digi.vatlib.it/iiifimage/MSS_Vat.sir.93/Vat.sir.93_0792_fa_0392v.jp2/full/full/0/native.jpg\n",
      "starting to scrape folio 392 v...\n",
      "status problem: 404\n",
      "https://digi.vatlib.it/iiifimage/MSS_Vat.sir.93/Vat.sir.93_0793_fa_0393r.jp2/full/full/0/native.jpg\n",
      "starting to scrape folio 393 r...\n",
      "status problem: 404\n",
      "https://digi.vatlib.it/iiifimage/MSS_Vat.sir.93/Vat.sir.93_0794_fa_0393v.jp2/full/full/0/native.jpg\n",
      "starting to scrape folio 393 v...\n",
      "status problem: 404\n",
      "https://digi.vatlib.it/iiifimage/MSS_Vat.sir.93/Vat.sir.93_0795_fa_0394r.jp2/full/full/0/native.jpg\n",
      "starting to scrape folio 394 r...\n",
      "status problem: 404\n",
      "https://digi.vatlib.it/iiifimage/MSS_Vat.sir.93/Vat.sir.93_0796_fa_0394v.jp2/full/full/0/native.jpg\n",
      "starting to scrape folio 394 v...\n",
      "status problem: 404\n",
      "https://digi.vatlib.it/iiifimage/MSS_Vat.sir.93/Vat.sir.93_0797_fa_0395r.jp2/full/full/0/native.jpg\n",
      "starting to scrape folio 395 r...\n",
      "status problem: 404\n",
      "https://digi.vatlib.it/iiifimage/MSS_Vat.sir.93/Vat.sir.93_0798_fa_0395v.jp2/full/full/0/native.jpg\n",
      "starting to scrape folio 395 v...\n"
     ]
    },
    {
     "name": "stdout",
     "output_type": "stream",
     "text": [
      "status problem: 404\n",
      "https://digi.vatlib.it/iiifimage/MSS_Vat.sir.93/Vat.sir.93_0799_fa_0396r.jp2/full/full/0/native.jpg\n",
      "starting to scrape folio 396 r...\n",
      "status problem: 404\n",
      "https://digi.vatlib.it/iiifimage/MSS_Vat.sir.93/Vat.sir.93_0800_fa_0396v.jp2/full/full/0/native.jpg\n",
      "starting to scrape folio 396 v...\n",
      "status problem: 404\n",
      "https://digi.vatlib.it/iiifimage/MSS_Vat.sir.93/Vat.sir.93_0801_fa_0397r.jp2/full/full/0/native.jpg\n",
      "starting to scrape folio 397 r...\n",
      "status problem: 404\n",
      "https://digi.vatlib.it/iiifimage/MSS_Vat.sir.93/Vat.sir.93_0802_fa_0397v.jp2/full/full/0/native.jpg\n",
      "starting to scrape folio 397 v...\n",
      "status problem: 404\n",
      "https://digi.vatlib.it/iiifimage/MSS_Vat.sir.93/Vat.sir.93_0803_fa_0398r.jp2/full/full/0/native.jpg\n",
      "starting to scrape folio 398 r...\n",
      "status problem: 404\n",
      "https://digi.vatlib.it/iiifimage/MSS_Vat.sir.93/Vat.sir.93_0804_fa_0398v.jp2/full/full/0/native.jpg\n",
      "starting to scrape folio 398 v...\n",
      "status problem: 404\n",
      "https://digi.vatlib.it/iiifimage/MSS_Vat.sir.93/Vat.sir.93_0805_fa_0399r.jp2/full/full/0/native.jpg\n",
      "starting to scrape folio 399 r...\n",
      "status problem: 404\n",
      "https://digi.vatlib.it/iiifimage/MSS_Vat.sir.93/Vat.sir.93_0806_fa_0399v.jp2/full/full/0/native.jpg\n",
      "starting to scrape folio 399 v...\n",
      "status problem: 404\n",
      "https://digi.vatlib.it/iiifimage/MSS_Vat.sir.93/Vat.sir.93_0807_fa_0400r.jp2/full/full/0/native.jpg\n",
      "starting to scrape folio 400 r...\n",
      "status problem: 404\n",
      "https://digi.vatlib.it/iiifimage/MSS_Vat.sir.93/Vat.sir.93_0808_fa_0400v.jp2/full/full/0/native.jpg\n",
      "starting to scrape folio 400 v...\n",
      "status problem: 404\n",
      "https://digi.vatlib.it/iiifimage/MSS_Vat.sir.93/Vat.sir.93_0809_fa_0401r.jp2/full/full/0/native.jpg\n",
      "starting to scrape folio 401 r...\n",
      "status problem: 404\n",
      "https://digi.vatlib.it/iiifimage/MSS_Vat.sir.93/Vat.sir.93_0810_fa_0401v.jp2/full/full/0/native.jpg\n",
      "starting to scrape folio 401 v...\n",
      "status problem: 404\n",
      "https://digi.vatlib.it/iiifimage/MSS_Vat.sir.93/Vat.sir.93_0811_fa_0402r.jp2/full/full/0/native.jpg\n",
      "starting to scrape folio 402 r...\n",
      "status problem: 404\n",
      "https://digi.vatlib.it/iiifimage/MSS_Vat.sir.93/Vat.sir.93_0812_fa_0402v.jp2/full/full/0/native.jpg\n",
      "starting to scrape folio 402 v...\n",
      "status problem: 404\n",
      "https://digi.vatlib.it/iiifimage/MSS_Vat.sir.93/Vat.sir.93_0813_fa_0403r.jp2/full/full/0/native.jpg\n",
      "starting to scrape folio 403 r...\n",
      "status problem: 404\n",
      "https://digi.vatlib.it/iiifimage/MSS_Vat.sir.93/Vat.sir.93_0814_fa_0403v.jp2/full/full/0/native.jpg\n",
      "starting to scrape folio 403 v...\n",
      "status problem: 404\n",
      "https://digi.vatlib.it/iiifimage/MSS_Vat.sir.93/Vat.sir.93_0815_fa_0404r.jp2/full/full/0/native.jpg\n",
      "starting to scrape folio 404 r...\n",
      "status problem: 404\n",
      "https://digi.vatlib.it/iiifimage/MSS_Vat.sir.93/Vat.sir.93_0816_fa_0404v.jp2/full/full/0/native.jpg\n",
      "starting to scrape folio 404 v...\n",
      "status problem: 404\n",
      "https://digi.vatlib.it/iiifimage/MSS_Vat.sir.93/Vat.sir.93_0817_fa_0405r.jp2/full/full/0/native.jpg\n",
      "starting to scrape folio 405 r...\n",
      "status problem: 404\n",
      "https://digi.vatlib.it/iiifimage/MSS_Vat.sir.93/Vat.sir.93_0818_fa_0405v.jp2/full/full/0/native.jpg\n",
      "starting to scrape folio 405 v...\n",
      "status problem: 404\n",
      "https://digi.vatlib.it/iiifimage/MSS_Vat.sir.93/Vat.sir.93_0819_fa_0406r.jp2/full/full/0/native.jpg\n",
      "starting to scrape folio 406 r...\n",
      "status problem: 404\n",
      "https://digi.vatlib.it/iiifimage/MSS_Vat.sir.93/Vat.sir.93_0820_fa_0406v.jp2/full/full/0/native.jpg\n",
      "starting to scrape folio 406 v...\n",
      "status problem: 404\n",
      "https://digi.vatlib.it/iiifimage/MSS_Vat.sir.93/Vat.sir.93_0821_fa_0407r.jp2/full/full/0/native.jpg\n",
      "starting to scrape folio 407 r...\n",
      "status problem: 404\n",
      "https://digi.vatlib.it/iiifimage/MSS_Vat.sir.93/Vat.sir.93_0822_fa_0407v.jp2/full/full/0/native.jpg\n",
      "starting to scrape folio 407 v...\n",
      "status problem: 404\n",
      "https://digi.vatlib.it/iiifimage/MSS_Vat.sir.93/Vat.sir.93_0823_fa_0408r.jp2/full/full/0/native.jpg\n",
      "starting to scrape folio 408 r...\n",
      "status problem: 404\n",
      "https://digi.vatlib.it/iiifimage/MSS_Vat.sir.93/Vat.sir.93_0824_fa_0408v.jp2/full/full/0/native.jpg\n",
      "starting to scrape folio 408 v...\n",
      "status problem: 404\n",
      "https://digi.vatlib.it/iiifimage/MSS_Vat.sir.93/Vat.sir.93_0825_fa_0409r.jp2/full/full/0/native.jpg\n",
      "starting to scrape folio 409 r...\n",
      "status problem: 404\n",
      "https://digi.vatlib.it/iiifimage/MSS_Vat.sir.93/Vat.sir.93_0826_fa_0409v.jp2/full/full/0/native.jpg\n",
      "starting to scrape folio 409 v...\n",
      "status problem: 404\n",
      "https://digi.vatlib.it/iiifimage/MSS_Vat.sir.93/Vat.sir.93_0827_fa_0410r.jp2/full/full/0/native.jpg\n",
      "starting to scrape folio 410 r...\n",
      "status problem: 404\n",
      "https://digi.vatlib.it/iiifimage/MSS_Vat.sir.93/Vat.sir.93_0828_fa_0410v.jp2/full/full/0/native.jpg\n",
      "starting to scrape folio 410 v...\n",
      "status problem: 404\n",
      "https://digi.vatlib.it/iiifimage/MSS_Vat.sir.93/Vat.sir.93_0829_fa_0411r.jp2/full/full/0/native.jpg\n",
      "starting to scrape folio 411 r...\n",
      "status problem: 404\n",
      "https://digi.vatlib.it/iiifimage/MSS_Vat.sir.93/Vat.sir.93_0830_fa_0411v.jp2/full/full/0/native.jpg\n",
      "starting to scrape folio 411 v...\n",
      "status problem: 404\n",
      "https://digi.vatlib.it/iiifimage/MSS_Vat.sir.93/Vat.sir.93_0831_fa_0412r.jp2/full/full/0/native.jpg\n",
      "starting to scrape folio 412 r...\n",
      "status problem: 404\n",
      "https://digi.vatlib.it/iiifimage/MSS_Vat.sir.93/Vat.sir.93_0832_fa_0412v.jp2/full/full/0/native.jpg\n",
      "starting to scrape folio 412 v...\n",
      "status problem: 404\n",
      "https://digi.vatlib.it/iiifimage/MSS_Vat.sir.93/Vat.sir.93_0833_fa_0413r.jp2/full/full/0/native.jpg\n",
      "starting to scrape folio 413 r...\n",
      "status problem: 404\n",
      "https://digi.vatlib.it/iiifimage/MSS_Vat.sir.93/Vat.sir.93_0834_fa_0413v.jp2/full/full/0/native.jpg\n",
      "starting to scrape folio 413 v...\n",
      "status problem: 404\n",
      "https://digi.vatlib.it/iiifimage/MSS_Vat.sir.93/Vat.sir.93_0835_fa_0414r.jp2/full/full/0/native.jpg\n",
      "starting to scrape folio 414 r...\n",
      "status problem: 404\n",
      "https://digi.vatlib.it/iiifimage/MSS_Vat.sir.93/Vat.sir.93_0836_fa_0414v.jp2/full/full/0/native.jpg\n",
      "starting to scrape folio 414 v...\n",
      "status problem: 404\n",
      "https://digi.vatlib.it/iiifimage/MSS_Vat.sir.93/Vat.sir.93_0837_fa_0415r.jp2/full/full/0/native.jpg\n",
      "starting to scrape folio 415 r...\n",
      "status problem: 404\n",
      "https://digi.vatlib.it/iiifimage/MSS_Vat.sir.93/Vat.sir.93_0838_fa_0415v.jp2/full/full/0/native.jpg\n",
      "starting to scrape folio 415 v...\n",
      "status problem: 404\n",
      "https://digi.vatlib.it/iiifimage/MSS_Vat.sir.93/Vat.sir.93_0839_fa_0416r.jp2/full/full/0/native.jpg\n",
      "starting to scrape folio 416 r...\n",
      "status problem: 404\n",
      "https://digi.vatlib.it/iiifimage/MSS_Vat.sir.93/Vat.sir.93_0840_fa_0416v.jp2/full/full/0/native.jpg\n",
      "starting to scrape folio 416 v...\n",
      "status problem: 404\n",
      "https://digi.vatlib.it/iiifimage/MSS_Vat.sir.93/Vat.sir.93_0841_fa_0417r.jp2/full/full/0/native.jpg\n",
      "starting to scrape folio 417 r...\n",
      "status problem: 404\n",
      "https://digi.vatlib.it/iiifimage/MSS_Vat.sir.93/Vat.sir.93_0842_fa_0417v.jp2/full/full/0/native.jpg\n",
      "starting to scrape folio 417 v...\n",
      "status problem: 404\n",
      "https://digi.vatlib.it/iiifimage/MSS_Vat.sir.93/Vat.sir.93_0843_fa_0418r.jp2/full/full/0/native.jpg\n",
      "starting to scrape folio 418 r...\n",
      "status problem: 404\n",
      "https://digi.vatlib.it/iiifimage/MSS_Vat.sir.93/Vat.sir.93_0844_fa_0418v.jp2/full/full/0/native.jpg\n",
      "starting to scrape folio 418 v...\n",
      "status problem: 404\n",
      "https://digi.vatlib.it/iiifimage/MSS_Vat.sir.93/Vat.sir.93_0845_fa_0419r.jp2/full/full/0/native.jpg\n",
      "starting to scrape folio 419 r...\n",
      "status problem: 404\n",
      "https://digi.vatlib.it/iiifimage/MSS_Vat.sir.93/Vat.sir.93_0846_fa_0419v.jp2/full/full/0/native.jpg\n",
      "starting to scrape folio 419 v...\n",
      "status problem: 404\n",
      "https://digi.vatlib.it/iiifimage/MSS_Vat.sir.93/Vat.sir.93_0847_fa_0420r.jp2/full/full/0/native.jpg\n",
      "starting to scrape folio 420 r...\n",
      "status problem: 404\n",
      "https://digi.vatlib.it/iiifimage/MSS_Vat.sir.93/Vat.sir.93_0848_fa_0420v.jp2/full/full/0/native.jpg\n",
      "starting to scrape folio 420 v...\n",
      "status problem: 404\n",
      "https://digi.vatlib.it/iiifimage/MSS_Vat.sir.93/Vat.sir.93_0849_fa_0421r.jp2/full/full/0/native.jpg\n",
      "starting to scrape folio 421 r...\n",
      "status problem: 404\n",
      "https://digi.vatlib.it/iiifimage/MSS_Vat.sir.93/Vat.sir.93_0850_fa_0421v.jp2/full/full/0/native.jpg\n",
      "starting to scrape folio 421 v...\n",
      "status problem: 404\n",
      "https://digi.vatlib.it/iiifimage/MSS_Vat.sir.93/Vat.sir.93_0851_fa_0422r.jp2/full/full/0/native.jpg\n",
      "starting to scrape folio 422 r...\n",
      "status problem: 404\n",
      "https://digi.vatlib.it/iiifimage/MSS_Vat.sir.93/Vat.sir.93_0852_fa_0422v.jp2/full/full/0/native.jpg\n",
      "starting to scrape folio 422 v...\n",
      "status problem: 404\n",
      "https://digi.vatlib.it/iiifimage/MSS_Vat.sir.93/Vat.sir.93_0853_fa_0423r.jp2/full/full/0/native.jpg\n",
      "starting to scrape folio 423 r...\n"
     ]
    },
    {
     "name": "stdout",
     "output_type": "stream",
     "text": [
      "status problem: 404\n",
      "https://digi.vatlib.it/iiifimage/MSS_Vat.sir.93/Vat.sir.93_0854_fa_0423v.jp2/full/full/0/native.jpg\n",
      "starting to scrape folio 423 v...\n",
      "status problem: 404\n",
      "https://digi.vatlib.it/iiifimage/MSS_Vat.sir.93/Vat.sir.93_0855_fa_0424r.jp2/full/full/0/native.jpg\n",
      "starting to scrape folio 424 r...\n",
      "status problem: 404\n",
      "https://digi.vatlib.it/iiifimage/MSS_Vat.sir.93/Vat.sir.93_0856_fa_0424v.jp2/full/full/0/native.jpg\n",
      "starting to scrape folio 424 v...\n",
      "status problem: 404\n",
      "https://digi.vatlib.it/iiifimage/MSS_Vat.sir.93/Vat.sir.93_0857_fa_0425r.jp2/full/full/0/native.jpg\n",
      "starting to scrape folio 425 r...\n",
      "status problem: 404\n",
      "https://digi.vatlib.it/iiifimage/MSS_Vat.sir.93/Vat.sir.93_0858_fa_0425v.jp2/full/full/0/native.jpg\n",
      "starting to scrape folio 425 v...\n",
      "status problem: 404\n",
      "https://digi.vatlib.it/iiifimage/MSS_Vat.sir.93/Vat.sir.93_0859_fa_0426r.jp2/full/full/0/native.jpg\n",
      "starting to scrape folio 426 r...\n",
      "status problem: 404\n",
      "https://digi.vatlib.it/iiifimage/MSS_Vat.sir.93/Vat.sir.93_0860_fa_0426v.jp2/full/full/0/native.jpg\n",
      "starting to scrape folio 426 v...\n",
      "status problem: 404\n",
      "https://digi.vatlib.it/iiifimage/MSS_Vat.sir.93/Vat.sir.93_0861_fa_0427r.jp2/full/full/0/native.jpg\n",
      "starting to scrape folio 427 r...\n",
      "status problem: 404\n",
      "https://digi.vatlib.it/iiifimage/MSS_Vat.sir.93/Vat.sir.93_0862_fa_0427v.jp2/full/full/0/native.jpg\n",
      "starting to scrape folio 427 v...\n",
      "status problem: 404\n",
      "https://digi.vatlib.it/iiifimage/MSS_Vat.sir.93/Vat.sir.93_0863_fa_0428r.jp2/full/full/0/native.jpg\n",
      "starting to scrape folio 428 r...\n",
      "status problem: 404\n",
      "https://digi.vatlib.it/iiifimage/MSS_Vat.sir.93/Vat.sir.93_0864_fa_0428v.jp2/full/full/0/native.jpg\n",
      "starting to scrape folio 428 v...\n",
      "status problem: 404\n",
      "https://digi.vatlib.it/iiifimage/MSS_Vat.sir.93/Vat.sir.93_0865_fa_0429r.jp2/full/full/0/native.jpg\n",
      "starting to scrape folio 429 r...\n",
      "status problem: 404\n",
      "https://digi.vatlib.it/iiifimage/MSS_Vat.sir.93/Vat.sir.93_0866_fa_0429v.jp2/full/full/0/native.jpg\n",
      "starting to scrape folio 429 v...\n",
      "status problem: 404\n",
      "https://digi.vatlib.it/iiifimage/MSS_Vat.sir.93/Vat.sir.93_0867_fa_0430r.jp2/full/full/0/native.jpg\n",
      "starting to scrape folio 430 r...\n",
      "status problem: 404\n",
      "https://digi.vatlib.it/iiifimage/MSS_Vat.sir.93/Vat.sir.93_0868_fa_0430v.jp2/full/full/0/native.jpg\n",
      "starting to scrape folio 430 v...\n",
      "status problem: 404\n",
      "https://digi.vatlib.it/iiifimage/MSS_Vat.sir.93/Vat.sir.93_0869_fa_0431r.jp2/full/full/0/native.jpg\n",
      "starting to scrape folio 431 r...\n",
      "status problem: 404\n",
      "https://digi.vatlib.it/iiifimage/MSS_Vat.sir.93/Vat.sir.93_0870_fa_0431v.jp2/full/full/0/native.jpg\n",
      "starting to scrape folio 431 v...\n",
      "status problem: 404\n",
      "https://digi.vatlib.it/iiifimage/MSS_Vat.sir.93/Vat.sir.93_0871_fa_0432r.jp2/full/full/0/native.jpg\n",
      "starting to scrape folio 432 r...\n",
      "status problem: 404\n",
      "https://digi.vatlib.it/iiifimage/MSS_Vat.sir.93/Vat.sir.93_0872_fa_0432v.jp2/full/full/0/native.jpg\n",
      "starting to scrape folio 432 v...\n",
      "status problem: 404\n",
      "https://digi.vatlib.it/iiifimage/MSS_Vat.sir.93/Vat.sir.93_0873_fa_0433r.jp2/full/full/0/native.jpg\n",
      "starting to scrape folio 433 r...\n",
      "status problem: 404\n",
      "https://digi.vatlib.it/iiifimage/MSS_Vat.sir.93/Vat.sir.93_0874_fa_0433v.jp2/full/full/0/native.jpg\n",
      "starting to scrape folio 433 v...\n",
      "status problem: 404\n",
      "https://digi.vatlib.it/iiifimage/MSS_Vat.sir.93/Vat.sir.93_0875_fa_0434r.jp2/full/full/0/native.jpg\n",
      "starting to scrape folio 434 r...\n",
      "status problem: 404\n",
      "https://digi.vatlib.it/iiifimage/MSS_Vat.sir.93/Vat.sir.93_0876_fa_0434v.jp2/full/full/0/native.jpg\n",
      "starting to scrape folio 434 v...\n",
      "status problem: 404\n",
      "https://digi.vatlib.it/iiifimage/MSS_Vat.sir.93/Vat.sir.93_0877_fa_0435r.jp2/full/full/0/native.jpg\n",
      "starting to scrape folio 435 r...\n",
      "status problem: 404\n",
      "https://digi.vatlib.it/iiifimage/MSS_Vat.sir.93/Vat.sir.93_0878_fa_0435v.jp2/full/full/0/native.jpg\n",
      "starting to scrape folio 435 v...\n",
      "status problem: 404\n",
      "https://digi.vatlib.it/iiifimage/MSS_Vat.sir.93/Vat.sir.93_0879_fa_0436r.jp2/full/full/0/native.jpg\n",
      "starting to scrape folio 436 r...\n",
      "status problem: 404\n",
      "https://digi.vatlib.it/iiifimage/MSS_Vat.sir.93/Vat.sir.93_0880_fa_0436v.jp2/full/full/0/native.jpg\n",
      "starting to scrape folio 436 v...\n",
      "status problem: 404\n",
      "https://digi.vatlib.it/iiifimage/MSS_Vat.sir.93/Vat.sir.93_0881_fa_0437r.jp2/full/full/0/native.jpg\n",
      "starting to scrape folio 437 r...\n",
      "status problem: 404\n",
      "https://digi.vatlib.it/iiifimage/MSS_Vat.sir.93/Vat.sir.93_0882_fa_0437v.jp2/full/full/0/native.jpg\n",
      "starting to scrape folio 437 v...\n",
      "status problem: 404\n",
      "https://digi.vatlib.it/iiifimage/MSS_Vat.sir.93/Vat.sir.93_0883_fa_0438r.jp2/full/full/0/native.jpg\n",
      "starting to scrape folio 438 r...\n",
      "status problem: 404\n",
      "https://digi.vatlib.it/iiifimage/MSS_Vat.sir.93/Vat.sir.93_0884_fa_0438v.jp2/full/full/0/native.jpg\n",
      "starting to scrape folio 438 v...\n",
      "status problem: 404\n",
      "https://digi.vatlib.it/iiifimage/MSS_Vat.sir.93/Vat.sir.93_0885_fa_0439r.jp2/full/full/0/native.jpg\n",
      "starting to scrape folio 439 r...\n",
      "status problem: 404\n",
      "https://digi.vatlib.it/iiifimage/MSS_Vat.sir.93/Vat.sir.93_0886_fa_0439v.jp2/full/full/0/native.jpg\n",
      "starting to scrape folio 439 v...\n",
      "status problem: 404\n",
      "https://digi.vatlib.it/iiifimage/MSS_Vat.sir.93/Vat.sir.93_0887_fa_0440r.jp2/full/full/0/native.jpg\n",
      "starting to scrape folio 440 r...\n",
      "status problem: 404\n",
      "https://digi.vatlib.it/iiifimage/MSS_Vat.sir.93/Vat.sir.93_0888_fa_0440v.jp2/full/full/0/native.jpg\n",
      "starting to scrape folio 440 v...\n",
      "status problem: 404\n",
      "https://digi.vatlib.it/iiifimage/MSS_Vat.sir.93/Vat.sir.93_0889_fa_0441r.jp2/full/full/0/native.jpg\n",
      "starting to scrape folio 441 r...\n",
      "status problem: 404\n",
      "https://digi.vatlib.it/iiifimage/MSS_Vat.sir.93/Vat.sir.93_0890_fa_0441v.jp2/full/full/0/native.jpg\n",
      "starting to scrape folio 441 v...\n",
      "status problem: 404\n",
      "https://digi.vatlib.it/iiifimage/MSS_Vat.sir.93/Vat.sir.93_0891_fa_0442r.jp2/full/full/0/native.jpg\n",
      "starting to scrape folio 442 r...\n",
      "status problem: 404\n",
      "https://digi.vatlib.it/iiifimage/MSS_Vat.sir.93/Vat.sir.93_0892_fa_0442v.jp2/full/full/0/native.jpg\n",
      "starting to scrape folio 442 v...\n",
      "status problem: 404\n",
      "https://digi.vatlib.it/iiifimage/MSS_Vat.sir.93/Vat.sir.93_0893_fa_0443r.jp2/full/full/0/native.jpg\n",
      "starting to scrape folio 443 r...\n",
      "status problem: 404\n",
      "https://digi.vatlib.it/iiifimage/MSS_Vat.sir.93/Vat.sir.93_0894_fa_0443v.jp2/full/full/0/native.jpg\n",
      "starting to scrape folio 443 v...\n",
      "status problem: 404\n",
      "https://digi.vatlib.it/iiifimage/MSS_Vat.sir.93/Vat.sir.93_0895_fa_0444r.jp2/full/full/0/native.jpg\n",
      "starting to scrape folio 444 r...\n",
      "status problem: 404\n",
      "https://digi.vatlib.it/iiifimage/MSS_Vat.sir.93/Vat.sir.93_0896_fa_0444v.jp2/full/full/0/native.jpg\n",
      "starting to scrape folio 444 v...\n",
      "status problem: 404\n",
      "https://digi.vatlib.it/iiifimage/MSS_Vat.sir.93/Vat.sir.93_0897_fa_0445r.jp2/full/full/0/native.jpg\n",
      "starting to scrape folio 445 r...\n",
      "status problem: 404\n",
      "https://digi.vatlib.it/iiifimage/MSS_Vat.sir.93/Vat.sir.93_0898_fa_0445v.jp2/full/full/0/native.jpg\n",
      "starting to scrape folio 445 v...\n",
      "status problem: 404\n",
      "https://digi.vatlib.it/iiifimage/MSS_Vat.sir.93/Vat.sir.93_0899_fa_0446r.jp2/full/full/0/native.jpg\n",
      "starting to scrape folio 446 r...\n",
      "status problem: 404\n",
      "https://digi.vatlib.it/iiifimage/MSS_Vat.sir.93/Vat.sir.93_0900_fa_0446v.jp2/full/full/0/native.jpg\n",
      "starting to scrape folio 446 v...\n",
      "status problem: 404\n",
      "https://digi.vatlib.it/iiifimage/MSS_Vat.sir.93/Vat.sir.93_0901_fa_0447r.jp2/full/full/0/native.jpg\n",
      "starting to scrape folio 447 r...\n",
      "status problem: 404\n",
      "https://digi.vatlib.it/iiifimage/MSS_Vat.sir.93/Vat.sir.93_0902_fa_0447v.jp2/full/full/0/native.jpg\n",
      "starting to scrape folio 447 v...\n",
      "status problem: 404\n",
      "https://digi.vatlib.it/iiifimage/MSS_Vat.sir.93/Vat.sir.93_0903_fa_0448r.jp2/full/full/0/native.jpg\n",
      "starting to scrape folio 448 r...\n",
      "status problem: 404\n",
      "https://digi.vatlib.it/iiifimage/MSS_Vat.sir.93/Vat.sir.93_0904_fa_0448v.jp2/full/full/0/native.jpg\n",
      "starting to scrape folio 448 v...\n",
      "status problem: 404\n",
      "https://digi.vatlib.it/iiifimage/MSS_Vat.sir.93/Vat.sir.93_0905_fa_0449r.jp2/full/full/0/native.jpg\n",
      "starting to scrape folio 449 r...\n",
      "status problem: 404\n",
      "https://digi.vatlib.it/iiifimage/MSS_Vat.sir.93/Vat.sir.93_0906_fa_0449v.jp2/full/full/0/native.jpg\n",
      "starting to scrape folio 449 v...\n",
      "status problem: 404\n",
      "https://digi.vatlib.it/iiifimage/MSS_Vat.sir.93/Vat.sir.93_0907_fa_0450r.jp2/full/full/0/native.jpg\n",
      "starting to scrape folio 450 r...\n"
     ]
    },
    {
     "name": "stdout",
     "output_type": "stream",
     "text": [
      "status problem: 404\n",
      "https://digi.vatlib.it/iiifimage/MSS_Vat.sir.93/Vat.sir.93_0908_fa_0450v.jp2/full/full/0/native.jpg\n",
      "starting to scrape folio 450 v...\n",
      "status problem: 404\n",
      "https://digi.vatlib.it/iiifimage/MSS_Vat.sir.93/Vat.sir.93_0909_fa_0451r.jp2/full/full/0/native.jpg\n",
      "starting to scrape folio 451 r...\n",
      "status problem: 404\n",
      "https://digi.vatlib.it/iiifimage/MSS_Vat.sir.93/Vat.sir.93_0910_fa_0451v.jp2/full/full/0/native.jpg\n",
      "starting to scrape folio 451 v...\n",
      "status problem: 404\n",
      "https://digi.vatlib.it/iiifimage/MSS_Vat.sir.93/Vat.sir.93_0911_fa_0452r.jp2/full/full/0/native.jpg\n",
      "starting to scrape folio 452 r...\n",
      "status problem: 404\n",
      "https://digi.vatlib.it/iiifimage/MSS_Vat.sir.93/Vat.sir.93_0912_fa_0452v.jp2/full/full/0/native.jpg\n",
      "starting to scrape folio 452 v...\n",
      "status problem: 404\n",
      "https://digi.vatlib.it/iiifimage/MSS_Vat.sir.93/Vat.sir.93_0913_fa_0453r.jp2/full/full/0/native.jpg\n",
      "starting to scrape folio 453 r...\n",
      "status problem: 404\n",
      "https://digi.vatlib.it/iiifimage/MSS_Vat.sir.93/Vat.sir.93_0914_fa_0453v.jp2/full/full/0/native.jpg\n",
      "starting to scrape folio 453 v...\n",
      "status problem: 404\n",
      "https://digi.vatlib.it/iiifimage/MSS_Vat.sir.93/Vat.sir.93_0915_fa_0454r.jp2/full/full/0/native.jpg\n",
      "starting to scrape folio 454 r...\n",
      "status problem: 404\n",
      "https://digi.vatlib.it/iiifimage/MSS_Vat.sir.93/Vat.sir.93_0916_fa_0454v.jp2/full/full/0/native.jpg\n",
      "starting to scrape folio 454 v...\n",
      "status problem: 404\n",
      "https://digi.vatlib.it/iiifimage/MSS_Vat.sir.93/Vat.sir.93_0917_fa_0455r.jp2/full/full/0/native.jpg\n",
      "starting to scrape folio 455 r...\n",
      "status problem: 404\n",
      "https://digi.vatlib.it/iiifimage/MSS_Vat.sir.93/Vat.sir.93_0918_fa_0455v.jp2/full/full/0/native.jpg\n",
      "starting to scrape folio 455 v...\n",
      "status problem: 404\n",
      "https://digi.vatlib.it/iiifimage/MSS_Vat.sir.93/Vat.sir.93_0919_fa_0456r.jp2/full/full/0/native.jpg\n",
      "starting to scrape folio 456 r...\n",
      "status problem: 404\n",
      "https://digi.vatlib.it/iiifimage/MSS_Vat.sir.93/Vat.sir.93_0920_fa_0456v.jp2/full/full/0/native.jpg\n",
      "starting to scrape folio 456 v...\n",
      "status problem: 404\n",
      "https://digi.vatlib.it/iiifimage/MSS_Vat.sir.93/Vat.sir.93_0921_fa_0457r.jp2/full/full/0/native.jpg\n",
      "starting to scrape folio 457 r...\n",
      "status problem: 404\n",
      "https://digi.vatlib.it/iiifimage/MSS_Vat.sir.93/Vat.sir.93_0922_fa_0457v.jp2/full/full/0/native.jpg\n",
      "starting to scrape folio 457 v...\n",
      "status problem: 404\n",
      "https://digi.vatlib.it/iiifimage/MSS_Vat.sir.93/Vat.sir.93_0923_fa_0458r.jp2/full/full/0/native.jpg\n",
      "starting to scrape folio 458 r...\n",
      "status problem: 404\n",
      "https://digi.vatlib.it/iiifimage/MSS_Vat.sir.93/Vat.sir.93_0924_fa_0458v.jp2/full/full/0/native.jpg\n",
      "starting to scrape folio 458 v...\n",
      "status problem: 404\n",
      "https://digi.vatlib.it/iiifimage/MSS_Vat.sir.93/Vat.sir.93_0925_fa_0459r.jp2/full/full/0/native.jpg\n",
      "starting to scrape folio 459 r...\n",
      "status problem: 404\n",
      "https://digi.vatlib.it/iiifimage/MSS_Vat.sir.93/Vat.sir.93_0926_fa_0459v.jp2/full/full/0/native.jpg\n",
      "starting to scrape folio 459 v...\n",
      "status problem: 404\n",
      "https://digi.vatlib.it/iiifimage/MSS_Vat.sir.93/Vat.sir.93_0927_fa_0460r.jp2/full/full/0/native.jpg\n",
      "starting to scrape folio 460 r...\n",
      "status problem: 404\n",
      "https://digi.vatlib.it/iiifimage/MSS_Vat.sir.93/Vat.sir.93_0928_fa_0460v.jp2/full/full/0/native.jpg\n",
      "starting to scrape folio 460 v...\n",
      "status problem: 404\n",
      "https://digi.vatlib.it/iiifimage/MSS_Vat.sir.93/Vat.sir.93_0929_fa_0461r.jp2/full/full/0/native.jpg\n",
      "starting to scrape folio 461 r...\n",
      "status problem: 404\n",
      "https://digi.vatlib.it/iiifimage/MSS_Vat.sir.93/Vat.sir.93_0930_fa_0461v.jp2/full/full/0/native.jpg\n",
      "starting to scrape folio 461 v...\n",
      "status problem: 404\n",
      "https://digi.vatlib.it/iiifimage/MSS_Vat.sir.93/Vat.sir.93_0931_fa_0462r.jp2/full/full/0/native.jpg\n",
      "starting to scrape folio 462 r...\n",
      "status problem: 404\n",
      "https://digi.vatlib.it/iiifimage/MSS_Vat.sir.93/Vat.sir.93_0932_fa_0462v.jp2/full/full/0/native.jpg\n",
      "starting to scrape folio 462 v...\n",
      "status problem: 404\n",
      "https://digi.vatlib.it/iiifimage/MSS_Vat.sir.93/Vat.sir.93_0933_fa_0463r.jp2/full/full/0/native.jpg\n",
      "starting to scrape folio 463 r...\n",
      "status problem: 404\n",
      "https://digi.vatlib.it/iiifimage/MSS_Vat.sir.93/Vat.sir.93_0934_fa_0463v.jp2/full/full/0/native.jpg\n",
      "starting to scrape folio 463 v...\n",
      "status problem: 404\n",
      "https://digi.vatlib.it/iiifimage/MSS_Vat.sir.93/Vat.sir.93_0935_fa_0464r.jp2/full/full/0/native.jpg\n",
      "starting to scrape folio 464 r...\n",
      "status problem: 404\n",
      "https://digi.vatlib.it/iiifimage/MSS_Vat.sir.93/Vat.sir.93_0936_fa_0464v.jp2/full/full/0/native.jpg\n",
      "starting to scrape folio 464 v...\n",
      "status problem: 404\n",
      "https://digi.vatlib.it/iiifimage/MSS_Vat.sir.93/Vat.sir.93_0937_fa_0465r.jp2/full/full/0/native.jpg\n",
      "starting to scrape folio 465 r...\n",
      "status problem: 404\n",
      "https://digi.vatlib.it/iiifimage/MSS_Vat.sir.93/Vat.sir.93_0938_fa_0465v.jp2/full/full/0/native.jpg\n",
      "starting to scrape folio 465 v...\n",
      "status problem: 404\n",
      "https://digi.vatlib.it/iiifimage/MSS_Vat.sir.93/Vat.sir.93_0939_fa_0466r.jp2/full/full/0/native.jpg\n",
      "starting to scrape folio 466 r...\n",
      "status problem: 404\n",
      "https://digi.vatlib.it/iiifimage/MSS_Vat.sir.93/Vat.sir.93_0940_fa_0466v.jp2/full/full/0/native.jpg\n",
      "starting to scrape folio 466 v...\n",
      "status problem: 404\n",
      "https://digi.vatlib.it/iiifimage/MSS_Vat.sir.93/Vat.sir.93_0941_fa_0467r.jp2/full/full/0/native.jpg\n",
      "starting to scrape folio 467 r...\n",
      "status problem: 404\n",
      "https://digi.vatlib.it/iiifimage/MSS_Vat.sir.93/Vat.sir.93_0942_fa_0467v.jp2/full/full/0/native.jpg\n",
      "starting to scrape folio 467 v...\n",
      "status problem: 404\n",
      "https://digi.vatlib.it/iiifimage/MSS_Vat.sir.93/Vat.sir.93_0943_fa_0468r.jp2/full/full/0/native.jpg\n",
      "starting to scrape folio 468 r...\n",
      "status problem: 404\n",
      "https://digi.vatlib.it/iiifimage/MSS_Vat.sir.93/Vat.sir.93_0944_fa_0468v.jp2/full/full/0/native.jpg\n",
      "starting to scrape folio 468 v...\n",
      "status problem: 404\n",
      "https://digi.vatlib.it/iiifimage/MSS_Vat.sir.93/Vat.sir.93_0945_fa_0469r.jp2/full/full/0/native.jpg\n",
      "starting to scrape folio 469 r...\n",
      "status problem: 404\n",
      "https://digi.vatlib.it/iiifimage/MSS_Vat.sir.93/Vat.sir.93_0946_fa_0469v.jp2/full/full/0/native.jpg\n",
      "starting to scrape folio 469 v...\n",
      "status problem: 404\n",
      "https://digi.vatlib.it/iiifimage/MSS_Vat.sir.93/Vat.sir.93_0947_fa_0470r.jp2/full/full/0/native.jpg\n",
      "starting to scrape folio 470 r...\n",
      "status problem: 404\n",
      "https://digi.vatlib.it/iiifimage/MSS_Vat.sir.93/Vat.sir.93_0948_fa_0470v.jp2/full/full/0/native.jpg\n",
      "starting to scrape folio 470 v...\n",
      "status problem: 404\n",
      "https://digi.vatlib.it/iiifimage/MSS_Vat.sir.93/Vat.sir.93_0949_fa_0471r.jp2/full/full/0/native.jpg\n",
      "starting to scrape folio 471 r...\n",
      "status problem: 404\n",
      "https://digi.vatlib.it/iiifimage/MSS_Vat.sir.93/Vat.sir.93_0950_fa_0471v.jp2/full/full/0/native.jpg\n",
      "starting to scrape folio 471 v...\n",
      "status problem: 404\n",
      "https://digi.vatlib.it/iiifimage/MSS_Vat.sir.93/Vat.sir.93_0951_fa_0472r.jp2/full/full/0/native.jpg\n",
      "starting to scrape folio 472 r...\n",
      "status problem: 404\n",
      "https://digi.vatlib.it/iiifimage/MSS_Vat.sir.93/Vat.sir.93_0952_fa_0472v.jp2/full/full/0/native.jpg\n",
      "starting to scrape folio 472 v...\n",
      "status problem: 404\n",
      "https://digi.vatlib.it/iiifimage/MSS_Vat.sir.93/Vat.sir.93_0953_fa_0473r.jp2/full/full/0/native.jpg\n",
      "starting to scrape folio 473 r...\n",
      "status problem: 404\n",
      "https://digi.vatlib.it/iiifimage/MSS_Vat.sir.93/Vat.sir.93_0954_fa_0473v.jp2/full/full/0/native.jpg\n",
      "starting to scrape folio 473 v...\n",
      "status problem: 404\n",
      "https://digi.vatlib.it/iiifimage/MSS_Vat.sir.93/Vat.sir.93_0955_fa_0474r.jp2/full/full/0/native.jpg\n",
      "starting to scrape folio 474 r...\n",
      "status problem: 404\n",
      "https://digi.vatlib.it/iiifimage/MSS_Vat.sir.93/Vat.sir.93_0956_fa_0474v.jp2/full/full/0/native.jpg\n",
      "starting to scrape folio 474 v...\n",
      "status problem: 404\n",
      "https://digi.vatlib.it/iiifimage/MSS_Vat.sir.93/Vat.sir.93_0957_fa_0475r.jp2/full/full/0/native.jpg\n",
      "starting to scrape folio 475 r...\n",
      "status problem: 404\n",
      "https://digi.vatlib.it/iiifimage/MSS_Vat.sir.93/Vat.sir.93_0958_fa_0475v.jp2/full/full/0/native.jpg\n",
      "starting to scrape folio 475 v...\n",
      "status problem: 404\n",
      "https://digi.vatlib.it/iiifimage/MSS_Vat.sir.93/Vat.sir.93_0959_fa_0476r.jp2/full/full/0/native.jpg\n",
      "starting to scrape folio 476 r...\n",
      "status problem: 404\n",
      "https://digi.vatlib.it/iiifimage/MSS_Vat.sir.93/Vat.sir.93_0960_fa_0476v.jp2/full/full/0/native.jpg\n",
      "starting to scrape folio 476 v...\n",
      "status problem: 404\n",
      "https://digi.vatlib.it/iiifimage/MSS_Vat.sir.93/Vat.sir.93_0961_fa_0477r.jp2/full/full/0/native.jpg\n",
      "starting to scrape folio 477 r...\n",
      "status problem: 404\n",
      "https://digi.vatlib.it/iiifimage/MSS_Vat.sir.93/Vat.sir.93_0962_fa_0477v.jp2/full/full/0/native.jpg\n",
      "starting to scrape folio 477 v...\n"
     ]
    },
    {
     "name": "stdout",
     "output_type": "stream",
     "text": [
      "status problem: 404\n",
      "https://digi.vatlib.it/iiifimage/MSS_Vat.sir.93/Vat.sir.93_0963_fa_0478r.jp2/full/full/0/native.jpg\n",
      "starting to scrape folio 478 r...\n",
      "status problem: 404\n",
      "https://digi.vatlib.it/iiifimage/MSS_Vat.sir.93/Vat.sir.93_0964_fa_0478v.jp2/full/full/0/native.jpg\n",
      "starting to scrape folio 478 v...\n",
      "status problem: 404\n",
      "https://digi.vatlib.it/iiifimage/MSS_Vat.sir.93/Vat.sir.93_0965_fa_0479r.jp2/full/full/0/native.jpg\n",
      "starting to scrape folio 479 r...\n",
      "status problem: 404\n",
      "https://digi.vatlib.it/iiifimage/MSS_Vat.sir.93/Vat.sir.93_0966_fa_0479v.jp2/full/full/0/native.jpg\n",
      "starting to scrape folio 479 v...\n",
      "status problem: 404\n",
      "https://digi.vatlib.it/iiifimage/MSS_Vat.sir.93/Vat.sir.93_0967_fa_0480r.jp2/full/full/0/native.jpg\n",
      "starting to scrape folio 480 r...\n",
      "status problem: 404\n",
      "https://digi.vatlib.it/iiifimage/MSS_Vat.sir.93/Vat.sir.93_0968_fa_0480v.jp2/full/full/0/native.jpg\n",
      "starting to scrape folio 480 v...\n",
      "status problem: 404\n",
      "https://digi.vatlib.it/iiifimage/MSS_Vat.sir.93/Vat.sir.93_0969_fa_0481r.jp2/full/full/0/native.jpg\n",
      "starting to scrape folio 481 r...\n",
      "status problem: 404\n",
      "https://digi.vatlib.it/iiifimage/MSS_Vat.sir.93/Vat.sir.93_0970_fa_0481v.jp2/full/full/0/native.jpg\n",
      "starting to scrape folio 481 v...\n",
      "status problem: 404\n",
      "https://digi.vatlib.it/iiifimage/MSS_Vat.sir.93/Vat.sir.93_0971_fa_0482r.jp2/full/full/0/native.jpg\n",
      "starting to scrape folio 482 r...\n",
      "status problem: 404\n",
      "https://digi.vatlib.it/iiifimage/MSS_Vat.sir.93/Vat.sir.93_0972_fa_0482v.jp2/full/full/0/native.jpg\n",
      "starting to scrape folio 482 v...\n",
      "status problem: 404\n",
      "https://digi.vatlib.it/iiifimage/MSS_Vat.sir.93/Vat.sir.93_0973_fa_0483r.jp2/full/full/0/native.jpg\n",
      "starting to scrape folio 483 r...\n",
      "status problem: 404\n",
      "https://digi.vatlib.it/iiifimage/MSS_Vat.sir.93/Vat.sir.93_0974_fa_0483v.jp2/full/full/0/native.jpg\n",
      "starting to scrape folio 483 v...\n",
      "status problem: 404\n",
      "https://digi.vatlib.it/iiifimage/MSS_Vat.sir.93/Vat.sir.93_0975_fa_0484r.jp2/full/full/0/native.jpg\n",
      "starting to scrape folio 484 r...\n",
      "status problem: 404\n",
      "https://digi.vatlib.it/iiifimage/MSS_Vat.sir.93/Vat.sir.93_0976_fa_0484v.jp2/full/full/0/native.jpg\n",
      "starting to scrape folio 484 v...\n",
      "status problem: 404\n",
      "https://digi.vatlib.it/iiifimage/MSS_Vat.sir.93/Vat.sir.93_0977_fa_0485r.jp2/full/full/0/native.jpg\n",
      "starting to scrape folio 485 r...\n",
      "status problem: 404\n",
      "https://digi.vatlib.it/iiifimage/MSS_Vat.sir.93/Vat.sir.93_0978_fa_0485v.jp2/full/full/0/native.jpg\n",
      "starting to scrape folio 485 v...\n",
      "status problem: 404\n",
      "https://digi.vatlib.it/iiifimage/MSS_Vat.sir.93/Vat.sir.93_0979_fa_0486r.jp2/full/full/0/native.jpg\n",
      "starting to scrape folio 486 r...\n",
      "status problem: 404\n",
      "https://digi.vatlib.it/iiifimage/MSS_Vat.sir.93/Vat.sir.93_0980_fa_0486v.jp2/full/full/0/native.jpg\n",
      "starting to scrape folio 486 v...\n",
      "status problem: 404\n",
      "https://digi.vatlib.it/iiifimage/MSS_Vat.sir.93/Vat.sir.93_0981_fa_0487r.jp2/full/full/0/native.jpg\n",
      "starting to scrape folio 487 r...\n",
      "status problem: 404\n",
      "https://digi.vatlib.it/iiifimage/MSS_Vat.sir.93/Vat.sir.93_0982_fa_0487v.jp2/full/full/0/native.jpg\n",
      "starting to scrape folio 487 v...\n",
      "status problem: 404\n",
      "https://digi.vatlib.it/iiifimage/MSS_Vat.sir.93/Vat.sir.93_0983_fa_0488r.jp2/full/full/0/native.jpg\n",
      "starting to scrape folio 488 r...\n",
      "status problem: 404\n",
      "https://digi.vatlib.it/iiifimage/MSS_Vat.sir.93/Vat.sir.93_0984_fa_0488v.jp2/full/full/0/native.jpg\n",
      "starting to scrape folio 488 v...\n",
      "status problem: 404\n",
      "https://digi.vatlib.it/iiifimage/MSS_Vat.sir.93/Vat.sir.93_0985_fa_0489r.jp2/full/full/0/native.jpg\n",
      "starting to scrape folio 489 r...\n",
      "status problem: 404\n",
      "https://digi.vatlib.it/iiifimage/MSS_Vat.sir.93/Vat.sir.93_0986_fa_0489v.jp2/full/full/0/native.jpg\n",
      "starting to scrape folio 489 v...\n",
      "status problem: 404\n",
      "https://digi.vatlib.it/iiifimage/MSS_Vat.sir.93/Vat.sir.93_0987_fa_0490r.jp2/full/full/0/native.jpg\n",
      "starting to scrape folio 490 r...\n",
      "status problem: 404\n",
      "https://digi.vatlib.it/iiifimage/MSS_Vat.sir.93/Vat.sir.93_0988_fa_0490v.jp2/full/full/0/native.jpg\n",
      "starting to scrape folio 490 v...\n",
      "status problem: 404\n",
      "https://digi.vatlib.it/iiifimage/MSS_Vat.sir.93/Vat.sir.93_0989_fa_0491r.jp2/full/full/0/native.jpg\n",
      "starting to scrape folio 491 r...\n",
      "status problem: 404\n",
      "https://digi.vatlib.it/iiifimage/MSS_Vat.sir.93/Vat.sir.93_0990_fa_0491v.jp2/full/full/0/native.jpg\n",
      "starting to scrape folio 491 v...\n",
      "status problem: 404\n",
      "https://digi.vatlib.it/iiifimage/MSS_Vat.sir.93/Vat.sir.93_0991_fa_0492r.jp2/full/full/0/native.jpg\n",
      "starting to scrape folio 492 r...\n",
      "status problem: 404\n",
      "https://digi.vatlib.it/iiifimage/MSS_Vat.sir.93/Vat.sir.93_0992_fa_0492v.jp2/full/full/0/native.jpg\n",
      "starting to scrape folio 492 v...\n",
      "status problem: 404\n",
      "https://digi.vatlib.it/iiifimage/MSS_Vat.sir.93/Vat.sir.93_0993_fa_0493r.jp2/full/full/0/native.jpg\n",
      "starting to scrape folio 493 r...\n",
      "status problem: 404\n",
      "https://digi.vatlib.it/iiifimage/MSS_Vat.sir.93/Vat.sir.93_0994_fa_0493v.jp2/full/full/0/native.jpg\n",
      "starting to scrape folio 493 v...\n",
      "status problem: 404\n",
      "https://digi.vatlib.it/iiifimage/MSS_Vat.sir.93/Vat.sir.93_0995_fa_0494r.jp2/full/full/0/native.jpg\n",
      "starting to scrape folio 494 r...\n",
      "status problem: 404\n",
      "https://digi.vatlib.it/iiifimage/MSS_Vat.sir.93/Vat.sir.93_0996_fa_0494v.jp2/full/full/0/native.jpg\n",
      "starting to scrape folio 494 v...\n",
      "status problem: 404\n",
      "https://digi.vatlib.it/iiifimage/MSS_Vat.sir.93/Vat.sir.93_0997_fa_0495r.jp2/full/full/0/native.jpg\n",
      "starting to scrape folio 495 r...\n",
      "status problem: 404\n",
      "https://digi.vatlib.it/iiifimage/MSS_Vat.sir.93/Vat.sir.93_0998_fa_0495v.jp2/full/full/0/native.jpg\n",
      "starting to scrape folio 495 v...\n",
      "status problem: 404\n",
      "https://digi.vatlib.it/iiifimage/MSS_Vat.sir.93/Vat.sir.93_0999_fa_0496r.jp2/full/full/0/native.jpg\n",
      "starting to scrape folio 496 r...\n",
      "status problem: 404\n",
      "https://digi.vatlib.it/iiifimage/MSS_Vat.sir.93/Vat.sir.93_1000_fa_0496v.jp2/full/full/0/native.jpg\n",
      "starting to scrape folio 496 v...\n",
      "status problem: 404\n",
      "https://digi.vatlib.it/iiifimage/MSS_Vat.sir.93/Vat.sir.93_1001_fa_0497r.jp2/full/full/0/native.jpg\n",
      "starting to scrape folio 497 r...\n",
      "status problem: 404\n",
      "https://digi.vatlib.it/iiifimage/MSS_Vat.sir.93/Vat.sir.93_1002_fa_0497v.jp2/full/full/0/native.jpg\n",
      "starting to scrape folio 497 v...\n",
      "status problem: 404\n",
      "https://digi.vatlib.it/iiifimage/MSS_Vat.sir.93/Vat.sir.93_1003_fa_0498r.jp2/full/full/0/native.jpg\n",
      "starting to scrape folio 498 r...\n",
      "status problem: 404\n",
      "https://digi.vatlib.it/iiifimage/MSS_Vat.sir.93/Vat.sir.93_1004_fa_0498v.jp2/full/full/0/native.jpg\n",
      "starting to scrape folio 498 v...\n",
      "status problem: 404\n",
      "https://digi.vatlib.it/iiifimage/MSS_Vat.sir.93/Vat.sir.93_1005_fa_0499r.jp2/full/full/0/native.jpg\n",
      "starting to scrape folio 499 r...\n",
      "status problem: 404\n",
      "https://digi.vatlib.it/iiifimage/MSS_Vat.sir.93/Vat.sir.93_1006_fa_0499v.jp2/full/full/0/native.jpg\n",
      "starting to scrape folio 499 v...\n",
      "status problem: 404\n",
      "https://digi.vatlib.it/iiifimage/MSS_Vat.sir.93/Vat.sir.93_1007_fa_0500r.jp2/full/full/0/native.jpg\n",
      "starting to scrape folio 500 r...\n",
      "status problem: 404\n",
      "https://digi.vatlib.it/iiifimage/MSS_Vat.sir.93/Vat.sir.93_1008_fa_0500v.jp2/full/full/0/native.jpg\n",
      "starting to scrape folio 500 v...\n",
      "status problem: 404\n",
      "https://digi.vatlib.it/iiifimage/MSS_Vat.sir.93/Vat.sir.93_1009_fa_0501r.jp2/full/full/0/native.jpg\n",
      "starting to scrape folio 501 r...\n",
      "status problem: 404\n",
      "https://digi.vatlib.it/iiifimage/MSS_Vat.sir.93/Vat.sir.93_1010_fa_0501v.jp2/full/full/0/native.jpg\n",
      "starting to scrape folio 501 v...\n",
      "status problem: 404\n",
      "https://digi.vatlib.it/iiifimage/MSS_Vat.sir.93/Vat.sir.93_1011_fa_0502r.jp2/full/full/0/native.jpg\n",
      "starting to scrape folio 502 r...\n",
      "status problem: 404\n",
      "https://digi.vatlib.it/iiifimage/MSS_Vat.sir.93/Vat.sir.93_1012_fa_0502v.jp2/full/full/0/native.jpg\n",
      "starting to scrape folio 502 v...\n",
      "status problem: 404\n",
      "https://digi.vatlib.it/iiifimage/MSS_Vat.sir.93/Vat.sir.93_1013_fa_0503r.jp2/full/full/0/native.jpg\n",
      "starting to scrape folio 503 r...\n",
      "status problem: 404\n",
      "https://digi.vatlib.it/iiifimage/MSS_Vat.sir.93/Vat.sir.93_1014_fa_0503v.jp2/full/full/0/native.jpg\n",
      "starting to scrape folio 503 v...\n",
      "status problem: 404\n",
      "https://digi.vatlib.it/iiifimage/MSS_Vat.sir.93/Vat.sir.93_1015_fa_0504r.jp2/full/full/0/native.jpg\n",
      "starting to scrape folio 504 r...\n",
      "status problem: 404\n",
      "https://digi.vatlib.it/iiifimage/MSS_Vat.sir.93/Vat.sir.93_1016_fa_0504v.jp2/full/full/0/native.jpg\n",
      "starting to scrape folio 504 v...\n"
     ]
    },
    {
     "name": "stdout",
     "output_type": "stream",
     "text": [
      "status problem: 404\n",
      "https://digi.vatlib.it/iiifimage/MSS_Vat.sir.93/Vat.sir.93_1017_fa_0505r.jp2/full/full/0/native.jpg\n",
      "starting to scrape folio 505 r...\n",
      "status problem: 404\n",
      "https://digi.vatlib.it/iiifimage/MSS_Vat.sir.93/Vat.sir.93_1018_fa_0505v.jp2/full/full/0/native.jpg\n",
      "starting to scrape folio 505 v...\n",
      "status problem: 404\n",
      "https://digi.vatlib.it/iiifimage/MSS_Vat.sir.93/Vat.sir.93_1019_fa_0506r.jp2/full/full/0/native.jpg\n",
      "starting to scrape folio 506 r...\n",
      "status problem: 404\n",
      "https://digi.vatlib.it/iiifimage/MSS_Vat.sir.93/Vat.sir.93_1020_fa_0506v.jp2/full/full/0/native.jpg\n",
      "starting to scrape folio 506 v...\n",
      "status problem: 404\n",
      "https://digi.vatlib.it/iiifimage/MSS_Vat.sir.93/Vat.sir.93_1021_fa_0507r.jp2/full/full/0/native.jpg\n",
      "starting to scrape folio 507 r...\n",
      "status problem: 404\n",
      "https://digi.vatlib.it/iiifimage/MSS_Vat.sir.93/Vat.sir.93_1022_fa_0507v.jp2/full/full/0/native.jpg\n",
      "starting to scrape folio 507 v...\n",
      "status problem: 404\n",
      "https://digi.vatlib.it/iiifimage/MSS_Vat.sir.93/Vat.sir.93_1023_fa_0508r.jp2/full/full/0/native.jpg\n",
      "starting to scrape folio 508 r...\n",
      "status problem: 404\n",
      "https://digi.vatlib.it/iiifimage/MSS_Vat.sir.93/Vat.sir.93_1024_fa_0508v.jp2/full/full/0/native.jpg\n",
      "starting to scrape folio 508 v...\n",
      "status problem: 404\n",
      "https://digi.vatlib.it/iiifimage/MSS_Vat.sir.93/Vat.sir.93_1025_fa_0509r.jp2/full/full/0/native.jpg\n",
      "starting to scrape folio 509 r...\n",
      "status problem: 404\n",
      "https://digi.vatlib.it/iiifimage/MSS_Vat.sir.93/Vat.sir.93_1026_fa_0509v.jp2/full/full/0/native.jpg\n",
      "starting to scrape folio 509 v...\n",
      "status problem: 404\n",
      "https://digi.vatlib.it/iiifimage/MSS_Vat.sir.93/Vat.sir.93_1027_fa_0510r.jp2/full/full/0/native.jpg\n",
      "starting to scrape folio 510 r...\n",
      "status problem: 404\n",
      "https://digi.vatlib.it/iiifimage/MSS_Vat.sir.93/Vat.sir.93_1028_fa_0510v.jp2/full/full/0/native.jpg\n",
      "starting to scrape folio 510 v...\n",
      "status problem: 404\n",
      "https://digi.vatlib.it/iiifimage/MSS_Vat.sir.93/Vat.sir.93_1029_fa_0511r.jp2/full/full/0/native.jpg\n",
      "starting to scrape folio 511 r...\n",
      "status problem: 404\n",
      "https://digi.vatlib.it/iiifimage/MSS_Vat.sir.93/Vat.sir.93_1030_fa_0511v.jp2/full/full/0/native.jpg\n",
      "starting to scrape folio 511 v...\n",
      "status problem: 404\n",
      "https://digi.vatlib.it/iiifimage/MSS_Vat.sir.93/Vat.sir.93_1031_fa_0512r.jp2/full/full/0/native.jpg\n",
      "starting to scrape folio 512 r...\n",
      "status problem: 404\n",
      "https://digi.vatlib.it/iiifimage/MSS_Vat.sir.93/Vat.sir.93_1032_fa_0512v.jp2/full/full/0/native.jpg\n",
      "starting to scrape folio 512 v...\n",
      "status problem: 404\n",
      "https://digi.vatlib.it/iiifimage/MSS_Vat.sir.93/Vat.sir.93_1033_fa_0513r.jp2/full/full/0/native.jpg\n",
      "starting to scrape folio 513 r...\n",
      "status problem: 404\n",
      "https://digi.vatlib.it/iiifimage/MSS_Vat.sir.93/Vat.sir.93_1034_fa_0513v.jp2/full/full/0/native.jpg\n",
      "starting to scrape folio 513 v...\n",
      "status problem: 404\n",
      "https://digi.vatlib.it/iiifimage/MSS_Vat.sir.93/Vat.sir.93_1035_fa_0514r.jp2/full/full/0/native.jpg\n",
      "starting to scrape folio 514 r...\n",
      "status problem: 404\n",
      "https://digi.vatlib.it/iiifimage/MSS_Vat.sir.93/Vat.sir.93_1036_fa_0514v.jp2/full/full/0/native.jpg\n",
      "starting to scrape folio 514 v...\n",
      "status problem: 404\n",
      "https://digi.vatlib.it/iiifimage/MSS_Vat.sir.93/Vat.sir.93_1037_fa_0515r.jp2/full/full/0/native.jpg\n",
      "starting to scrape folio 515 r...\n",
      "status problem: 404\n",
      "https://digi.vatlib.it/iiifimage/MSS_Vat.sir.93/Vat.sir.93_1038_fa_0515v.jp2/full/full/0/native.jpg\n",
      "starting to scrape folio 515 v...\n",
      "status problem: 404\n",
      "https://digi.vatlib.it/iiifimage/MSS_Vat.sir.93/Vat.sir.93_1039_fa_0516r.jp2/full/full/0/native.jpg\n",
      "starting to scrape folio 516 r...\n",
      "status problem: 404\n",
      "https://digi.vatlib.it/iiifimage/MSS_Vat.sir.93/Vat.sir.93_1040_fa_0516v.jp2/full/full/0/native.jpg\n",
      "starting to scrape folio 516 v...\n",
      "status problem: 404\n",
      "https://digi.vatlib.it/iiifimage/MSS_Vat.sir.93/Vat.sir.93_1041_fa_0517r.jp2/full/full/0/native.jpg\n",
      "starting to scrape folio 517 r...\n",
      "status problem: 404\n",
      "https://digi.vatlib.it/iiifimage/MSS_Vat.sir.93/Vat.sir.93_1042_fa_0517v.jp2/full/full/0/native.jpg\n",
      "starting to scrape folio 517 v...\n",
      "status problem: 404\n"
     ]
    }
   ],
   "source": [
    "#ms_name, first_page, first_folio, first_side, last_page, last_folio, last_side\n",
    "#scrape_vatican_jpgsII(126, 307, 152, 'r', 610, 303, 'v')\n",
    "scrape_vatican_jpgsII('93', 106, 49, 'v', 418, 205, 'v') #check holes in page vat 376 p. 16 and 126.pt.2 p. 98\n"
   ]
  },
  {
   "cell_type": "code",
   "execution_count": 24,
   "metadata": {},
   "outputs": [],
   "source": [
    "last_page = 'https://digi.vatlib.it/iiifimage/MSS_Vat.sir.123/Vat.sir.123_0610_fa_0303v.jp2/full/full/0/native.jpg'\n",
    "first_page = 'https://digi.vatlib.it/iiifimage/MSS_Vat.sir.123/Vat.sir.123_0005_fa_0001r.jp2/full/full/0/native.jpg'\n",
    "#next_list = vat 377 (1, 253), [hmml = SMMJ 00129 - unnecessary - has only isaiah and cyprianus]\n",
    "\n",
    "single_page_reg = re.compile(\n",
    "'((?P<title>(.*)sir.(?P<ms>\\d+)\\/(.*?\\D(\\d+))_)(?P<page>\\d+).*((?P<folio>\\d+)(?P<side>[rv]))(?P<end>.*))',\n",
    "        re.DOTALL | re.MULTILINE | re.UNICODE)"
   ]
  },
  {
   "cell_type": "code",
   "execution_count": 3,
   "metadata": {},
   "outputs": [],
   "source": [
    "def scrape_vatican_jpgs(first_page, last_page):\n",
    "        \n",
    "    last = re.search(single_page_reg, last_page)\n",
    "    first = re.search(single_page_reg, first_page)\n",
    "    \n",
    "    ms_name = f'Vat. Sir. {first.group(\"ms\")}'\n",
    "    ms_title = first.group('title')\n",
    "    ms_end = first.group('end')\n",
    "    \n",
    "    \n",
    "    first_digi_page = int(first.group('page'))\n",
    "    first_ms_folio = int(first.group('folio'))\n",
    "    first_folio_side = first.group('side')\n",
    "    \n",
    "    last_digi_page = int(last.group('page'))\n",
    "    last_ms_folio = int(last.group('folio'))\n",
    "    last_folio_side = last.group('side')\n",
    "    \n",
    "    #single_pages = [f\"{i:03d}\" for i in range(first_digi_page, last_digi_page+1)]\n",
    "    \n",
    "    os.makedirs(ms_name, exist_ok=True)\n",
    "    session = requests.Session()\n",
    "\n",
    "    #if first link folio is v\n",
    "#     first_page = 'https://digi.vatlib.it/iiifimage/MSS_Vat.sir.93/Vat.sir.93_0014_fa_0003v.jp2/full/463,/0/native.jpg'\n",
    "#     scrape_from_link(first_page, ms_name, f'{first_digi_page} v', session)\n",
    "#    folio_count = first_ms_folio+1\n",
    "\n",
    "    folio_count = first_ms_folio\n",
    "    page_count = first_digi_page\n",
    "    for i in range(last_ms_folio-1):\n",
    "        try:\n",
    "            link_r = f'{ms_title}{str(page_count).zfill(4)}_fa_{str(folio_count).zfill(4)}r{ms_end}'\n",
    "            print(link_r)\n",
    "            scrape_from_link(link_r, ms_name, f'{page_count} r', session)\n",
    "            page_count = page_count+1\n",
    "        except Exception as e:\n",
    "            print(e)\n",
    "        try:\n",
    "            link_v = f'{ms_title}{str(page_count).zfill(4)}_fa_{str(folio_count).zfill(4)}v{ms_end}'\n",
    "            print(link_v)\n",
    "            scrape_from_link(link_v, ms_name, f'{page_count} v', session)\n",
    "            page_count = page_count+1\n",
    "            folio_count = folio_count+1\n",
    "        except Exception as e:\n",
    "            print(e)\n",
    "        \n",
    "            \n"
   ]
  }
 ],
 "metadata": {
  "kernelspec": {
   "display_name": "Python 3",
   "language": "python",
   "name": "python3"
  },
  "language_info": {
   "codemirror_mode": {
    "name": "ipython",
    "version": 3
   },
   "file_extension": ".py",
   "mimetype": "text/x-python",
   "name": "python",
   "nbconvert_exporter": "python",
   "pygments_lexer": "ipython3",
   "version": "3.7.4"
  }
 },
 "nbformat": 4,
 "nbformat_minor": 2
}
