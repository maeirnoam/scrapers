{
 "cells": [
  {
   "cell_type": "code",
   "execution_count": 1,
   "metadata": {},
   "outputs": [],
   "source": [
    "import pandas as pd\n",
    "from bs4 import BeautifulSoup\n",
    "import lxml\n",
    "import requests\n",
    "from PIL import Image \n",
    "import io\n",
    "import re\n",
    "import os\n",
    "from fpdf import FPDF\n",
    "import urllib\n",
    "from urllib.request import Request, urlopen, HTTPSHandler\n",
    "import time\n"
   ]
  },
  {
   "cell_type": "code",
   "execution_count": 35,
   "metadata": {},
   "outputs": [],
   "source": []
  },
  {
   "cell_type": "code",
   "execution_count": 43,
   "metadata": {},
   "outputs": [
    {
     "name": "stderr",
     "output_type": "stream",
     "text": [
      "Some characters could not be decoded, and were replaced with REPLACEMENT CHARACTER.\n"
     ]
    },
    {
     "data": {
      "text/plain": [
       "bs4.BeautifulSoup"
      ]
     },
     "execution_count": 43,
     "metadata": {},
     "output_type": "execute_result"
    }
   ],
   "source": []
  },
  {
   "cell_type": "code",
   "execution_count": 64,
   "metadata": {},
   "outputs": [
    {
     "data": {
      "text/plain": [
       "_io.BytesIO"
      ]
     },
     "execution_count": 64,
     "metadata": {},
     "output_type": "execute_result"
    }
   ],
   "source": [
    "type(io_img)"
   ]
  },
  {
   "cell_type": "code",
   "execution_count": 44,
   "metadata": {},
   "outputs": [
    {
     "ename": "TypeError",
     "evalue": "a bytes-like object is required, not 'BeautifulSoup'",
     "output_type": "error",
     "traceback": [
      "\u001b[1;31m---------------------------------------------------------------------------\u001b[0m",
      "\u001b[1;31mTypeError\u001b[0m                                 Traceback (most recent call last)",
      "\u001b[1;32m<ipython-input-44-4d1a1ba0b927>\u001b[0m in \u001b[0;36m<module>\u001b[1;34m\u001b[0m\n\u001b[1;32m----> 1\u001b[1;33m \u001b[0mio_img\u001b[0m \u001b[1;33m=\u001b[0m \u001b[0mio\u001b[0m\u001b[1;33m.\u001b[0m\u001b[0mBytesIO\u001b[0m\u001b[1;33m(\u001b[0m\u001b[0msoup\u001b[0m\u001b[1;33m)\u001b[0m\u001b[1;33m\u001b[0m\u001b[1;33m\u001b[0m\u001b[0m\n\u001b[0m\u001b[0;32m      2\u001b[0m \u001b[0mimg\u001b[0m \u001b[1;33m=\u001b[0m \u001b[0mImage\u001b[0m\u001b[1;33m.\u001b[0m\u001b[0mopen\u001b[0m\u001b[1;33m(\u001b[0m\u001b[0mio_img\u001b[0m\u001b[1;33m)\u001b[0m\u001b[1;33m\u001b[0m\u001b[1;33m\u001b[0m\u001b[0m\n\u001b[0;32m      3\u001b[0m \u001b[0mimg\u001b[0m\u001b[1;33m.\u001b[0m\u001b[0msave\u001b[0m\u001b[1;33m(\u001b[0m\u001b[1;34m'Sinai Syr. 16/{}'\u001b[0m\u001b[1;33m.\u001b[0m\u001b[0mformat\u001b[0m\u001b[1;33m(\u001b[0m\u001b[0mimgName\u001b[0m\u001b[1;33m)\u001b[0m\u001b[1;33m)\u001b[0m\u001b[1;33m\u001b[0m\u001b[1;33m\u001b[0m\u001b[0m\n",
      "\u001b[1;31mTypeError\u001b[0m: a bytes-like object is required, not 'BeautifulSoup'"
     ]
    }
   ],
   "source": [
    "io_img = io.BytesIO(soup)\n",
    "img = Image.open(io_img)\n",
    "img.save('Sinai Syr. 16/{}'.format(imgName))"
   ]
  },
  {
   "cell_type": "code",
   "execution_count": 30,
   "metadata": {},
   "outputs": [],
   "source": [
    "last_page = 'https://www.vhmml.org/image/READING_ROOM/CFMM/CFMM%2000418/CFMM00418_287r_286v.JPG/full/1000,/0/default.jpg'\n",
    "first_page = 'https://www.vhmml.org/image/READING_ROOM/CFMM/CFMM%2000418/CFMM00418_008r_007v.JPG/full/1000,/0/default.jpg'\n",
    "left_link = 'https://www.vhmml.org/image/READING_ROOM/CFMM/CFMM%2000418/CFMM00418_009r_008v.JPG/2048,0,1952,2048/976,/0/default.jpg'\n",
    "right_link = 'https://www.vhmml.org/image/READING_ROOM/CFMM/CFMM%2000418/CFMM00418_009r_008v.JPG/0,0,2048,2048/1024,/0/default.jpg'\n"
   ]
  },
  {
   "cell_type": "code",
   "execution_count": 29,
   "metadata": {},
   "outputs": [
    {
     "data": {
      "text/plain": [
       "200"
      ]
     },
     "execution_count": 29,
     "metadata": {},
     "output_type": "execute_result"
    }
   ],
   "source": [
    "sp.status_code"
   ]
  },
  {
   "cell_type": "code",
   "execution_count": null,
   "metadata": {},
   "outputs": [],
   "source": [
    "\n",
    "\n",
    "all_mss = soup.find_all('span', {'class':'item-description-title'})\n",
    "all_a = []\n",
    "for i in all_mss:\n",
    "    temp = i.find_all('a')\n",
    "    all_a.append(temp)\n",
    "    \n",
    "ms_name = re.compile(r'(Syriac Manuscripts \\d+)', re.DOTALL|re.MULTILINE)\n",
    "manuscripts = {}\n",
    "for i in range(len(all_a)):\n",
    "    href = (all_a[i][0]['href'])\n",
    "    name = re.search(ms_name, str(all_a[i][0].contents[0])).group()\n",
    "    manuscripts.update({name:href})\n",
    "\n",
    "df = pd.DataFrame.from_dict(manuscripts, orient='index', columns=['link'])\n",
    "df.index.rename('Manuscript', inplace=True)\n",
    "df.to_csv('Sinai Syriac MSS links.csv')\n"
   ]
  },
  {
   "cell_type": "code",
   "execution_count": null,
   "metadata": {},
   "outputs": [],
   "source": []
  }
 ],
 "metadata": {
  "kernelspec": {
   "display_name": "Python 3",
   "language": "python",
   "name": "python3"
  },
  "language_info": {
   "codemirror_mode": {
    "name": "ipython",
    "version": 3
   },
   "file_extension": ".py",
   "mimetype": "text/x-python",
   "name": "python",
   "nbconvert_exporter": "python",
   "pygments_lexer": "ipython3",
   "version": "3.8.1"
  }
 },
 "nbformat": 4,
 "nbformat_minor": 4
}
