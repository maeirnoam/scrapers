{
 "cells": [
  {
   "cell_type": "code",
   "execution_count": 1,
   "metadata": {},
   "outputs": [],
   "source": [
    "import pandas as pd\n",
    "from bs4 import BeautifulSoup\n",
    "import time\n",
    "from selenium import webdriver"
   ]
  },
  {
   "cell_type": "code",
   "execution_count": 2,
   "metadata": {},
   "outputs": [],
   "source": [
    "#shouldn't change these:\n",
    "domain = \"https://www.nevo.co.il\"\n",
    "login_url = \"https://www.nevo.co.il/Authentication/UserLogin.aspx\" \n",
    "\n",
    "## initialize parameters\n",
    "url = \"https://www.nevo.co.il/SearchResults.aspx?query=ad27800a-3816-4206-b059-4690ecc2ffd3\" #search result URL\n",
    "driver_path = 'C:/Users/User/Downloads/chromedriver_win32/chromedriver.exe' #path to where Chromedriver was downloaded\n",
    "#folder_path = \"C://Users//noammaeir//PycharmProjects//Scrapers//scrapers\"\n",
    "folder_path = \"C:\\\\Users\\\\User\\\\NevoScrape\" #path to folder where files will be downloaded\n",
    "USER = 'noam.maeir@mail.huji.ac.il'  #username\n",
    "PASSWORD = 'Kids1120'  # password"
   ]
  },
  {
   "cell_type": "code",
   "execution_count": 3,
   "metadata": {},
   "outputs": [],
   "source": [
    "def log_in():    \n",
    "    chrome = webdriver.ChromeOptions()\n",
    "    chrome.add_experimental_option(\"prefs\", {'download.default_directory': folder_path})\n",
    "    driver = webdriver.Chrome(driver_path, options=chrome)\n",
    "    driver.get(login_url)\n",
    "    username = driver.find_element_by_id(\"ContentPlaceHolder1_LoginForm1_Login1_UserName\")\n",
    "    password = driver.find_element_by_id(\"ContentPlaceHolder1_LoginForm1_Login1_Password\")\n",
    "    username.send_keys(USER)\n",
    "    password.send_keys(PASSWORD)\n",
    "    driver.find_element_by_id(\"ContentPlaceHolder1_LoginForm1_Login1_LoginButton\").click()\n",
    "    return driver\n",
    "\n",
    "def scrape_from_link(url, driver):\n",
    "    print(f'starting to scrape {url}')\n",
    "    driver.get(url)\n",
    "    html = driver.page_source\n",
    "    soup = BeautifulSoup(html, 'html')\n",
    "    textlinks = soup.find_all(class_=\"docLink\")\n",
    "    for link in textlinks:\n",
    "        print(domain+link.get('href'))\n",
    "        driver.get(domain+link.get('href'))\n",
    "    print(f\"done scraping from {url}\")\n",
    "    check_next_page(url, driver)\n",
    "\n",
    "def check_next_page(url, driver):\n",
    "    driver.find_element_by_id(\"ContentPlaceHolder1_SearchResultsTemplate1_Paging2_btnNext\").click()\n",
    "    if driver.current_url != url:\n",
    "        scrape_from_link(driver.current_url, driver)\n",
    "    else:\n",
    "        print(\"done scraping all pages\")\n",
    "        \n",
    "    \n",
    "def run_scraper():\n",
    "    driver = log_in()\n",
    "    scrape_from_link(url, driver)\n",
    "    time.sleep(20)\n",
    "    driver.quit()\n"
   ]
  },
  {
   "cell_type": "code",
   "execution_count": 4,
   "metadata": {},
   "outputs": [
    {
     "name": "stderr",
     "output_type": "stream",
     "text": [
      "<ipython-input-3-45be314c2e92>:4: DeprecationWarning: executable_path has been deprecated, please pass in a Service object\n",
      "  driver = webdriver.Chrome(driver_path, options=chrome)\n",
      "<ipython-input-3-45be314c2e92>:6: DeprecationWarning: find_element_by_* commands are deprecated. Please use find_element() instead\n",
      "  username = driver.find_element_by_id(\"ContentPlaceHolder1_LoginForm1_Login1_UserName\")\n",
      "<ipython-input-3-45be314c2e92>:7: DeprecationWarning: find_element_by_* commands are deprecated. Please use find_element() instead\n",
      "  password = driver.find_element_by_id(\"ContentPlaceHolder1_LoginForm1_Login1_Password\")\n",
      "<ipython-input-3-45be314c2e92>:10: DeprecationWarning: find_element_by_* commands are deprecated. Please use find_element() instead\n",
      "  driver.find_element_by_id(\"ContentPlaceHolder1_LoginForm1_Login1_LoginButton\").click()\n"
     ]
    },
    {
     "name": "stdout",
     "output_type": "stream",
     "text": [
      "starting to scrape https://www.nevo.co.il/SearchResults.aspx?query=ad27800a-3816-4206-b059-4690ecc2ffd3\n",
      "https://www.nevo.co.il/psika_word/elyon/21079690-A02.doc\n",
      "https://www.nevo.co.il/psika_word/elyon/21079840-A05.doc\n",
      "https://www.nevo.co.il/psika_word/elyon/21080980-A01.doc\n",
      "https://www.nevo.co.il/psika_word/elyon/21077780-E02.doc\n",
      "https://www.nevo.co.il/psika_word/elyon/21079750-A01.doc\n",
      "https://www.nevo.co.il/psika_word/elyon/21081260-A01.doc\n",
      "https://www.nevo.co.il/psika_word/elyon/21080120-A02.doc\n",
      "https://www.nevo.co.il/psika_word/elyon/21080620-A01.doc\n",
      "https://www.nevo.co.il/psika_word/elyon/21080260-A02.doc\n",
      "https://www.nevo.co.il/psika_word/elyon/21080510-A01.doc\n",
      "done scraping from https://www.nevo.co.il/SearchResults.aspx?query=ad27800a-3816-4206-b059-4690ecc2ffd3\n"
     ]
    },
    {
     "name": "stderr",
     "output_type": "stream",
     "text": [
      "<ipython-input-3-45be314c2e92>:26: DeprecationWarning: find_element_by_* commands are deprecated. Please use find_element() instead\n",
      "  driver.find_element_by_id(\"ContentPlaceHolder1_SearchResultsTemplate1_Paging2_btnNext\").click()\n"
     ]
    },
    {
     "name": "stdout",
     "output_type": "stream",
     "text": [
      "starting to scrape https://www.nevo.co.il/SearchResults.aspx?query=ad27800a-3816-4206-b059-4690ecc2ffd3&page=2\n",
      "https://www.nevo.co.il/psika_word/elyon/21081340-A01.doc\n",
      "https://www.nevo.co.il/psika_word/elyon/21069170-O02.doc\n",
      "https://www.nevo.co.il/psika_word/elyon/21081310-A02.doc\n",
      "https://www.nevo.co.il/psika_word/elyon/21081500-F03.doc\n",
      "https://www.nevo.co.il/psika_word/elyon/21079090-E03.doc\n",
      "https://www.nevo.co.il/psika_word/elyon/21081590-F01.doc\n",
      "https://www.nevo.co.il/psika_word/elyon/21082120-F01.doc\n",
      "https://www.nevo.co.il/psika_word/elyon/21081460-F01.doc\n",
      "https://www.nevo.co.il/psika_word/elyon/21081700-F02.doc\n",
      "https://www.nevo.co.il/psika_word/elyon/21082570-F01.doc\n",
      "done scraping from https://www.nevo.co.il/SearchResults.aspx?query=ad27800a-3816-4206-b059-4690ecc2ffd3&page=2\n",
      "starting to scrape https://www.nevo.co.il/SearchResults.aspx?query=ad27800a-3816-4206-b059-4690ecc2ffd3&page=3\n",
      "https://www.nevo.co.il/psika_word/elyon/21082450-F01.doc\n",
      "https://www.nevo.co.il/psika_word/elyon/21079740-D02.doc\n",
      "https://www.nevo.co.il/psika_word/elyon/21078590-E02.doc\n",
      "https://www.nevo.co.il/psika_word/elyon/21081990-F01.doc\n",
      "https://www.nevo.co.il/psika_word/elyon/21081800-F01.doc\n",
      "https://www.nevo.co.il/psika_word/elyon/21081810-F01.doc\n",
      "https://www.nevo.co.il/psika_word/elyon/21080750-A04.doc\n",
      "https://www.nevo.co.il/psika_word/elyon/21081350-F01.doc\n",
      "https://www.nevo.co.il/psika_word/elyon/21072300-Y03.doc\n",
      "https://www.nevo.co.il/psika_word/elyon/21081470-F01.doc\n",
      "done scraping from https://www.nevo.co.il/SearchResults.aspx?query=ad27800a-3816-4206-b059-4690ecc2ffd3&page=3\n",
      "starting to scrape https://www.nevo.co.il/SearchResults.aspx?query=ad27800a-3816-4206-b059-4690ecc2ffd3&page=4\n",
      "https://www.nevo.co.il/psika_word/elyon/21081830-F01.doc\n",
      "https://www.nevo.co.il/psika_word/elyon/21081500-F04.doc\n",
      "https://www.nevo.co.il/psika_word/elyon/21081860-F01.doc\n",
      "https://www.nevo.co.il/psika_word/elyon/21081970-F01.doc\n",
      "https://www.nevo.co.il/psika_word/elyon/21082080-F01.doc\n",
      "https://www.nevo.co.il/psika_word/elyon/21082090-F01.doc\n",
      "https://www.nevo.co.il/psika_word/elyon/21080110-A03.doc\n",
      "https://www.nevo.co.il/psika_word/elyon/21081010-A01.doc\n",
      "https://www.nevo.co.il/psika_word/elyon/21081680-F01.doc\n",
      "https://www.nevo.co.il/psika_word/elyon/21081700-F01.doc\n",
      "done scraping from https://www.nevo.co.il/SearchResults.aspx?query=ad27800a-3816-4206-b059-4690ecc2ffd3&page=4\n",
      "starting to scrape https://www.nevo.co.il/SearchResults.aspx?query=ad27800a-3816-4206-b059-4690ecc2ffd3&page=5\n",
      "https://www.nevo.co.il/psika_word/elyon/21081490-F01.doc\n",
      "https://www.nevo.co.il/psika_word/elyon/21082110-F01.doc\n",
      "https://www.nevo.co.il/psika_word/elyon/21082440-F01.doc\n",
      "https://www.nevo.co.il/psika_word/elyon/21082610-F01.doc\n",
      "done scraping from https://www.nevo.co.il/SearchResults.aspx?query=ad27800a-3816-4206-b059-4690ecc2ffd3&page=5\n",
      "done scraping all pages\n"
     ]
    }
   ],
   "source": [
    "run_scraper()"
   ]
  },
  {
   "cell_type": "code",
   "execution_count": null,
   "metadata": {},
   "outputs": [],
   "source": []
  }
 ],
 "metadata": {
  "kernelspec": {
   "display_name": "Python 3",
   "language": "python",
   "name": "python3"
  },
  "language_info": {
   "codemirror_mode": {
    "name": "ipython",
    "version": 3
   },
   "file_extension": ".py",
   "mimetype": "text/x-python",
   "name": "python",
   "nbconvert_exporter": "python",
   "pygments_lexer": "ipython3",
   "version": "3.8.8"
  }
 },
 "nbformat": 4,
 "nbformat_minor": 2
}
